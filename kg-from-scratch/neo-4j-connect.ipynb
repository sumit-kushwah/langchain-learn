{
 "cells": [
  {
   "cell_type": "markdown",
   "metadata": {},
   "source": [
    "\n",
    "### Docker command to run neo4j\n",
    "\n",
    "```bash\n",
    "docker run \\\n",
    "    --restart always \\\n",
    "    --publish=7474:7474 --publish=7687:7687 \\\n",
    "    --env NEO4J_AUTH=neo4j/1234 \\\n",
    "    --volume=/Users/ksumit/Development/Personal/langchain-development/kg-from-scratch/neo-4j-data:/data \\\n",
    "    neo4j:2025.03.0\n",
    "```"
   ]
  },
  {
   "cell_type": "markdown",
   "metadata": {},
   "source": [
    "### Questiosn Needs to be answered\n",
    "\n",
    "1. Is this product pharma drug banned for sale?\n",
    "2. Is this product a controlled drug like schedule h, h1, x etc?\n",
    "3. Is this product a prescription drug?\n",
    "4. Is this product a generic drug?"
   ]
  },
  {
   "cell_type": "code",
   "execution_count": null,
   "metadata": {},
   "outputs": [],
   "source": []
  }
 ],
 "metadata": {
  "kernelspec": {
   "display_name": "base",
   "language": "python",
   "name": "python3"
  },
  "language_info": {
   "name": "python",
   "version": "3.12.2"
  }
 },
 "nbformat": 4,
 "nbformat_minor": 2
}
