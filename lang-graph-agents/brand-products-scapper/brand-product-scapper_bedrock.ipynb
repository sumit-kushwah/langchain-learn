{
 "cells": [
  {
   "cell_type": "markdown",
   "metadata": {},
   "source": [
    "### Import Libraries and environment variables setup"
   ]
  },
  {
   "cell_type": "code",
   "execution_count": 1,
   "metadata": {},
   "outputs": [
    {
     "name": "stderr",
     "output_type": "stream",
     "text": [
      "/opt/miniconda3/envs/aws_env/lib/python3.12/site-packages/tqdm/auto.py:21: TqdmWarning: IProgress not found. Please update jupyter and ipywidgets. See https://ipywidgets.readthedocs.io/en/stable/user_install.html\n",
      "  from .autonotebook import tqdm as notebook_tqdm\n"
     ]
    }
   ],
   "source": [
    "import os\n",
    "import load_dotenv\n",
    "import nest_asyncio\n",
    "nest_asyncio.apply()\n",
    "load_dotenv.load_dotenv()\n",
    "import asyncio\n",
    "from playwright.async_api import async_playwright\n",
    "from langchain_aws import ChatBedrock\n",
    "from langchain_core.tools import Tool\n",
    "from langchain_core.documents import Document\n",
    "from langchain_google_community import GoogleSearchAPIWrapper\n",
    "from langchain_core.messages import SystemMessage, HumanMessage\n",
    "from langgraph.constants import Send\n",
    "from langchain_community.document_transformers import Html2TextTransformer\n",
    "from langgraph.graph import StateGraph, START, END\n",
    "from IPython.display import display, Image\n",
    "from sentence_transformers import SentenceTransformer, util"
   ]
  },
  {
   "cell_type": "markdown",
   "metadata": {},
   "source": [
    "### LLM Setup"
   ]
  },
  {
   "cell_type": "code",
   "execution_count": 2,
   "metadata": {},
   "outputs": [],
   "source": [
    "llm = ChatBedrock(\n",
    "    model_id=\"us.anthropic.claude-3-5-sonnet-20241022-v2:0\",\n",
    "    model_kwargs=dict(temperature=0.2),\n",
    ")"
   ]
  },
  {
   "cell_type": "code",
   "execution_count": null,
   "metadata": {},
   "outputs": [],
   "source": [
    "llm.invoke(\"hi\").content"
   ]
  },
  {
   "cell_type": "markdown",
   "metadata": {},
   "source": [
    "### Structured output llms definition"
   ]
  },
  {
   "cell_type": "code",
   "execution_count": 4,
   "metadata": {},
   "outputs": [
    {
     "name": "stderr",
     "output_type": "stream",
     "text": [
      "/opt/miniconda3/envs/aws_env/lib/python3.12/site-packages/pydantic/json_schema.py:2279: PydanticJsonSchemaWarning: Default value (FieldInfo(annotation=NoneType, required=False, default=None, description='Product variants detail.'),) is not JSON serializable; excluding default from JSON schema [non-serializable-default]\n",
      "  warnings.warn(message, PydanticJsonSchemaWarning)\n"
     ]
    }
   ],
   "source": [
    "from typing import Annotated, List, TypedDict, operator, Dict, Optional, Tuple\n",
    "from pydantic import BaseModel, Field\n",
    "\n",
    "class Product(BaseModel):\n",
    "    product_id: Optional[str] = Field(None, description=\"Unique product identifier.\")\n",
    "    name: str = Field(None, description=\"Standardized product name.\")\n",
    "    brand: str = Field(None, description=\"Brand information.\")\n",
    "    model_number: Optional[str] = Field(None, description=\"Product model number.\")\n",
    "    description: str = Field(None, description=\"Product description.\")\n",
    "    specifications: Dict[str, str] = Field(None, description=\"Detailed product specifications.\")\n",
    "    product_variants: Optional[List[Dict]] = Field(None, description=\"Product variants detail.\"),\n",
    "    images: List[str] = Field(None, description=\"List of high-quality product image URLs.\")\n",
    "    category: str = Field(None, description=\"Product category.\")\n",
    "    subcategory: str = Field(None, description=\"Product subcategory.\")\n",
    "    price_range: Tuple[float, float] = Field(None, description=\"Pricing reference range (min, max).\")\n",
    "    price_unit: str = Field(None, description=\"Currency unit for pricing.\")\n",
    "    ref_link: str = Field(None, description=\"Reference link to the product page.\")\n",
    "\n",
    "class ProductListing(BaseModel):\n",
    "    products: List[Product] = Field(None, description=\"Product list with details for given category.\")\n",
    "\n",
    "class SearchQuery(BaseModel):\n",
    "    search_query: str = Field(None, title=\"Search Query\", description=\"Query that is optimized for search engines\")\n",
    "    justification: str = Field(None, title=\"Justification\", description=\"Why this query is relevant for the user's request\")\n",
    " \n",
    "product_llm = llm.with_structured_output(Product)\n",
    "search_query_llm = llm.with_structured_output(SearchQuery)"
   ]
  },
  {
   "cell_type": "code",
   "execution_count": 5,
   "metadata": {},
   "outputs": [],
   "source": [
    "import pandas as pd\n",
    "from typing import List\n",
    "def save_products_in_csv(products: List[Product], file_path: str) -> None:\n",
    "    \"\"\"\n",
    "    Save the product list to a CSV file.\n",
    "    \"\"\"\n",
    "    df = pd.DataFrame([product.model_dump() for product in products])\n",
    "    df.to_csv(file_path, index=False)"
   ]
  },
  {
   "cell_type": "markdown",
   "metadata": {},
   "source": [
    "### Langgraph State Definition"
   ]
  },
  {
   "cell_type": "code",
   "execution_count": 6,
   "metadata": {},
   "outputs": [],
   "source": [
    "# Graph State\n",
    "class State(TypedDict):\n",
    "    search_query: str\n",
    "    product_listing_links: list\n",
    "    category_name: str\n",
    "    category_type: str\n",
    "    products: List[Product]\n",
    "    product_detail_page_links: Annotated[list, operator.add]\n",
    "    completed_products: Annotated[list, operator.add] # all workers write to this in parallel\n",
    "\n",
    "class ProductDetailPageLinkWorkerState(TypedDict):\n",
    "    category_name: str\n",
    "    product_listing_link: str\n",
    "    product_detail_page_links: Annotated[list, operator.add]\n",
    "\n",
    "class WorkerState(TypedDict):\n",
    "    link: str\n",
    "    products: List[Product]\n",
    "    completed_products: Annotated[list, operator.add]"
   ]
  },
  {
   "cell_type": "markdown",
   "metadata": {},
   "source": [
    "### Langgraph Function and Tools Define"
   ]
  },
  {
   "cell_type": "code",
   "execution_count": 12,
   "metadata": {},
   "outputs": [],
   "source": [
    "search = GoogleSearchAPIWrapper()\n",
    "def top_results(query):\n",
    "    return search.results(query, 10, {\n",
    "        \"gl\": \"in\",\n",
    "        \"cr\": \"countryIN\",\n",
    "        \"hl\": \"en\",\n",
    "    })\n",
    "\n",
    "tool = Tool(\n",
    "    name=\"Google Search Snippets\",\n",
    "    description=\"Search Google for recent results.\",\n",
    "    func=top_results,\n",
    ")"
   ]
  },
  {
   "cell_type": "code",
   "execution_count": 14,
   "metadata": {},
   "outputs": [],
   "source": [
    "async def scrape(link: str):\n",
    "    async with async_playwright() as p:\n",
    "        browser = await p.chromium.launch(headless=True)\n",
    "        page = await browser.new_page()\n",
    "        await page.goto(link, wait_until=\"domcontentloaded\", timeout=0)\n",
    "        # await page.goto(link, wait_until=\"networkidle\", timeout=0)\n",
    "\n",
    "        html = await page.content()\n",
    "        await browser.close()\n",
    "        return html"
   ]
  },
  {
   "cell_type": "code",
   "execution_count": 15,
   "metadata": {},
   "outputs": [],
   "source": [
    "def compare_strings(str1: str, str2: str, model_name: str = \"all-MiniLM-L6-v2\") -> float:\n",
    "    \"\"\"\n",
    "    Compare two strings using a Hugging Face Sentence Transformer model and return the similarity score.\n",
    "    \n",
    "    Args:\n",
    "        str1 (str): First string.\n",
    "        str2 (str): Second string.\n",
    "        model_name (str): Name of the pre-trained sentence transformer model.\n",
    "                          Default is \"all-MiniLM-L6-v2\".\n",
    "\n",
    "    Returns:\n",
    "        float: Cosine similarity score between the two strings (range: 0 to 1).\n",
    "    \"\"\"\n",
    "    model = SentenceTransformer(model_name)\n",
    "    embeddings = model.encode([str1, str2], convert_to_tensor=True)\n",
    "    similarity = util.pytorch_cos_sim(embeddings[0], embeddings[1]).item()\n",
    "    return similarity"
   ]
  },
  {
   "cell_type": "markdown",
   "metadata": {},
   "source": [
    "### Langgraph Nodes Define"
   ]
  },
  {
   "cell_type": "code",
   "execution_count": 22,
   "metadata": {},
   "outputs": [],
   "source": [
    "# Nodes\n",
    "class CategoryType(BaseModel):\n",
    "    category_type: str = Field(None, title=\"Category Type\", description=\"Type of category one of [generic, brand]\")\n",
    "\n",
    "def check_brand_category_type(state: State):\n",
    "    print(\"started.....\")\n",
    "    result = llm.with_structured_output(CategoryType).invoke(f\"Check if {state['category_name']} is a brand product category or generic category.\")\n",
    "    print(result)\n",
    "    return {\"category_type\": result.category_type}\n",
    "    \n",
    "def continue_or_stop(state: State):\n",
    "    if state[\"category_type\"] == \"brand\":\n",
    "        return \"get_search_engine_query\"\n",
    "    else:\n",
    "        return END\n",
    "\n",
    "def get_search_engine_query(state: State):\n",
    "    search_query = llm.with_structured_output(SearchQuery).invoke(\n",
    "        f\"Get a simple user search query for {state['category_name']} category to find pages for product listing.\"\n",
    "        )\n",
    "    print(search_query)\n",
    "    return {\"search_query\": search_query.search_query + \" in india.\" }\n",
    "\n",
    "class ProductListingPageLinks(BaseModel):\n",
    "    links: list = Field(None, description=\"Product listing page links relevant to provided brand category name.\")\n",
    "\n",
    "def get_product_listing_page_links(state: State):\n",
    "    product_listing_links = state.get('product_listing_links')\n",
    "    if product_listing_links is None or len(product_listing_links) == 0:\n",
    "        results = tool.run(state[\"search_query\"])\n",
    "        print(results)\n",
    "        links = llm.with_structured_output(ProductListingPageLinks).invoke(\n",
    "            f\"Filter out product listing page links relevant to {state['category_name']} category in search results. results: {results}\"\n",
    "        )\n",
    "        product_listing_links = links.links\n",
    "        print(\"google search product listing links: \", product_listing_links)\n",
    "    return {\"product_listing_links\": product_listing_links}\n",
    "\n",
    "class PdpLinkPages(BaseModel):\n",
    "    pdp_links: list = Field(None, description=\"Product detail page links relevant to provided product listing page links.\")\n",
    "\n",
    "def scrap_and_get_pdp_links(worker_state: ProductDetailPageLinkWorkerState):\n",
    "    try:\n",
    "        html = asyncio.run(scrape(worker_state[\"product_listing_link\"]))\n",
    "        html_transformer = Html2TextTransformer(ignore_links=False)\n",
    "        docs_transformed = html_transformer.transform_documents([Document(page_content=html)])\n",
    "        content = docs_transformed[0].page_content\n",
    "        # print(content)\n",
    "        \n",
    "        product_detail_page_links = llm.with_structured_output(PdpLinkPages).invoke(\n",
    "            [\n",
    "                SystemMessage(content=\"You are proudct detail page url collector from given raw content.\"),\n",
    "                HumanMessage(content=f\"Give proper formatted list of product detail page links in following content belonging to {worker_state['category_name']} category if present else empty list: {content}\")\n",
    "            ]\n",
    "        )\n",
    "        domain_name = worker_state[\"product_listing_link\"].split(\"/\")[2]\n",
    "        product_detail_page_links.pdp_links = [link if \"http\" in link else f\"https://{domain_name}{link}\" for link in product_detail_page_links.pdp_links]\n",
    "        return {\"product_detail_page_links\": product_detail_page_links.pdp_links}\n",
    "    except Exception as e:\n",
    "        print(str(e))\n",
    "        return {\"error\": str(e)}\n",
    "\n",
    "def get_product_detail_page_links(state: State):\n",
    "    if len(state[\"product_listing_links\"]) > 0:\n",
    "        print(\"Product Listing Page Links\")\n",
    "        print(state[\"product_listing_links\"])\n",
    "    return [Send(\"scrap_and_get_pdp_links\", {\"product_listing_link\": link, \"category_name\": state[\"category_name\"]}) for link in state[\"product_listing_links\"]]\n",
    "\n",
    "def scrap_and_get_products(worker_state: WorkerState):\n",
    "    try:\n",
    "        html = asyncio.run(scrape(worker_state[\"link\"]))\n",
    "        html_transformer = Html2TextTransformer(ignore_images=False)\n",
    "        docs_transformed = html_transformer.transform_documents([Document(page_content=html)])\n",
    "        content = docs_transformed[0].page_content\n",
    "        \n",
    "        product_result = product_llm.invoke(\n",
    "            [\n",
    "                SystemMessage(content=\"You are product detail extractor from given raw content.\"),\n",
    "                HumanMessage(content=f\"Give proper product detail in following content: {content}\")\n",
    "            ]\n",
    "        )\n",
    "        if product_result.images is not None:\n",
    "            product_result.images = [image if \"http\" in image else f\"https://{worker_state['link'].split('/')[2]}{image}\" for image in product_result.images]\n",
    "        \n",
    "        product_result.ref_link = worker_state[\"link\"]\n",
    "        return {\"completed_products\": [product_result]}\n",
    "    except Exception as e:\n",
    "        print(str(e))\n",
    "        return {\"error\": str(e)}\n",
    "\n",
    "def assign_workers_to_links(state: State):\n",
    "    if len(state[\"product_detail_page_links\"]) > 0:\n",
    "        print(\"Product Detail Page Links\")\n",
    "        print(state[\"product_detail_page_links\"])\n",
    "    return [Send(\"scrap_and_get_products\", {\"link\": link}) for link in state[\"product_detail_page_links\"]]\n",
    "\n",
    "def synthesizer(state: State):\n",
    "    unique_products = [] # based on model number\n",
    "    for product in state[\"completed_products\"]:\n",
    "        if product.model_number is None or product.model_number not in [p.model_number for p in unique_products]:\n",
    "            unique_products.append(product)\n",
    "            \n",
    "    # unique_products1 = [] \n",
    "    # compare products based on name and description and save them in unique_products1\n",
    "    # for product in unique_products:\n",
    "    #     if product.name is None or product.description is None:\n",
    "    #         continue\n",
    "    #     if len(unique_products1) == 0:\n",
    "    #         unique_products1.append(product)\n",
    "    #     else:\n",
    "    #         for p in unique_products1:\n",
    "    #             similarity = compare_strings(product.name, p.name)\n",
    "    #             if similarity < 0.8:\n",
    "    #                 unique_products1.append(product)\n",
    "    #                 break\n",
    "    \n",
    "    return {\n",
    "        \"products\": unique_products\n",
    "    }"
   ]
  },
  {
   "cell_type": "markdown",
   "metadata": {},
   "source": [
    "### Compiling Langgraph"
   ]
  },
  {
   "cell_type": "code",
   "execution_count": 23,
   "metadata": {},
   "outputs": [
    {
     "data": {
      "image/png": "[encoded data removed]",
      "text/plain": [
       "<IPython.core.display.Image object>"
      ]
     },
     "metadata": {},
     "output_type": "display_data"
    }
   ],
   "source": [
    "# Build workflow\n",
    "b2b_products_repo_builder = StateGraph(State)\n",
    "\n",
    "# Add the nodes\n",
    "b2b_products_repo_builder.add_node(\"check_brand_category_type\", check_brand_category_type)\n",
    "b2b_products_repo_builder.add_node(\"get_search_engine_query\", get_search_engine_query)\n",
    "b2b_products_repo_builder.add_node(\"get_product_listing_page_links\", get_product_listing_page_links)\n",
    "b2b_products_repo_builder.add_node(\"scrap_and_get_pdp_links\", scrap_and_get_pdp_links)\n",
    "b2b_products_repo_builder.add_node(\"scrap_and_get_products\", scrap_and_get_products)\n",
    "b2b_products_repo_builder.add_node(\"synthesizer\", synthesizer)\n",
    "\n",
    "# Add edges to connect nodes\n",
    "b2b_products_repo_builder.add_edge(START, \"check_brand_category_type\")\n",
    "b2b_products_repo_builder.add_conditional_edges('check_brand_category_type', continue_or_stop, {\n",
    "    \"get_search_engine_query\": 'get_search_engine_query',\n",
    "    END: END\n",
    "})\n",
    "b2b_products_repo_builder.add_edge(\"get_search_engine_query\", \"get_product_listing_page_links\")\n",
    "b2b_products_repo_builder.add_conditional_edges(\n",
    "    \"get_product_listing_page_links\", get_product_detail_page_links, [\"scrap_and_get_pdp_links\"]\n",
    ")\n",
    "b2b_products_repo_builder.add_conditional_edges(\n",
    "    \"scrap_and_get_pdp_links\", assign_workers_to_links, [\"scrap_and_get_products\"]\n",
    ")\n",
    "b2b_products_repo_builder.add_edge(\"scrap_and_get_products\", \"synthesizer\")\n",
    "b2b_products_repo_builder.add_edge(\"synthesizer\", END)\n",
    "\n",
    "# Compile the workflow\n",
    "b2b_products_repo = b2b_products_repo_builder.compile()\n",
    "\n",
    "# Show the workflow\n",
    "display(Image(b2b_products_repo.get_graph().draw_mermaid_png()))"
   ]
  },
  {
   "cell_type": "code",
   "execution_count": 32,
   "metadata": {},
   "outputs": [
    {
     "name": "stdout",
     "output_type": "stream",
     "text": [
      "started.....\n",
      "category_type='brand'\n",
      "search_query='Dell laptop Intel Core i5 13th gen' justification=\"This search query is optimized to find Dell laptops specifically equipped with 13th generation Intel Core i5 processors. It includes the essential keywords (Dell, laptop, i5, 13th gen) that would typically return product listings from various retailers and Dell's own website.\"\n",
      "[{'title': '13th Gen Intel Core Dell Laptop Computers & 2-in-1s | Dell India', 'link': 'https://www.dell.com/en-in/shop/dell-laptops/scr/laptops/appref=13th-gen-intel-core-processor-generation', 'snippet': 'Dell laptops with 13th Gen Intel® Core™ processors: Power, performance, and innovation for your most demanding tasks.'}, {'title': 'Buy Dell Inspiron 15 3530 Intel Core i5 13th Gen Thin & Light ...', 'link': 'https://www.croma.com/dell-inspiron-15-3530-intel-core-i5-13th-gen-thin-light-laptop-16gb-512gb-ssd-windows-11-home-15-6-inch-full-hd-wva-ips-display-ms-office-home-student-2021-platinum-silver-1-62-kg-/p/306647', 'snippet': 'Dell Inspiron 15 3530 Intel Core i5 13th Gen Thin & Light Laptop (16GB, 512GB SSD, Windows 11 Home, 15.6 inch Full HD WVA IPS Display, MS Office Home & Student\\xa0...'}, {'title': 'Inspiron 15 Laptop | Dell India', 'link': 'https://www.dell.com/en-in/shop/dell-laptops/inspiron-15-laptop/spd/inspiron-15-3530-laptop', 'snippet': 'Processor. 13th Gen Intel® Core™ i3-1305U (5 cores, up to 4.5 GHz) · Operating System. Windows 11 Home Single Language, English · Video Card. Intel® UHD Graphics.'}, {'title': 'Dell 14 Laptop, 13th Gen Intel Core i5-1335U Processor/ 8GB ...', 'link': 'https://www.amazon.in/Dell-i5-1335U-Processor-Spill-Resistant-Keyboard/dp/B0C1Z4R6Z9', 'snippet': 'Processor: Intel 13th Generation Core i5-1335U, 3.40 GHz Speed (12MB 10 Cores) · RAM: 8 GB, 1 x 8 GB, DDR4, 2666 MHz // Storage: 512GB SSD · Software: Pre-Loaded\\xa0...'}, {'title': 'Dell Inspiron Laptop Computers & 2-in-1 PCs | Dell India', 'link': 'https://www.dell.com/en-in/shop/dell-laptops/scr/laptops/appref=inspiron-product-line', 'snippet': 'Intel Core i5 (6); Intel Core i3 (3); All AMD Processors (1); AMD Ryzen 5 (1) ... 13th Gen Intel Core (5); 12th Gen Intel Core (1); AMD Ryzen 7000 Series (1)'}, {'title': 'DELL Inspiron 5430 Intel Core i5 13th Gen - (16 GB/512 GB SSD ...', 'link': 'https://www.flipkart.com/dell-inspiron-5430-intel-core-i5-13th-gen-16-gb-ssd-512-gb-ssd-windows-11-home-in54308tr2g001ors1-thin-light-laptop/p/itm5c63db6341636', 'snippet': 'Buy DELL Inspiron 5430 Intel Core i5 13th Gen - (16 GB/512 GB SSD/Windows 11 Home) IN54308TR2G001ORS1 Thin and Light Laptop Online For Rs.93167 , Also get\\xa0...'}, {'title': 'Compare Dell Inspiron 3530 Laptop Intel 13th Gen i5-1335U/8GB ...', 'link': 'https://gadgetsnow.indiatimes.com/compare-laptops/dell-inspiron-3530-laptop-intel-13th-gen-i5-1335u8gb1tb-ssdwindows-11-vs-hp-15-fd0013tu-laptop-intel-core-i5-1335u16gb512gb-ssdwindows-11-vs-hp-15s-fq5112tu-laptop-intel-core-i5-1235u16gb512gb-ssdwindows-11', 'snippet': '... Core i5-1235U/16GB/512GB SSD/Windows 11 comparison on basis of storage ... India. Offer Price. 1,02,975, 63,789. 49,500. List Price. 1,49,000, 73,920, 73,990\\xa0...'}, {'title': 'Inspiron 3530 Laptop', 'link': 'https://www.dellstore.com/inspiron-3530-laptop-in3530nm1nn001orb1.html', 'snippet': 'Processor. 13th Generation Intel® Core™ i5-1335U Processor (12MB Cache, up to 4.60 GHz) · Operating System. Windows 11 Home, Single Language English · Graphics.'}, {'title': 'Buy Dell Inspiron 5330, 13th Gen Intel Core i5 Processor, 16 GB ...', 'link': 'https://www.reliancedigital.in/product/dell-inspiron-5330-13th-gen-intel-core-i5-processor-16-gb-ram-1-tb-ssd-340-cm-134-inch-display-windows-11-laptop-silver-lnvbkw-7534552', 'snippet': 'Dell Inspiron 5330, 13th Gen Intel Core i5 Processor, 16 GB RAM, 1 TB SSD, 34.0 cm (13.4 inch) Display, Windows 11, Laptop, Silver'}, {'title': 'Buy Laptops Online from Kerala, India Top Brands at Lowest Price', 'link': 'https://nandilathgmart.com/product-category/laptops/', 'snippet': 'Dell Laptop 12th Generation Intel Core i5 processor (INSPIRON 3520, Platinum Silver) ... HP Laptop 13th Generation Intel Core i5 processor (15-fd0221TU, Silver).'}]\n",
      "google search product listing links:  ['https://www.dell.com/en-in/shop/dell-laptops/scr/laptops/appref=13th-gen-intel-core-processor-generation', 'https://www.croma.com/dell-inspiron-15-3530-intel-core-i5-13th-gen-thin-light-laptop-16gb-512gb-ssd-windows-11-home-15-6-inch-full-hd-wva-ips-display-ms-office-home-student-2021-platinum-silver-1-62-kg-/p/306647', 'https://www.amazon.in/Dell-i5-1335U-Processor-Spill-Resistant-Keyboard/dp/B0C1Z4R6Z9', 'https://www.flipkart.com/dell-inspiron-5430-intel-core-i5-13th-gen-16-gb-ssd-512-gb-ssd-windows-11-home-in54308tr2g001ors1-thin-light-laptop/p/itm5c63db6341636', 'https://www.dellstore.com/inspiron-3530-laptop-in3530nm1nn001orb1.html', 'https://www.reliancedigital.in/product/dell-inspiron-5330-13th-gen-intel-core-i5-processor-16-gb-ram-1-tb-ssd-340-cm-134-inch-display-windows-11-laptop-silver-lnvbkw-7534552']\n",
      "Product Listing Page Links\n",
      "['https://www.dell.com/en-in/shop/dell-laptops/scr/laptops/appref=13th-gen-intel-core-processor-generation', 'https://www.croma.com/dell-inspiron-15-3530-intel-core-i5-13th-gen-thin-light-laptop-16gb-512gb-ssd-windows-11-home-15-6-inch-full-hd-wva-ips-display-ms-office-home-student-2021-platinum-silver-1-62-kg-/p/306647', 'https://www.amazon.in/Dell-i5-1335U-Processor-Spill-Resistant-Keyboard/dp/B0C1Z4R6Z9', 'https://www.flipkart.com/dell-inspiron-5430-intel-core-i5-13th-gen-16-gb-ssd-512-gb-ssd-windows-11-home-in54308tr2g001ors1-thin-light-laptop/p/itm5c63db6341636', 'https://www.dellstore.com/inspiron-3530-laptop-in3530nm1nn001orb1.html', 'https://www.reliancedigital.in/product/dell-inspiron-5330-13th-gen-intel-core-i5-processor-16-gb-ram-1-tb-ssd-340-cm-134-inch-display-windows-11-laptop-silver-lnvbkw-7534552']\n",
      "Product Detail Page Links\n",
      "['https://www.dellstore.com/inspiron-3530-laptop-in3530nm1nn001orb1.html']\n",
      "Product Detail Page LinksProduct Detail Page Links\n",
      "['https://www.flipkart.com/dell-inspiron-intel-core-i5-13th-gen-1335u-8-gb-512-gb-ssd-windows-11-home-5430-thin-light-laptop/p/itmd36b744a13d70?pid=COMGZMKFQTJZQZRW', 'https://www.flipkart.com/dell-inspiron-5430-intel-core-i5-13th-gen-16-gb-512-gb-ssd-windows-11-home-in54308tr2g001ors1-thin-light-laptop/p/itm2d84af8f1410c?pid=COMGQ2TVQWSF2S7H', 'https://www.flipkart.com/dell-inspiron-5430-intel-core-i5-13th-gen-16-gb-1-tb-ssd-windows-11-home-in5430jnh1p001ors1-thin-light-laptop/p/itm2d84af8f1410c?pid=COMGS7Q97SVKWGJJ']\n",
      "\n",
      "['https://www.amazon.in/Dell-Inspiron-i5-1334U-Processor-39-62cm/dp/B0D2Y1BLDT', 'https://www.amazon.in/Dell-Generation-i5-1334U-Processor-Antivirus/dp/B0D46Q1736', 'https://www.amazon.in/Dell-Inspiron-3520-Processor-Light-1-65kg/dp/B0CJJYCYSQ']\n",
      "Product Detail Page Links\n",
      "['https://www.dell.com/en-in/shop/laptop-notebook-computers/inspiron-14-laptop/spd/inspiron-14-5440-laptop/sin5440100101dinu1o', 'https://www.dell.com/en-in/shop/laptop-notebook-computers/inspiron-14-2-in-1-laptop/spd/inspiron-14-7440-2-in-1-laptop/oic7440152601rinu1o', 'https://www.dell.com/en-in/shop/laptop-notebook-computers/inspiron-16-laptop/spd/inspiron-16-5640-laptop/oin5640341901rinu1o', 'https://www.dell.com/en-in/shop/laptop-notebook-computers/inspiron-16-plus-laptop/spd/inspiron-16-7640-laptop/oin7640150101rinu1', 'https://www.dell.com/en-in/shop/laptop-notebook-computers/inspiron-15-laptop/spd/inspiron-15-3530-laptop/oin353010051rins1mo']\n"
     ]
    }
   ],
   "source": [
    "state = b2b_products_repo.invoke({\n",
    "    \"category_name\": \"Dell i5 13th generation laptops\",\n",
    "    \"product_listing_links\": [],\n",
    "})"
   ]
  },
  {
   "cell_type": "code",
   "execution_count": 33,
   "metadata": {},
   "outputs": [
    {
     "data": {
      "text/plain": [
       "[Product(product_id=None, name='Inspiron 14 Laptop', brand='Dell', model_number='5440', description='A versatile 14-inch laptop featuring 13th Gen Intel Core processors, Windows 11, and a FHD+ display with anti-glare technology.', specifications={'processor': '13th Gen Intel® Core™ i3-1305U (5 cores, up to 4.5 GHz)', 'operating_system': 'Windows 11 Home Single Language, English', 'graphics': 'Intel® UHD Graphics', 'memory': '8 GB: 1 x 8 GB, DDR5, 4400 MT/s', 'storage': '512GB M.2 PCIe NVMe Solid State Drive', 'display': '14\", Non-Touch, FHD+ 1920x1200, 60Hz, IPS, WVA, Anti-Glare, 250 nit, ComfortView', 'color': 'Ice Blue Plastic Cover', 'keyboard': 'Ice Blue English International backlit keyboard', 'camera': '720p at 30 fps HD RGB camera, Single microphones', 'battery': '3 Cell, 41 Wh, integrated', 'weight': 'Starting from 1.54 kg', 'wireless': 'Realtek Wi-Fi 6 RTL8851BE, 1x1, 802.11ax, MU-MIMO, Bluetooth'}, product_variants=(FieldInfo(annotation=NoneType, required=False, default=None, description='Product variants detail.'),), images=['https://i.dell.com/is/image/DellContent/content/dam/ss2/product-images/dell-client-products/notebooks/inspiron-notebooks/14-5440/media-gallery/ice-blue-plastic/notebook-inspiron-14-5440-ice-blue-plastic-gallery-2.psd', 'https://i.dell.com/is/image/DellContent/content/dam/ss2/product-images/dell-client-products/notebooks/inspiron-notebooks/14-5440/media-gallery/ice-blue-plastic/notebook-inspiron-14-5440-rplr-ice-blue-plastic-gallery-4.psd', 'https://i.dell.com/is/image/DellContent/content/dam/ss2/product-images/dell-client-products/notebooks/inspiron-notebooks/14-5440/media-gallery/ice-blue-plastic/notebook-inspiron-14-5440-ice-blue-plastic-gallery-3.psd'], category='Laptops', subcategory='Inspiron', price_range=(42489.99, 42489.99), price_unit='INR', ref_link='https://www.dell.com/en-in/shop/laptop-notebook-computers/inspiron-14-laptop/spd/inspiron-14-5440-laptop/sin5440100101dinu1o'),\n",
       " Product(product_id=None, name='Inspiron 14 2-in-1 Laptop', brand='Dell', model_number='7440 2-in-1', description='A versatile 2-in-1 laptop featuring Intel Core Ultra processors, 14-inch FHD+ touchscreen display, and premium aluminum design.', specifications={'processor': 'Intel® Core™ 5 120U (10 cores, up to 5.0 GHz Turbo)', 'operating_system': 'Windows 11 Home Single Language, English', 'graphics': 'Intel® Graphics', 'memory': '16 GB: 2 x 8 GB, DDR5, 5200 MT/s', 'storage': '512GB M.2 PCIe NVMe Solid State Drive', 'display': '14\", Touch, FHD+ 1920x1200, 60Hz, WVA, IPS, 250 nit, ComfortView', 'ports': '2 USB Type-C® 3.2 Gen 2, 2 USB 3.2 Gen 1 Type-A, 1 Universal audio port, 1 HDMI 1.4 port', 'battery': '4 Cell, 54 Wh, integrated', 'weight': '1.75 kg', 'color': 'Ice Blue, with Fingerprint Reader'}, product_variants=(FieldInfo(annotation=NoneType, required=False, default=None, description='Product variants detail.'),), images=['https://i.dell.com/is/image/DellContent/content/dam/ss2/product-images/dell-client-products/notebooks/inspiron-notebooks/14-2-in-1-7440-intel/media-gallery/notebook-inspiron-14-7440-t-ice-blue-fpr-gallery-1.psd'], category='Laptops', subcategory='2-in-1 Laptops', price_range=(76090.0, 76090.0), price_unit='INR', ref_link='https://www.dell.com/en-in/shop/laptop-notebook-computers/inspiron-14-2-in-1-laptop/spd/inspiron-14-7440-2-in-1-laptop/oic7440152601rinu1o'),\n",
       " Product(product_id=None, name='Dell Inspiron 16 Laptop (5640)', brand='Dell', model_number='5640', description='A versatile 16-inch laptop featuring 13th Gen Intel Core i5 processor, Windows 11, and premium design with Ice Blue finish.', specifications={'processor': '13th Gen Intel® Core™ i5-1334U (10 cores, up to 4.6 GHz)', 'operating_system': 'Windows 11 Home Single Language, English', 'graphics': 'Intel® Iris® Xe Graphics', 'memory': '16 GB: 2 x 8 GB, DDR5, 5200 MT/s', 'storage': '512 GB, M.2, PCIe NVMe, SSD', 'display': '16\", Non-Touch, FHD+ 1920x1200, 60Hz, WVA, IPS, Anti-Glare, 250 nit, ComfortView', 'keyboard': 'Ice Blue English International Backlit Copilot Key Keyboard with Numeric Keypad', 'camera': '1080p at 30 fps FHD camera, Dual-array microphones, built-in camera shutter', 'ports': '2x USB 3.2 Gen 1, 1x USB-C with DisplayPort & Power Delivery, HDMI 1.4, headphone jack', 'battery': '4 Cell, 54 Wh, integrated', 'weight': '1.87 kg', 'dimensions': '356.78 x 249.52 x 19.05 mm'}, product_variants=(FieldInfo(annotation=NoneType, required=False, default=None, description='Product variants detail.'),), images=['https://i.dell.com/is/image/DellContent/content/dam/ss2/product-images/dell-client-products/notebooks/inspiron-notebooks/16-5640/media-gallery/laptop-inspiron-16-5640t-ice-blue-fpr-gallery-2.psd', 'https://i.dell.com/is/image/DellContent/content/dam/ss2/product-images/dell-client-products/notebooks/inspiron-notebooks/16-5640/media-gallery/laptop-inspiron-16-5640-ice-blue-fpr-gallery-14.psd', 'https://i.dell.com/is/image/DellContent/content/dam/ss2/product-images/dell-client-products/notebooks/inspiron-notebooks/16-5640/media-gallery/laptop-inspiron-16-5640-ice-blue-fpr-gallery-1.psd'], category='Laptops', subcategory='Inspiron', price_range=(66190.02, 66190.02), price_unit='INR', ref_link='https://www.dell.com/en-in/shop/laptop-notebook-computers/inspiron-16-laptop/spd/inspiron-16-5640-laptop/oin5640341901rinu1o'),\n",
       " Product(product_id='OIN7640150101RINU1', name='Inspiron 16 Plus Laptop', brand='Dell', model_number=None, description='13th Generation Intel Core i5 laptop with 16GB RAM, 512GB SSD storage, and 16-inch FHD+ display', specifications={'processor': '13th Generation Intel® Core™ i5-13420H Processor (12MB Cache, up to 4.6GHz)', 'operating_system': 'Windows 11 Home, Single Language', 'graphics': 'Intel® UHD Graphics', 'memory': '16GB, 2x8GB, 4800MT/sLPDDR5 Memory Onboard', 'storage': '512GB M.2 PCIe NVMe Solid State Drive', 'display': '16.0-inch 16:10 FHD+ (1920 x 1200) Anti-Glare Non-Touch 250nits WVA Display with ComfortView Support', 'color': 'Ice Blue', 'keyboard': 'English International backlit Copilot key keyboard, no numeric keypad', 'camera': 'Integrated Widescreen FHD (1080p) Webcam with Dual Digital Microphone Array', 'audio': '(2) tuned speakers with Intel® graphics, audio processing by Dolby Atomos Core and Waves MaxxAudio® Pro', 'battery': '4 Cell, 54 Wh, integrated', 'weight': 'Starting at 1.90 kg', 'dimensions': 'Height: 16.70 mm - 19.75 mm, Width: 356.78 mm, Depth: 250.60 mm'}, product_variants=(FieldInfo(annotation=NoneType, required=False, default=None, description='Product variants detail.'),), images=['https://d154tzc5g79pmr.cloudfront.net/media/catalog/product/cache/74ae05ef3745aec30d7f5a287debd7f5/i/n/india-insp-7640-iceblue.png'], category='Laptops', subcategory='Inspiron Laptops', price_range=(79490.0, 79490.0), price_unit='INR', ref_link='https://www.dell.com/en-in/shop/laptop-notebook-computers/inspiron-16-plus-laptop/spd/inspiron-16-7640-laptop/oin7640150101rinu1'),\n",
       " Product(product_id=None, name='Dell Inspiron 15 Laptop', brand='Dell', model_number='3530', description='15.6-inch laptop featuring 13th Gen Intel Core i3-1305U processor, 8GB DDR4 RAM, 512GB SSD storage, FHD 1920x1080 120Hz WVA display, and Windows 11 Home.', specifications={'processor': '13th Gen Intel Core i3-1305U (5 cores, up to 4.5 GHz)', 'operating_system': 'Windows 11 Home Single Language, English', 'graphics': 'Intel UHD Graphics', 'memory': '8 GB: 1 x 8 GB, DDR4, 2666 MT/s', 'storage': '512 GB, M.2, PCIe NVMe, SSD', 'display': '15.6-inch FHD (1920x1080) 120Hz WVA IPS Anti-Glare, 250 nit', 'ports': '1x USB 3.2 Gen 1 Type-A, 1x USB 3.2 Gen 1 Type-C, 1x USB 2.0, 1x HDMI 1.4, 1x Headset jack', 'battery': '3 Cell, 41 Wh integrated', 'weight': 'Starting at 1.62 Kg', 'camera': 'HD (720p) Webcam with Single Digital Microphone'}, product_variants=(FieldInfo(annotation=NoneType, required=False, default=None, description='Product variants detail.'),), images=['https://i.dell.com/is/image/DellContent/content/dam/ss2/product-images/dell-client-products/notebooks/inspiron-notebooks/15-3530-intel/media-gallery/black/notebook-inspiron-15-3530-nt-plastic-black-gallery-2.psd'], category='Laptops', subcategory='Inspiron Series', price_range=(37889.99, 37889.99), price_unit='INR', ref_link='https://www.dell.com/en-in/shop/laptop-notebook-computers/inspiron-15-laptop/spd/inspiron-15-3530-laptop/oin353010051rins1mo'),\n",
       " Product(product_id=None, name='Dell Inspiron 3530 Laptop', brand='Dell', model_number='Inspiron 3530', description='13th Generation Intel Core i5-1334U Processor (Up to 4.60GHz, 10 Cores, 12MB Cache), 16GB DDR4 RAM, 512GB SSD, 15.6\" FHD WVA AG 120Hz 250 nits Display, Backlit Keyboard, Windows 11 Home, MS Office Home & Student 2021, McAfee 15-month subscription', specifications={'Processor': '13th Gen Intel Core i5-1334U', 'RAM': '16GB DDR4', 'Storage': '512GB SSD', 'Display': '15.6\" FHD (1920x1080) WVA AG 120Hz 250 nits', 'Operating System': 'Windows 11 Home', 'Graphics': 'Intel UHD Graphics', 'Battery': '41Wh, Up to 7 hours', 'Weight': '1.62 kg', 'Ports': '1x USB 3.2 Gen 1 Type-A, 1x USB 3.2 Gen 1 Type-C, 1x USB 2.0, 1x HDMI 1.4, 1x SD card reader', 'Color': 'Silver'}, product_variants=(FieldInfo(annotation=NoneType, required=False, default=None, description='Product variants detail.'),), images=['https://m.media-amazon.com/images/I/81QCRdxIRLL._SX679_.jpg'], category='Computers & Accessories', subcategory='Laptops', price_range=(55990.0, 72598.0), price_unit='INR', ref_link='https://www.amazon.in/Dell-Inspiron-i5-1334U-Processor-39-62cm/dp/B0D2Y1BLDT'),\n",
       " Product(product_id=None, name='Dell 14 Laptop', brand='Dell', model_number='Vostro 3440', description='13th Generation Intel Core i5-1334U Processor laptop with 8GB DDR5 RAM, 512GB SSD storage, 14\"(35.52cm) FHD+ AG 250nits display, Windows 11 + MS Office 2021 + 15 Month McAfee Antivirus, Titan Grey color, Thin & Light at 1.55kg', specifications={'Processor': '13th Gen Intel Core i5-1334U (Up to 4.60GHz, 10 Cores, 12MB Cache)', 'RAM': '8GB DDR5 4400MT/s', 'Storage': '512GB SSD', 'Display': '14-inch FHD+ (1920x1080) Anti-Glare 250 nits WVA Display with ComfortView Support', 'Operating System': 'Windows 11 Home', 'Graphics': 'Integrated Intel UHD Graphics', 'Ports': '1x HDMI 1.4, 1x USB 3.2 Gen 1 Type-C (Data only), 2x USB 3.2 Gen 1 Type-A, SD card reader, Headset Jack, RJ-45', 'Weight': '1.55 kg', 'Color': 'Titan Grey', 'Battery': '41 Wh, 3-cell', 'Included Software': 'MS Office Home & Student 2021, McAfee Multi-Device Security (15 months)'}, product_variants=(FieldInfo(annotation=NoneType, required=False, default=None, description='Product variants detail.'),), images=['https://m.media-amazon.com/images/I/71tSrDl1TaL._SX679_.jpg'], category='Laptops', subcategory='Traditional Laptops', price_range=(50990.0, 65063.0), price_unit='INR', ref_link='https://www.amazon.in/Dell-Generation-i5-1334U-Processor-Antivirus/dp/B0D46Q1736'),\n",
       " Product(product_id=None, name='Dell Inspiron 3520 Laptop', brand='Dell', model_number='Inspiron 3520', description='Refurbished Dell Inspiron 3520 laptop featuring Intel Core i5-1235U processor, 16GB DDR4 RAM, 512GB SSD storage, 15.6\" FHD (1920x1080) display with 120Hz refresh rate and 250 nits brightness, backlit keyboard, Windows 11 Home OS with MS Office 2021 and 15 months McAfee security. Thin and light design weighing 1.65kg.', specifications={'Processor': 'Intel Core i5-1235U (up to 4.4GHz, 12MB Cache, 10 Cores)', 'RAM': '16GB DDR4 2666MHz', 'Storage': '512GB SSD', 'Display': '15.6 inch FHD (1920x1080) WVA AG 120Hz 250 nits', 'Operating System': 'Windows 11 Home', 'Graphics': 'Intel Integrated Graphics', 'Ports': '2x USB 3.2 Gen 1, 1x USB 2.0, 1x HDMI 1.4, SD card reader', 'Weight': '1.65 kg', 'Color': 'Silver'}, product_variants=(FieldInfo(annotation=NoneType, required=False, default=None, description='Product variants detail.'),), images=['https://m.media-amazon.com/images/I/61LKYyGTn7L._SX679_.jpg'], category='Laptops', subcategory='Traditional Laptops', price_range=(49400.0, 75000.0), price_unit='INR', ref_link='https://www.amazon.in/Dell-Inspiron-3520-Processor-Light-1-65kg/dp/B0CJJYCYSQ'),\n",
       " Product(product_id='INSPIRON5430', name='DELL Inspiron 5430 Thin and Light Laptop', brand='DELL', model_number='Inspiron 5430', description='13th Gen Intel Core i5 1335U laptop with 8GB RAM, 512GB SSD, Windows 11 Home and MS Office. Features a 14-inch FHD+ WVA anti-glare display with ComfortView support and 250 nits brightness. Thin and light design at 1.59kg with backlit keyboard.', specifications={'Processor': 'Intel Core i5 13th Gen 1335U', 'RAM': '8GB LPDDR5', 'Storage': '512GB SSD', 'Display': '14-inch FHD+ (2220x1080) WVA Anti-glare', 'Operating System': 'Windows 11 Home', 'Graphics': 'Intel Integrated Graphics', 'Weight': '1.59 Kg', 'Battery': '54 WHr Li-ion', 'Keyboard': 'Backlit', 'Ports': 'HDMI 1.4, Thunderbolt 4, 2x USB 3.2 Gen 1 Type-A, SD card reader, Audio jack', 'Connectivity': 'Intel Wi-Fi 6E, Bluetooth 5.2'}, product_variants=(FieldInfo(annotation=NoneType, required=False, default=None, description='Product variants detail.'),), images=['https://rukminim2.flixcart.com/image/128/128/xif0q/computer/8/p/q/inspiron-5430-thin-and-light-laptop-dell-original-imagueh3hwuj7cgk.jpeg', 'https://rukminim2.flixcart.com/image/128/128/xif0q/computer/6/i/g/inspiron-5430-thin-and-light-laptop-dell-original-imagueh3mbtvkgfp.jpeg', 'https://rukminim2.flixcart.com/image/128/128/xif0q/computer/h/x/9/inspiron-5430-thin-and-light-laptop-dell-original-imagueh3pzbyvmqq.jpeg', 'https://rukminim2.flixcart.com/image/128/128/xif0q/computer/f/i/w/inspiron-5430-thin-and-light-laptop-dell-original-imagueh3fjzme79b.jpeg'], category='Computers', subcategory='Laptops', price_range=(54990.0, 84416.0), price_unit='INR', ref_link='https://www.flipkart.com/dell-inspiron-intel-core-i5-13th-gen-1335u-8-gb-512-gb-ssd-windows-11-home-5430-thin-light-laptop/p/itmd36b744a13d70?pid=COMGZMKFQTJZQZRW'),\n",
       " Product(product_id=None, name='DELL Inspiron 5430 Intel Core i5 13th Gen Laptop', brand='DELL', model_number='IN54308TR2G001ORS1', description='DELL Inspiron 5430 Thin and Light Laptop with 13th Gen Intel Core i5 processor, 16GB RAM, 512GB SSD, Windows 11 Home and MS Office', specifications={'Processor': 'Intel Core i5 13th Gen', 'RAM': '16 GB LPDDR5', 'Storage': '512 GB SSD', 'Display': '14 inch 1920x1080 pixels', 'Operating System': 'Windows 11 Home', 'Color': 'Platinum Silver', 'Battery': 'Up to 6 hours backup', 'Graphics': 'Intel Integrated Iris Xe Graphics', 'Additional Features': 'MS Office included, Fingerprint sensor, Backlit keyboard'}, product_variants=(FieldInfo(annotation=NoneType, required=False, default=None, description='Product variants detail.'),), images=['https://rukminim2.flixcart.com/image/128/128/xif0q/computer/f/0/u/inspiron-5430-laptop-dell-original-imagq2ny8txfzgyt.jpeg', 'https://rukminim2.flixcart.com/image/128/128/xif0q/computer/h/u/f/inspiron-5430-laptop-dell-original-imagq2nyvppza7ht.jpeg', 'https://rukminim2.flixcart.com/image/128/128/xif0q/computer/t/6/w/inspiron-5430-laptop-dell-original-imagqftxpqdkkysh.jpeg', 'https://rukminim2.flixcart.com/image/128/128/xif0q/computer/u/q/i/inspiron-5430-laptop-dell-original-imagqftxq5nnbndq.jpeg', 'https://rukminim2.flixcart.com/image/128/128/xif0q/computer/o/c/r/inspiron-5430-laptop-dell-original-imagq2nyynutbue9.jpeg'], category='Computers', subcategory='Laptops', price_range=(71990.0, 94000.0), price_unit='INR', ref_link='https://www.flipkart.com/dell-inspiron-5430-intel-core-i5-13th-gen-16-gb-512-gb-ssd-windows-11-home-in54308tr2g001ors1-thin-light-laptop/p/itm2d84af8f1410c?pid=COMGQ2TVQWSF2S7H'),\n",
       " Product(product_id=None, name='DELL Inspiron 5430 Intel Core i5 13th Gen Laptop', brand='DELL', model_number='IN5430JNH1P001ORS1', description='DELL Inspiron 5430 Intel Core i5 13th Gen - (16 GB/1 TB SSD/Windows 11 Home) Thin and Light Laptop with 14 inch display, Platinum Silver color, with MS Office', specifications={'Processor': 'Intel Core i5 13th Gen', 'RAM': '16 GB LPDDR5', 'Storage': '1 TB SSD', 'Display': '14 inch, 2220 x 1080 pixels, 120 Hz', 'Operating System': 'Windows 11 Home', 'Graphics': 'Intel Integrated Iris Xe Graphics', 'Battery': 'Up to 8 hours', 'Color': 'Platinum Silver', 'Additional Features': 'MS Office included, Fingerprint sensor, Backlit keyboard', 'Warranty': '1 year onsite warranty'}, product_variants=(FieldInfo(annotation=NoneType, required=False, default=None, description='Product variants detail.'),), images=['https://rukminim2.flixcart.com/image/128/128/xif0q/computer/i/w/q/inspiron-5430-laptop-dell-original-imagsc5nryvtsfu4.jpeg', 'https://rukminim2.flixcart.com/image/128/128/xif0q/computer/9/l/d/inspiron-5430-laptop-dell-original-imagsc5nwpzaav9y.jpeg', 'https://rukminim2.flixcart.com/image/128/128/xif0q/computer/o/t/s/inspiron-5430-laptop-dell-original-imagsdfk2upxk4gk.jpeg', 'https://rukminim2.flixcart.com/image/128/128/xif0q/computer/h/i/i/inspiron-5430-laptop-dell-original-imagsdfczhtrgkmh.jpeg', 'https://rukminim2.flixcart.com/image/128/128/xif0q/computer/e/v/x/inspiron-5430-laptop-dell-original-imagsc5nhxshycmq.jpeg'], category='Computers', subcategory='Laptops', price_range=(75990.0, 109800.0), price_unit='INR', ref_link='https://www.flipkart.com/dell-inspiron-5430-intel-core-i5-13th-gen-16-gb-1-tb-ssd-windows-11-home-in5430jnh1p001ors1-thin-light-laptop/p/itm2d84af8f1410c?pid=COMGS7Q97SVKWGJJ')]"
      ]
     },
     "execution_count": 33,
     "metadata": {},
     "output_type": "execute_result"
    }
   ],
   "source": [
    "state['products']"
   ]
  },
  {
   "cell_type": "code",
   "execution_count": 21,
   "metadata": {},
   "outputs": [
    {
     "name": "stderr",
     "output_type": "stream",
     "text": [
      "/opt/miniconda3/envs/aws_env/lib/python3.12/site-packages/pydantic/main.py:426: UserWarning: Pydantic serializer warnings:\n",
      "  Expected `list[dict[any, any]]` but got `tuple` with value `(FieldInfo(annotation=Non...uct variants detail.'),)` - serialized value may not be as expected\n",
      "  return self.__pydantic_serializer__.to_python(\n"
     ]
    }
   ],
   "source": [
    "save_products_in_csv(state[\"products\"], f\"brand-products/{state['category_name']}.csv\")"
   ]
  }
 ],
 "metadata": {
  "kernelspec": {
   "display_name": "aws_env",
   "language": "python",
   "name": "python3"
  },
  "language_info": {
   "codemirror_mode": {
    "name": "ipython",
    "version": 3
   },
   "file_extension": ".py",
   "mimetype": "text/x-python",
   "name": "python",
   "nbconvert_exporter": "python",
   "pygments_lexer": "ipython3",
   "version": "3.12.9"
  }
 },
 "nbformat": 4,
 "nbformat_minor": 2
}
