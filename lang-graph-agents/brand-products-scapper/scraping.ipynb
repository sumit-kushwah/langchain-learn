{
 "cells": [
  {
   "cell_type": "code",
   "execution_count": null,
   "metadata": {},
   "outputs": [],
   "source": [
    "from selenium import webdriver\n",
    "from selenium.webdriver.common.by import By\n",
    "\n",
    "# Set up Selenium WebDriver (use Chrome or Firefox)\n",
    "driver = webdriver.Chrome()  \n",
    "driver.get(\"https://www.hondaindiapower.com/product-detail/wb40xd\")\n",
    "\n",
    "# Wait for JavaScript to load (optional)\n",
    "import time\n",
    "time.sleep(3)  # Wait for 3 seconds\n",
    "\n",
    "# Extract page source after JavaScript execution\n",
    "html = driver.page_source\n",
    "\n",
    "print(html)\n",
    "driver.quit()\n"
   ]
  },
  {
   "cell_type": "code",
   "execution_count": 3,
   "metadata": {},
   "outputs": [],
   "source": [
    "import nest_asyncio\n",
    "nest_asyncio.apply()"
   ]
  },
  {
   "cell_type": "code",
   "execution_count": null,
   "metadata": {},
   "outputs": [],
   "source": [
    "# from playwright.sync_api import sync_playwright\n",
    "\n",
    "# with sync_playwright() as p:\n",
    "#     browser = p.chromium.launch(headless=True)\n",
    "#     page = browser.new_page()\n",
    "#     page.goto(\"https://www.hondaindiapower.com/product-detail/wb40xd\", wait_until=\"networkidle\")\n",
    "    \n",
    "#     html = page.content()\n",
    "#     print(html)\n",
    "\n",
    "#     browser.close()\n",
    "\n",
    "import asyncio\n",
    "from playwright.async_api import async_playwright\n",
    "\n",
    "async def run():\n",
    "    async with async_playwright() as p:\n",
    "        browser = await p.chromium.launch(headless=True)\n",
    "        page = await browser.new_page()\n",
    "        await page.goto(\"https://www.hondaindiapower.com/product-detail/wb40xd\", wait_until=\"networkidle\")\n",
    "        \n",
    "        html = await page.content()\n",
    "        print(html)\n",
    "\n",
    "        await browser.close()\n",
    "\n",
    "# Run the async function properly\n",
    "asyncio.run(run())\n"
   ]
  },
  {
   "cell_type": "code",
   "execution_count": null,
   "metadata": {},
   "outputs": [],
   "source": [
    "import asyncio\n",
    "from playwright.async_api import async_playwright\n",
    "\n",
    "async def scrape():\n",
    "    async with async_playwright() as p:\n",
    "        browser = await p.chromium.launch(headless=True)\n",
    "        page = await browser.new_page()\n",
    "        await page.goto(\"https://www.hondaindiapower.com/product-detail/wb40xd\", wait_until=\"networkidle\")\n",
    "\n",
    "        # Extract all visible text\n",
    "        text_content = await page.evaluate(\"document.body.innerText\")\n",
    "\n",
    "        # Extract all image URLs\n",
    "        image_urls = await page.evaluate(\"\"\"\n",
    "            Array.from(document.images).map(img => img.src)\n",
    "        \"\"\")\n",
    "\n",
    "        print(\"Extracted Text:\\n\", text_content)\n",
    "        print(\"\\nExtracted Image URLs:\\n\", image_urls)\n",
    "\n",
    "        await browser.close()\n",
    "\n",
    "# Run the async function\n",
    "asyncio.run(scrape())\n"
   ]
  },
  {
   "cell_type": "code",
   "execution_count": 8,
   "metadata": {},
   "outputs": [
    {
     "name": "stdout",
     "output_type": "stream",
     "text": [
      "\n",
      "Extracted Inline Content:\n",
      " \n"
     ]
    }
   ],
   "source": [
    "import asyncio\n",
    "from playwright.async_api import async_playwright\n",
    "\n",
    "async def scrape():\n",
    "    async with async_playwright() as p:\n",
    "        browser = await p.chromium.launch(headless=True)\n",
    "        page = await browser.new_page()\n",
    "        await page.goto(\"https://www.hondaindiapower.com/product-detail/wb40xd\", wait_until=\"networkidle\")\n",
    "\n",
    "        # Extract text and images inline\n",
    "        content = await page.evaluate('''() => {\n",
    "            let elements = document.body.childNodes;\n",
    "            let result = [];\n",
    "            \n",
    "            elements.forEach(node => {\n",
    "                if (node.nodeType === Node.TEXT_NODE) {\n",
    "                    result.push(node.textContent.trim());\n",
    "                } else if (node.nodeType === Node.ELEMENT_NODE && node.tagName === 'IMG') {\n",
    "                    result.push(node.src);\n",
    "                }\n",
    "            });\n",
    "\n",
    "            return result.filter(item => item);  // Remove empty elements\n",
    "        }''')\n",
    "\n",
    "\n",
    "        # Join content with spaces for readability\n",
    "        formatted_content = \" \".join(content)\n",
    "\n",
    "        print(\"\\nExtracted Inline Content:\\n\", formatted_content)\n",
    "\n",
    "        await browser.close()\n",
    "\n",
    "# Run the async function\n",
    "asyncio.run(scrape())\n"
   ]
  }
 ],
 "metadata": {
  "kernelspec": {
   "display_name": "aws_env",
   "language": "python",
   "name": "python3"
  },
  "language_info": {
   "codemirror_mode": {
    "name": "ipython",
    "version": 3
   },
   "file_extension": ".py",
   "mimetype": "text/x-python",
   "name": "python",
   "nbconvert_exporter": "python",
   "pygments_lexer": "ipython3",
   "version": "3.12.9"
  }
 },
 "nbformat": 4,
 "nbformat_minor": 2
}
