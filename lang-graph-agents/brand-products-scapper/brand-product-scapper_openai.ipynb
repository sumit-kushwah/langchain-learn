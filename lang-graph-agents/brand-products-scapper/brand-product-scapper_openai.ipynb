{
 "cells": [
  {
   "cell_type": "markdown",
   "metadata": {},
   "source": [
    "### Import Libraries and environment variables setup"
   ]
  },
  {
   "cell_type": "code",
   "execution_count": 6,
   "metadata": {},
   "outputs": [],
   "source": [
    "import load_dotenv\n",
    "import asyncio\n",
    "import nest_asyncio\n",
    "nest_asyncio.apply()\n",
    "load_dotenv.load_dotenv()\n",
    "from playwright.async_api import async_playwright\n",
    "from langchain_openai import ChatOpenAI\n",
    "from langchain_core.tools import Tool\n",
    "from langchain_core.documents import Document\n",
    "from langchain_google_community import GoogleSearchAPIWrapper\n",
    "from langchain_core.messages import SystemMessage, HumanMessage\n",
    "from langgraph.constants import Send\n",
    "from langchain_community.document_transformers import Html2TextTransformer\n",
    "from langgraph.graph import StateGraph, START, END\n",
    "from IPython.display import display, Image\n",
    "from sentence_transformers import SentenceTransformer, util\n",
    "from typing import Annotated, List, TypedDict, operator, Dict, Optional, Tuple\n",
    "from pydantic import BaseModel, Field"
   ]
  },
  {
   "cell_type": "markdown",
   "metadata": {},
   "source": [
    "### LLM Setup"
   ]
  },
  {
   "cell_type": "code",
   "execution_count": 7,
   "metadata": {},
   "outputs": [],
   "source": [
    "llm = ChatOpenAI(\n",
    "    model=\"gpt-4o-mini\",\n",
    "    temperature=0.3,\n",
    ")"
   ]
  },
  {
   "cell_type": "code",
   "execution_count": 8,
   "metadata": {},
   "outputs": [
    {
     "data": {
      "text/plain": [
       "'Hello! How can I assist you today?'"
      ]
     },
     "execution_count": 8,
     "metadata": {},
     "output_type": "execute_result"
    }
   ],
   "source": [
    "llm.invoke(\"hi\").content"
   ]
  },
  {
   "cell_type": "markdown",
   "metadata": {},
   "source": [
    "### Structured output llms definition"
   ]
  },
  {
   "cell_type": "code",
   "execution_count": 25,
   "metadata": {},
   "outputs": [],
   "source": [
    "class Product1(BaseModel):\n",
    "    product_id: Optional[str] = Field(None, description=\"Unique product identifier.\")\n",
    "    name: Optional[str] = Field(None, description=\"Standardized product name.\")\n",
    "    brand: Optional[str] = Field(None, description=\"Brand information.\")\n",
    "    model_number: Optional[str] = Field(None, description=\"Product model number.\")\n",
    "    description: Optional[str] = Field(None, description=\"Product description.\")\n",
    "    specifications: Optional[Dict[str, str]] = Field(None, description=\"Detailed product specifications.\")\n",
    "    product_variants: Optional[List[Dict]] = Field(None, description=\"Product variants detail.\"),\n",
    "    images: Optional[List[str]] = Field(None, description=\"List of high-quality product image URLs.\")\n",
    "    category: Optional[str] = Field(None, description=\"Product category.\")\n",
    "    subcategory: Optional[str] = Field(None, description=\"Product subcategory.\")\n",
    "    price_range: Optional[Tuple[float, float]] = Field(None, description=\"Pricing reference range (min, max).\")\n",
    "    price_unit: Optional[str] = Field(None, description=\"Currency unit for pricing.\")\n",
    "    ref_link: Optional[str] = Field(None, description=\"Reference link to the product page.\")\n",
    "\n",
    "class Product(BaseModel):\n",
    "    name: str = Field(..., description=\"Name of the product.\")\n",
    "    description: str = Field(..., description=\"Description of the product.\")\n",
    "    model_number: Optional[str] = Field(None, description=\"Model number of the product.\")\n",
    "    specifications: Optional[Dict[str, str]] = Field(None, description=\"Specifications of the product.\")\n",
    "    images: Optional[List[str]] = Field(None, description=\"List of image URLs for the product.\")\n",
    "    price: Optional[float] = Field(None, description=\"Price of the product.\")\n",
    "    price_unit: Optional[str] = Field(None, description=\"Currency unit for the price.\")\n",
    "    ref_link: Optional[str] = Field(None, description=\"Reference link to the product page.\")\n",
    "    \n",
    " \n",
    "class ProductListing(BaseModel):\n",
    "    products: List[Product] = Field(None, description=\"List of products.\")\n",
    "\n",
    "class SearchQuery(BaseModel):\n",
    "    search_query: str = Field(None, title=\"Search Query\", description=\"User search query to find the product listing pages for given product category\")\n",
    "    justification: str = Field(None, title=\"Justification\", description=\"Justification for the search query\")\n",
    " \n",
    "product_llm = llm.with_structured_output(Product)\n",
    "search_query_llm = llm.with_structured_output(SearchQuery)"
   ]
  },
  {
   "cell_type": "code",
   "execution_count": 26,
   "metadata": {},
   "outputs": [],
   "source": [
    "import pandas as pd\n",
    "from typing import List\n",
    "def save_products_in_csv(products: List[Product], file_path: str) -> None:\n",
    "    \"\"\"\n",
    "    Save the product list to a CSV file.\n",
    "    \"\"\"\n",
    "    df = pd.DataFrame([product.model_dump() for product in products])\n",
    "    df.to_csv(file_path, index=False)"
   ]
  },
  {
   "cell_type": "markdown",
   "metadata": {},
   "source": [
    "### Langgraph State Definition"
   ]
  },
  {
   "cell_type": "code",
   "execution_count": 27,
   "metadata": {},
   "outputs": [],
   "source": [
    "# Graph State\n",
    "class State(TypedDict):\n",
    "    category_name: str\n",
    "    category_type: str\n",
    "    search_query: str\n",
    "    product_listing_links: list\n",
    "    product_detail_page_links: Annotated[list, operator.add]\n",
    "    products: List[Product]\n",
    "    completed_products: Annotated[list, operator.add] # all workers write to this in parallel\n",
    "\n",
    "class ProductDetailPageLinkWorkerState(TypedDict):\n",
    "    category_name: str\n",
    "    product_listing_link: str\n",
    "    product_detail_page_links: Annotated[list, operator.add]\n",
    "\n",
    "class WorkerState(TypedDict):\n",
    "    link: str\n",
    "    products: List[Product]\n",
    "    completed_products: Annotated[list, operator.add]"
   ]
  },
  {
   "cell_type": "markdown",
   "metadata": {},
   "source": [
    "### Langgraph Function and Tools Define"
   ]
  },
  {
   "cell_type": "code",
   "execution_count": 28,
   "metadata": {},
   "outputs": [],
   "source": [
    "search = GoogleSearchAPIWrapper()\n",
    "def top_results(query):\n",
    "    return search.results(query, 10, {\n",
    "        \"gl\": \"in\",\n",
    "        \"cr\": \"countryIN\",\n",
    "        \"hl\": \"en\",\n",
    "    })\n",
    "\n",
    "tool = Tool(\n",
    "    name=\"Google Search Snippets\",\n",
    "    description=\"Search Google for recent results.\",\n",
    "    func=top_results,\n",
    ")"
   ]
  },
  {
   "cell_type": "code",
   "execution_count": 29,
   "metadata": {},
   "outputs": [],
   "source": [
    "async def scrape(link: str):\n",
    "    async with async_playwright() as p:\n",
    "        browser = await p.chromium.launch(headless=True)\n",
    "        page = await browser.new_page()\n",
    "        await page.goto(link, wait_until=\"domcontentloaded\", timeout=0)\n",
    "        # await page.goto(link, wait_until=\"networkidle\", timeout=0)\n",
    "\n",
    "        html = await page.content()\n",
    "        await browser.close()\n",
    "        return html"
   ]
  },
  {
   "cell_type": "code",
   "execution_count": 30,
   "metadata": {},
   "outputs": [],
   "source": [
    "def compare_strings(str1: str, str2: str, model_name: str = \"all-MiniLM-L6-v2\") -> float:\n",
    "    \"\"\"\n",
    "    Compare two strings using a Hugging Face Sentence Transformer model and return the similarity score.\n",
    "    \n",
    "    Args:\n",
    "        str1 (str): First string.\n",
    "        str2 (str): Second string.\n",
    "        model_name (str): Name of the pre-trained sentence transformer model.\n",
    "                          Default is \"all-MiniLM-L6-v2\".\n",
    "\n",
    "    Returns:\n",
    "        float: Cosine similarity score between the two strings (range: 0 to 1).\n",
    "    \"\"\"\n",
    "    model = SentenceTransformer(model_name)\n",
    "    embeddings = model.encode([str1, str2], convert_to_tensor=True)\n",
    "    similarity = util.pytorch_cos_sim(embeddings[0], embeddings[1]).item()\n",
    "    return similarity"
   ]
  },
  {
   "cell_type": "markdown",
   "metadata": {},
   "source": [
    "### Langgraph Nodes Define"
   ]
  },
  {
   "cell_type": "code",
   "execution_count": 37,
   "metadata": {},
   "outputs": [],
   "source": [
    "# Nodes\n",
    "class CategoryType(BaseModel):\n",
    "    category_type: str = Field(None, title=\"Category Type\", description=\"Type of category one of [generic, brand]\")\n",
    "\n",
    "def check_brand_category_type(state: State):\n",
    "    print(\"started.....\")\n",
    "    result = llm.with_structured_output(CategoryType).invoke(f\"Check if {state['category_name']} is a brand product category or generic category.\")\n",
    "    print(result)\n",
    "    return {\"category_type\": result.category_type}\n",
    "    \n",
    "def continue_or_stop(state: State):\n",
    "    if state[\"category_type\"] == \"brand\":\n",
    "        return \"get_search_engine_query\"\n",
    "    else:\n",
    "        return END\n",
    "\n",
    "def get_search_engine_query(state: State):\n",
    "    search_query = llm.with_structured_output(SearchQuery).invoke(\n",
    "        f\"Get a search query for {state['category_name']} category which is optimized for search engines to get relevant product listing pages.\"\n",
    "        )\n",
    "    print(search_query)\n",
    "    return {\"search_query\": search_query.search_query}\n",
    "\n",
    "class ProductListingPageLinks(BaseModel):\n",
    "    links: List[str] = Field(None, description=\"Product listing page links relevant to provided brand category name.\")\n",
    "\n",
    "def get_product_listing_page_links(state: State):\n",
    "    product_listing_links = state.get('product_listing_links')\n",
    "    if product_listing_links is None or len(product_listing_links) == 0:\n",
    "        results = tool.run(state[\"search_query\"])\n",
    "        print(results)\n",
    "        links = llm.with_structured_output(ProductListingPageLinks).invoke(\n",
    "            f\"Filter out product listing page links relevant to {state['category_name']} category in search results. results: {results}\"\n",
    "        )\n",
    "        product_listing_links = links.links\n",
    "        print(\"google search product listing links: \", product_listing_links)\n",
    "    return {\"product_listing_links\": product_listing_links}\n",
    "\n",
    "class PdpLinkPages(BaseModel):\n",
    "    pdp_links: List[str] = Field(None, description=\"Product detail page links relevant to provided product listing page links.\")\n",
    "\n",
    "def scrap_and_get_pdp_links(worker_state: ProductDetailPageLinkWorkerState):\n",
    "    try:\n",
    "        html = asyncio.run(scrape(worker_state[\"product_listing_link\"]))\n",
    "        html_transformer = Html2TextTransformer(ignore_links=False)\n",
    "        docs_transformed = html_transformer.transform_documents([Document(page_content=html)])\n",
    "        content = docs_transformed[0].page_content\n",
    "        # print(content)\n",
    "        \n",
    "        product_detail_page_links = llm.with_structured_output(PdpLinkPages).invoke(\n",
    "            [\n",
    "                SystemMessage(content=\"You are proudct detail page url collector from given raw content.\"),\n",
    "                HumanMessage(content=f\"Give proper formatted list of product detail page links in following content belonging to {worker_state['category_name']} category if present else empty list: {content}\")\n",
    "            ]\n",
    "        )\n",
    "        domain_name = worker_state[\"product_listing_link\"].split(\"/\")[2]\n",
    "        product_detail_page_links.pdp_links = [link if \"http\" in link else f\"https://{domain_name}{link}\" for link in product_detail_page_links.pdp_links]\n",
    "        return {\"product_detail_page_links\": product_detail_page_links.pdp_links}\n",
    "    except Exception as e:\n",
    "        print(str(e))\n",
    "        return {\"error\": str(e)}\n",
    "\n",
    "def get_product_detail_page_links(state: State):\n",
    "    if len(state[\"product_listing_links\"]) > 0:\n",
    "        print(\"Product Listing Page Links\")\n",
    "        print(state[\"product_listing_links\"])\n",
    "    return [Send(\"scrap_and_get_pdp_links\", {\"product_listing_link\": link, \"category_name\": state[\"category_name\"]}) for link in state[\"product_listing_links\"]]\n",
    "\n",
    "def scrap_and_get_products(worker_state: WorkerState):\n",
    "    try:\n",
    "        html = asyncio.run(scrape(worker_state[\"link\"]))\n",
    "        html_transformer = Html2TextTransformer(ignore_images=False)\n",
    "        docs_transformed = html_transformer.transform_documents([Document(page_content=html)])\n",
    "        content = docs_transformed[0].page_content\n",
    "        \n",
    "        product_result = product_llm.invoke(\n",
    "            [\n",
    "                SystemMessage(content=\"You are product detail extractor from given raw content.\"),\n",
    "                HumanMessage(content=f\"Give proper product detail in following content: {content}\")\n",
    "            ]\n",
    "        )\n",
    "        if product_result.images is not None:\n",
    "            product_result.images = [image if \"http\" in image else f\"https://{worker_state['link'].split('/')[2]}{image}\" for image in product_result.images]\n",
    "        \n",
    "        product_result.ref_link = worker_state[\"link\"]\n",
    "        return {\"completed_products\": [product_result]}\n",
    "    except Exception as e:\n",
    "        print(str(e))\n",
    "        return {\"error\": str(e)}\n",
    "\n",
    "def assign_workers_to_links(state: State):\n",
    "    print(\"Product Detail Page Links\")\n",
    "    print(state[\"product_detail_page_links\"])\n",
    "    return [Send(\"scrap_and_get_products\", {\"link\": link}) for link in state[\"product_detail_page_links\"]]\n",
    "\n",
    "def synthesizer(state: State):\n",
    "    unique_products = [] # based on model number\n",
    "    for product in state[\"completed_products\"]:\n",
    "        if product.model_number is None or product.model_number not in [p.model_number for p in unique_products]:\n",
    "            unique_products.append(product)\n",
    "            \n",
    "    # unique_products1 = [] \n",
    "    # compare products based on name and description and save them in unique_products1\n",
    "    # for product in unique_products:\n",
    "    #     if product.name is None or product.description is None:\n",
    "    #         continue\n",
    "    #     if len(unique_products1) == 0:\n",
    "    #         unique_products1.append(product)\n",
    "    #     else:\n",
    "    #         for p in unique_products1:\n",
    "    #             similarity = compare_strings(product.name, p.name)\n",
    "    #             if similarity < 0.8:\n",
    "    #                 unique_products1.append(product)\n",
    "    #                 break\n",
    "    \n",
    "    return {\n",
    "        \"products\": unique_products\n",
    "    }"
   ]
  },
  {
   "cell_type": "markdown",
   "metadata": {},
   "source": [
    "### Compiling Langgraph"
   ]
  },
  {
   "cell_type": "code",
   "execution_count": 38,
   "metadata": {},
   "outputs": [],
   "source": [
    "# Build workflow\n",
    "b2b_products_repo_builder = StateGraph(State)\n",
    "\n",
    "# Add the nodes\n",
    "b2b_products_repo_builder.add_node(\"check_brand_category_type\", check_brand_category_type)\n",
    "b2b_products_repo_builder.add_node(\"get_search_engine_query\", get_search_engine_query)\n",
    "b2b_products_repo_builder.add_node(\"get_product_listing_page_links\", get_product_listing_page_links)\n",
    "b2b_products_repo_builder.add_node(\"scrap_and_get_pdp_links\", scrap_and_get_pdp_links)\n",
    "b2b_products_repo_builder.add_node(\"scrap_and_get_products\", scrap_and_get_products)\n",
    "b2b_products_repo_builder.add_node(\"synthesizer\", synthesizer)\n",
    "\n",
    "# Add edges to connect nodes\n",
    "b2b_products_repo_builder.add_edge(START, \"check_brand_category_type\")\n",
    "b2b_products_repo_builder.add_conditional_edges('check_brand_category_type', continue_or_stop, {\n",
    "    \"get_search_engine_query\": 'get_search_engine_query',\n",
    "    END: END\n",
    "})\n",
    "b2b_products_repo_builder.add_edge(\"get_search_engine_query\", \"get_product_listing_page_links\")\n",
    "b2b_products_repo_builder.add_conditional_edges(\n",
    "    \"get_product_listing_page_links\", get_product_detail_page_links, [\"scrap_and_get_pdp_links\"]\n",
    ")\n",
    "b2b_products_repo_builder.add_conditional_edges(\n",
    "    \"scrap_and_get_pdp_links\", assign_workers_to_links, [\"scrap_and_get_products\"]\n",
    ")\n",
    "b2b_products_repo_builder.add_edge(\"scrap_and_get_products\", \"synthesizer\")\n",
    "b2b_products_repo_builder.add_edge(\"synthesizer\", END)\n",
    "\n",
    "# Compile the workflow\n",
    "b2b_products_repo = b2b_products_repo_builder.compile()\n",
    "\n",
    "# Show the workflow\n",
    "# display(Image(b2b_products_repo.get_graph().draw_mermaid_png()))"
   ]
  },
  {
   "cell_type": "code",
   "execution_count": 39,
   "metadata": {},
   "outputs": [
    {
     "name": "stdout",
     "output_type": "stream",
     "text": [
      "started.....\n",
      "category_type='brand'\n",
      "search_query='Honda Water Pumps for Sale - Best Prices and Reviews' justification=\"This search query includes the brand name 'Honda' and the product type 'Water Pumps', which helps in targeting users specifically looking for Honda water pumps. The phrase 'for Sale' indicates intent to purchase, while 'Best Prices and Reviews' attracts users looking for competitive pricing and product evaluations, enhancing the likelihood of relevant product listing pages appearing in search results.\"\n",
      "[{'title': 'Honda Portable Water Pumps', 'link': 'https://www.hondaindiapower.com/product-category/water-pumps', 'snippet': 'This pumpset discharge water 1100 litres per minute. This model is best suitable for water intensive crop. 32,800.00. Buy Now. Water Pumps. WB20XD. Honda Water\\xa0...'}, {'title': 'Balwaan WP-33R 7HP Water Pump', 'link': 'https://www.balwaan.com/product/balwaan-wp33r-water-pump', 'snippet': 'Buy Balwaan 7HP Water Pump (WP33R) | Get Amazing offers on Water Pumps with free Shipping and COD.'}, {'title': 'Portable Water Pump WB30XD | 4 - Stroke Best Portable Water Pump', 'link': 'https://www.hondaindiapower.com/product-detail/wb30xd', 'snippet': 'Honda WB30XD is a 3\" pump set with High Discharge of 1100 lpm weighing only 28 kg. It comes equipped with self priming technology and easy recoil start for\\xa0...'}, {'title': 'Vaibhavi Sales in Tilak Road, Akola - Best Submersible Pump ...', 'link': 'https://www.justdial.com/jdmart/Akola/Vaibhavi-Sales-Bada-Ganpati-Mandir-Tilak-Road/9999PX724-X724-210419112028-W4Y4_BZDET/catalogue', 'snippet': 'Get Best Price, Address, Contact Number, Reviews and Ratings of Vaibhavi Sales in Akola on Justdial ... Honda Water Pumps (Wx10)Request For Quote. Get Best\\xa0...'}, {'title': 'Honda Water Pump - Amazon.in', 'link': 'https://www.amazon.in/honda-water-pump/s?k=honda+water+pump', 'snippet': \"Top Brands. Customer Reviews. & Up. Water Pumps. Item Condition. New. Price and Deals. Price. ₹360 – ₹75,600+. Deals & Discounts. All Discounts · Today's Deals.\"}, {'title': 'Ws20X Honda Water Pump Set Price Starting From Rs 18,020/Unit ...', 'link': 'https://www.justdial.com/jdmart/Salem/Ws20X-Honda-Water-Pump-Set/jdm-1118398-ent-6-22988238', 'snippet': 'Find 101 Ws20X Honda Water Pump Set products from verified sellers in Salem. Get Phone Numbers, Address, Reviews, Photos, Maps, FAQs for top Ws20X Honda\\xa0...'}, {'title': 'Shakti Pumps | Water Pumps, Motors Manufacturers & Suppliers', 'link': 'https://www.shaktipumps.com/', 'snippet': \"Shakti Pumps India Ltd is the world's largest pumps, motors manufacturer & supplier. Domestic, agricultural, industrial, water, oil, gas, floodwater & more.\"}, {'title': 'Top Honda Water Pump Dealers in Ambikapur - Justdial', 'link': 'https://www.justdial.com/Ambikapur/Water-Pump-Dealers-Honda-in-Ambikapur-Surguja/nct-10531211', 'snippet': 'Water Pump Dealers-Honda in Ambikapur, Ambikapur - Find the best Honda water pumps for agriculture, irrigation, and construction. Explore top deals to buy\\xa0...'}, {'title': 'Buy Husqvarna 1.5 Inch Water Pump - Best Price Online ...', 'link': 'https://novo3ds.in/husqvarna/', 'snippet': 'Get the best price for Husqvarna 1.5 inch water pump with a 4 stroke petrol engine for agricultural irrigation and draining. Buy online now.'}, {'title': 'Sp Traders in Budheshwari Colony, Bhubaneshwar - Best Pump ...', 'link': 'https://www.justdial.com/Bhubaneshwar/Sp-Traders-Near-Sbi-Colony-Budheshwari-Colony/0674PX674-X674-190929023610-C7F2_BZDET', 'snippet': '... good n helpful...N de y sales water pump n generator @ vry cheap price among other dealers... 8 years ago. Helpful. Comment. Share. User. 1 review, 0 follower.'}]\n",
      "google search product listing links:  ['https://www.hondaindiapower.com/product-category/water-pumps', 'https://www.hondaindiapower.com/product-detail/wb30xd', 'https://www.amazon.in/honda-water-pump/s?k=honda+water+pump', 'https://www.justdial.com/Ambikapur/Water-Pump-Dealers-Honda-in-Ambikapur-Surguja/nct-10531211', 'https://www.justdial.com/jdmart/Salem/Ws20X-Honda-Water-Pump-Set/jdm-1118398-ent-6-22988238']\n",
      "Product Listing Page Links\n",
      "['https://www.hondaindiapower.com/product-category/water-pumps', 'https://www.hondaindiapower.com/product-detail/wb30xd', 'https://www.amazon.in/honda-water-pump/s?k=honda+water+pump', 'https://www.justdial.com/Ambikapur/Water-Pump-Dealers-Honda-in-Ambikapur-Surguja/nct-10531211', 'https://www.justdial.com/jdmart/Salem/Ws20X-Honda-Water-Pump-Set/jdm-1118398-ent-6-22988238']\n",
      "Page.goto: net::ERR_HTTP2_PROTOCOL_ERROR at https://www.justdial.com/Ambikapur/Water-Pump-Dealers-Honda-in-Ambikapur-Surguja/nct-10531211\n",
      "Call log:\n",
      "  - navigating to \"https://www.justdial.com/Ambikapur/Water-Pump-Dealers-Honda-in-Ambikapur-Surguja/nct-10531211\", waiting until \"domcontentloaded\"\n",
      "\n",
      "Product Detail Page Links\n",
      "[]\n",
      "Page.goto: net::ERR_HTTP2_PROTOCOL_ERROR at https://www.justdial.com/jdmart/Salem/Ws20X-Honda-Water-Pump-Set/jdm-1118398-ent-6-22988238\n",
      "Call log:\n",
      "  - navigating to \"https://www.justdial.com/jdmart/Salem/Ws20X-Honda-Water-Pump-Set/jdm-1118398-ent-6-22988238\", waiting until \"domcontentloaded\"\n",
      "\n",
      "Product Detail Page Links\n",
      "[]\n",
      "Product Detail Page Links\n",
      "[]\n",
      "Product Detail Page Links\n",
      "[]\n",
      "Product Detail Page Links\n",
      "['https://www.amazon.in/Honda-Water-Petrol-Output-Input/dp/B0D4LWS2KJ/ref=sr_1_1', 'https://www.amazon.in/Honda-Water-Pump-Discharge-Agricultural/dp/B0D58NBQ5H/ref=sr_1_2', 'https://www.amazon.in/Honda-Water-Pump-Discharge-Agricultural/dp/B0D58P2LGC/ref=sr_1_3', 'https://www.amazon.in/Water-NB-WA20-4-Stroke-Petrol-Engine/dp/B0DW93PQ6F/ref=sr_1_4', 'https://www.amazon.in/PRITHVI-Power-Petrol-Water-Multicolour/dp/B07MNGFX2Z/ref=sr_1_5', 'https://www.amazon.in/WP-30-Technology-Agricultural-Irrigation-Construction/dp/B0CJFQTP33/ref=sr_1_6', 'https://www.amazon.in/Neptune-Simplify-Farming-WP-30-Water-Pump/dp/B0CJFQTP33/ref=sr_1_6', 'https://www.amazon.in/KISTON-Recoil-Starter-Model-Water/dp/B09QMKHR5W/ref=sr_1_8', 'https://www.amazon.in/BUILDSKILL-Automatic-Connected-Adjustable-Supply/dp/B0DRSMY3V8/ref=sr_1_9', 'https://www.amazon.in/Balwaan-WP-22R-Inch-Outlet-Agriculture/dp/B0CZ97M11D/ref=sr_1_10', 'https://www.amazon.in/Crompton-ULTIMO-II-Residential-Regenerative/dp/B0CH43VB91/ref=sr_1_11', 'https://www.amazon.in/KisanKraft-Water-Petrol-Engine-Yellow/dp/B01MYGE4H2/ref=sr_1_12', 'https://www.amazon.in/DVI-Advanced-Technology-Portable-Multicolour/dp/B09YQ51P24/ref=sr_1_15', 'https://www.amazon.in/DVI-WATER-TECHNOLOGY-AGRICULTURE-INDUSTRIES/dp/B0CC2V8QSR/ref=sr_1_24', 'https://www.amazon.in/CALANDIS-Mechanical-Seals-WB20xh-WB30xh/dp/B0B1MR27PL/ref=sr_1_39', 'https://www.amazon.in/REALLY-AGRITECH-MY-WA20-4-Stroke-Petrol/dp/B0F31NJ4HF/ref=sr_1_40', 'https://www.amazon.in/OAW-HO2420-Engine-Water-2001-2005/dp/B017AFT0IK/ref=sr_1_33', 'https://www.amazon.in/WATERPUMP-HONDA-CITY-TYPE-6/dp/B09JMTHTD2/ref=sr_1_34']\n",
      "Error code: 429 - {'error': {'message': 'Rate limit reached for gpt-4o-mini in organization org-3N70xRh7MHV26Jay5d2OgvV3 on tokens per min (TPM): Limit 200000, Used 199926, Requested 4111. Please try again in 1.211s. Visit https://platform.openai.com/account/rate-limits to learn more.', 'type': 'tokens', 'param': None, 'code': 'rate_limit_exceeded'}}\n",
      "Error code: 429 - {'error': {'message': 'Rate limit reached for gpt-4o-mini in organization org-3N70xRh7MHV26Jay5d2OgvV3 on tokens per min (TPM): Limit 200000, Used 196846, Requested 3470. Please try again in 94ms. Visit https://platform.openai.com/account/rate-limits to learn more.', 'type': 'tokens', 'param': None, 'code': 'rate_limit_exceeded'}}\n",
      "Error code: 429 - {'error': {'message': 'Rate limit reached for gpt-4o-mini in organization org-3N70xRh7MHV26Jay5d2OgvV3 on tokens per min (TPM): Limit 200000, Used 194136, Requested 9069. Please try again in 961ms. Visit https://platform.openai.com/account/rate-limits to learn more.', 'type': 'tokens', 'param': None, 'code': 'rate_limit_exceeded'}}\n"
     ]
    }
   ],
   "source": [
    "state = b2b_products_repo.invoke({\n",
    "    \"category_name\": \"Honda Water Pumps\",\n",
    "})"
   ]
  },
  {
   "cell_type": "code",
   "execution_count": 48,
   "metadata": {},
   "outputs": [],
   "source": [
    "save_products_in_csv(state[\"products\"], f\"brand-products/{state['category_name']}.csv\")"
   ]
  },
  {
   "cell_type": "code",
   "execution_count": 47,
   "metadata": {},
   "outputs": [
    {
     "data": {
      "text/plain": [
       "{'name': 'Honda WS 20X Water Pump',\n",
       " 'description': 'The Honda WS 20X Water Pump is a powerful 2 HP petrol water pump designed for agricultural and multi-purpose use. It features a 2-inch output and input, non-self priming capability, and can discharge water at a rate of 520 liters per minute. This pump operates on a 4-stroke engine and comes with a 2-year warranty, ensuring reliability and durability for various water pumping needs.',\n",
       " 'model_number': 'YJIA-E30',\n",
       " 'specifications': {'Rated Power': '1.5 kW (2 HP)',\n",
       "  'Max Discharge': '520 L/min',\n",
       "  'Max Head': '16 m',\n",
       "  'Type': 'Non Self Priming Pump',\n",
       "  'Dry Weight': '22 kg',\n",
       "  'Engine Type': 'Air Cooled 4 stroke, O.H.V., Petrol Engine',\n",
       "  'Displacement': '79.7 cc',\n",
       "  'Fuel Type': 'Petrol'},\n",
       " 'images': ['https://images-eu.ssl-images-amazon.com/images/I/410wFohvTIL._AC_UL232_SR232,232_.jpg'],\n",
       " 'price': 19300.0,\n",
       " 'price_unit': '₹',\n",
       " 'ref_link': 'https://www.amazon.in/Honda-Water-Petrol-Output-Input/dp/B0D4LWS2KJ/ref=sr_1_1'}"
      ]
     },
     "execution_count": 47,
     "metadata": {},
     "output_type": "execute_result"
    }
   ],
   "source": [
    "dict(state['completed_products'][0])"
   ]
  },
  {
   "cell_type": "code",
   "execution_count": 28,
   "metadata": {},
   "outputs": [],
   "source": [
    "products = [\n",
    "    Product(\n",
    "        product_id=\"1\",\n",
    "        name=\"JCB Machine\",\n",
    "        brand=\"JCB\",\n",
    "        model_number=None,\n",
    "        description=\"JCB's range of rental-ready RS generators includes five Tier 4 Final-compliant models from 56 kW to 500 kW, designed for the North American rental market. Models include: G70RS, G125RS, G220RS, G400RS, G625RS\",\n",
    "        specifications={\"spec1\": \"value1\"},\n",
    "        product_variants=[],\n",
    "        images=[\"https://www.jcb.com/-/media/jcb/products/compact-excavators/19c-1e/19c-1e-compact-excavator-1.jpg\"],\n",
    "        category=\"Construction\",\n",
    "        subcategory=\"Excavator\",\n",
    "        price_range=(1000000, 2000000),\n",
    "        price_unit=\"INR\"\n",
    "    ),\n",
    "    Product(\n",
    "        product_id=\"2\",\n",
    "        name=\"JCB Machine\",\n",
    "        brand=\"JCB\",\n",
    "        model_number=None,\n",
    "        description=\"The JCB Electric Dumpster is a 100% electric powered machine designed for indoor and outdoor work in zero emission zones. It features low noise operation and is built to save time, energy and money.\",\n",
    "        specifications={\"spec1\": \"value1\"},\n",
    "        product_variants=[],\n",
    "        images=[\"https://www.jcb.com/-/media/jcb/products/compact-excavators/19c-1e/19c-1e-compact-excavator-1.jpg\"],\n",
    "        category=\"Construction\",\n",
    "        subcategory=\"Excavator\",\n",
    "        price_range=(1000000, 2000000),\n",
    "        price_unit=\"INR\"\n",
    "    ),\n",
    "]"
   ]
  },
  {
   "cell_type": "code",
   "execution_count": 37,
   "metadata": {},
   "outputs": [
    {
     "data": {
      "text/plain": [
       "1.0"
      ]
     },
     "execution_count": 37,
     "metadata": {},
     "output_type": "execute_result"
    }
   ],
   "source": [
    "compare_strings(\"sumit kushwah\", \"sumit kushwah\")"
   ]
  },
  {
   "cell_type": "code",
   "execution_count": 31,
   "metadata": {},
   "outputs": [],
   "source": [
    "unique_products = [] # based on model number\n",
    "for product in products:\n",
    "    if product.model_number is None or product.model_number not in [p.model_number for p in unique_products]:\n",
    "        unique_products.append(product)\n",
    "        \n",
    "        \n",
    "# unique prouducts where model_numer is none and compare with similarity greate than 90\n",
    "unique_products = [] # based on model number\n",
    "for product in products:\n",
    "    if product.model_number is None and [p.model_number for p in unique_products]:\n",
    "        if compare_strings(product.name + \" \" + product.description, p.name + \" \" + p.description) > 0.90:\n",
    "            unique_products.append(product)"
   ]
  },
  {
   "cell_type": "code",
   "execution_count": null,
   "metadata": {},
   "outputs": [],
   "source": []
  },
  {
   "cell_type": "code",
   "execution_count": 32,
   "metadata": {},
   "outputs": [
    {
     "data": {
      "text/plain": [
       "[Product(product_id='1', name='JCB Machine', brand='JCB', model_number=None, description=\"JCB's range of rental-ready RS generators includes five Tier 4 Final-compliant models from 56 kW to 500 kW, designed for the North American rental market. Models include: G70RS, G125RS, G220RS, G400RS, G625RS\", specifications={'spec1': 'value1'}, product_variants=[], images=['https://www.jcb.com/-/media/jcb/products/compact-excavators/19c-1e/19c-1e-compact-excavator-1.jpg'], category='Construction', subcategory='Excavator', price_range=(1000000.0, 2000000.0), price_unit='INR'),\n",
       " Product(product_id='2', name='JCB Machine', brand='JCB', model_number=None, description='The JCB Electric Dumpster is a 100% electric powered machine designed for indoor and outdoor work in zero emission zones. It features low noise operation and is built to save time, energy and money.', specifications={'spec1': 'value1'}, product_variants=[], images=['https://www.jcb.com/-/media/jcb/products/compact-excavators/19c-1e/19c-1e-compact-excavator-1.jpg'], category='Construction', subcategory='Excavator', price_range=(1000000.0, 2000000.0), price_unit='INR')]"
      ]
     },
     "execution_count": 32,
     "metadata": {},
     "output_type": "execute_result"
    }
   ],
   "source": [
    "unique_products"
   ]
  },
  {
   "cell_type": "code",
   "execution_count": 78,
   "metadata": {},
   "outputs": [
    {
     "data": {
      "text/plain": [
       "[Product(product_id='JCB-AP-001', name='JCB Access Electric Scissors', brand='JCB', model_number='AP-ES-2023', description='JCB Access Electric Scissors range designed for rental companies and contractors worldwide. Features power to platform as standard. Certified to EN280 and complies with ANSI and CSA legislation.', specifications={'certification': 'EN280, ANSI, CSA compliant', 'type': 'Electric Scissors', 'power_supply': 'Electric', 'standard_feature': 'Power to platform'}, product_models=(FieldInfo(annotation=NoneType, required=False, default=None, description='Product vaiants detail.'),), images=['https://www.jcb.com/images/jcb-access-platforms.jpg'], category='Construction Equipment', subcategory='Access Platforms', price_range=(50000.0, 150000.0), price_unit='USD', confidence_scores={'name': 0.9, 'brand': 1.0, 'category': 0.9, 'specifications': 0.8, 'price_range': 0.6}),\n",
       " Product(product_id='JCB-BHL-2024', name='JCB Backhoe Loader', brand='JCB', model_number='BHL-2024', description='JCB Backhoe Loaders are versatile machines that combine excellent trenching, excavating, loading, lifting and material handling capabilities with the benefits of a single machine that is easy to maintain and simple to operate. Pioneered by JCB in 1953, they remain the world leader in Backhoe technology, innovation and capability.', specifications={'type': 'Backhoe Loader', 'capabilities': 'Trenching, excavating, loading, lifting, material handling', 'features': 'Easy maintenance, simple operation', 'market_position': \"World's most popular backhoe loader\"}, product_models=(FieldInfo(annotation=NoneType, required=False, default=None, description='Product vaiants detail.'),), images=['https://www.jcb.com/images/jcb-backhoe-loader.jpg'], category='Construction Equipment', subcategory='Backhoe Loaders', price_range=(75000.0, 150000.0), price_unit='USD', confidence_scores={'product_info': 0.9, 'specifications': 0.8, 'price_range': 0.7}),\n",
       " Product(product_id='JCB-CTL-270T', name='270T Compact Track Loader', brand='JCB', model_number='270T', description=\"The world's safest Compact Track Loader - flexible, multi-purpose and highly productive. Features JCB Powerboom™ single-arm design and side-door entry.\", specifications={'engine': '74 hp (55 kW) JCB EcoMAX', 'engine_features': 'No DEF, no DPF, no engine aftertreatment required', 'rated_operating_capacity': '2,096 lb (951kg) to 3,695 lb (1,676 kg)', 'boom_type': 'JCB Powerboom™ with 20% more steel than twin-arm designs', 'visibility': '60% better visibility than competitor machines'}, product_models=(FieldInfo(annotation=NoneType, required=False, default=None, description='Product vaiants detail.'),), images=['https://example.com/jcb-270t-1.jpg'], category='Construction Equipment', subcategory='Compact Track Loaders', price_range=(75000.0, 95000.0), price_unit='USD', confidence_scores={'name': 1.0, 'specifications': 0.9, 'price_range': 0.7}),\n",
       " Product(product_id='CT380-130', name='Vibratory Tandem Roller CT380-130', brand='JCB', model_number='CT380-130', description=None, specifications={'Operating Linear Load': '88.2 lb', 'Drum Width': '4.3 in', 'Max Engine Power': '36 hp', 'Gradeability': '40%', 'Centrifugal Force Range': '9,217 lbf - 13,264 lbf', 'Operating Weight': '9,039 lb'}, product_models=(FieldInfo(annotation=NoneType, required=False, default=None, description='Product vaiants detail.'),), images=['https://www.jcb.com/dfsmedia/261086efe15a46f5afb95d093ef038ea/62216-50121/resize/525x350/options/keepaspectratio/ct380-130-application-1'], category='Construction Equipment', subcategory='Compaction Equipment', price_range=(75000.0, 95000.0), price_unit='USD', confidence_scores={'specifications': 0.9, 'price_range': 0.7, 'category': 0.95}),\n",
       " Product(product_id='HTD-5E', name='Electric Dumpster HTD-5E', brand='JCB', model_number='HTD-5E', description='The JCB Electric Dumpster is a 100% electric powered machine designed for indoor and outdoor work in zero emission zones. It features low noise operation and is built to save time, energy and money.', specifications={'load_capacity': '1,102 LBS', 'peak_power': '12 HP', 'max_operating_weight': '2,700 LBS', 'maximum_width': '2 ft 4 inches', 'tipping_height': '4 ft 9 inches', 'charging_time': '2 hours with 220v charger'}, product_models=(FieldInfo(annotation=NoneType, required=False, default=None, description='Product vaiants detail.'),), images=['https://www.jcb.com/dfsmedia/261086efe15a46f5afb95d093ef038ea/45324-50123/resize/992x744/options/keepaspectratio/lowres-47561-etech-dumpster-thumbnail-sourcecopy-39'], category='Construction Equipment', subcategory='Dumpsters', price_range=(15000.0, 25000.0), price_unit='USD', confidence_scores={'product_id': 1.0, 'name': 1.0, 'brand': 1.0, 'specifications': 0.9, 'price_range': 0.6}),\n",
       " Product(product_id='JCB-POWERTRAIN-OEM', name='JCB Powertrain Solutions for OEM', brand='JCB', model_number='POWERTRAIN-OEM', description='Complete powertrain solution including engines, axles, transmissions and integrated drivelines for OEM manufacturers. Suitable for off-highway applications in the mid-range market, compatible with both conventional and hydrostatic driveline systems.', specifications={'Engine Power Range': '55kW-212kW', 'Applications': 'Agriculture, Construction, Ground Support Equipment, Marine, Material Handling, Material Processing, Government & Municipalities, Power Generation & Pumps', 'Components': 'Base Engines, G-Drive Engines, IPU Engines, Axles, Transmissions', 'Integration Support': 'Full engineering support from concept through installation', 'Service': 'Single point of contact for integration, engineering and servicing'}, product_models=(FieldInfo(annotation=NoneType, required=False, default=None, description='Product vaiants detail.'),), images=['https://www.jcb.com/dfsmedia/261086efe15a46f5afb95d093ef038ea/52658-50121/stage-v-base-engine', 'https://www.jcb.com/dfsmedia/261086efe15a46f5afb95d093ef038ea/64664-50121/powertrain-dead-steer-axle-white-angle-2', 'https://www.jcb.com/dfsmedia/261086efe15a46f5afb95d093ef038ea/64670-50121/powertrain-powershift-transmission-white'], category='Industrial Equipment', subcategory='Powertrain Systems', price_range=(50000.0, 500000.0), price_unit='USD', confidence_scores={'product_info': 0.9, 'specifications': 0.85, 'price_range': 0.6}),\n",
       " Product(product_id='370X', name='370X Tracked Excavator', brand='JCB', model_number='370X', description='The largest excavator in the advanced JCB X Series Range. Designed for quarrying, demolition and civil engineering applications, offering efficient cycle times, maximum uptime, supreme durability and unparalleled operator comfort.', specifications={'type': 'Heavy Tracked Excavator', 'application': 'Quarrying, Demolition, Civil Engineering'}, product_models=(FieldInfo(annotation=NoneType, required=False, default=None, description='Product vaiants detail.'),), images=['https://www.jcb.com/path/to/370x-excavator.jpg'], category='Construction Equipment', subcategory='Excavators', price_range=(250000.0, 350000.0), price_unit='USD', confidence_scores={'product_id': 1.0, 'name': 1.0, 'brand': 1.0, 'category': 0.9, 'specifications': 0.8, 'price_range': 0.6}),\n",
       " Product(product_id='RS-GEN-RANGE', name='RS Generator Range', brand='JCB', model_number='RS Series', description=\"JCB's range of rental-ready RS generators includes five Tier 4 Final-compliant models from 56 kW to 500 kW, designed for the North American rental market. Models include: G70RS, G125RS, G220RS, G400RS, G625RS.\", specifications={'Fuel Capacity Range': '132 gal - 593 gal (500L - 2,246L)', 'Fuel Autonomy': '24 - 36 Hours', 'Prime Power Range': '56 kW - 500 kW (70 kVA -626 kVA)', 'Emissions Compliance': 'Tier 4 Final', 'Cold Start Rating': '5°F (-15°C)', 'Service Interval': '500 hours', 'Construction': '2mm thick zintec steel canopy', 'Paint Process': '8 stage powder coat', 'Exhaust Treatment': 'Selective Catalytic Reduction (SCR)', 'Voltage Options': '480V, 208V and 240V rotary selector switch available'}, product_models=(FieldInfo(annotation=NoneType, required=False, default=None, description='Product vaiants detail.'),), images=['https://www.jcb.com/dfsmedia/261086efe15a46f5afb95d093ef038ea/42954-50123/resize/992x744/options/keepaspectratio/en-us-generator-g220rs'], category='Generators', subcategory='Rental Generators', price_range=(50000.0, 250000.0), price_unit='USD', confidence_scores={'product_id': 1.0, 'name': 1.0, 'brand': 1.0, 'model_number': 1.0, 'category': 1.0, 'specifications': 0.9, 'price_range': 0.6}),\n",
       " Product(product_id='JCB-HYDRADIG-001', name='JCB Hydradig', brand='JCB', model_number='HYDRADIG', description=None, specifications={'type': 'Wheeled Excavator', 'manufacturer': 'JCB'}, product_models=(FieldInfo(annotation=NoneType, required=False, default=None, description='Product vaiants detail.'),), images=['https://www.jcb.com/path/to/hydradig/image.jpg'], category='Construction Equipment', subcategory='Wheeled Excavators', price_range=(75000.0, 150000.0), price_unit='USD', confidence_scores={'name': 1.0, 'brand': 1.0, 'category': 0.9, 'subcategory': 0.9, 'price_range': 0.7}),\n",
       " Product(product_id='50Z-1', name='50Z-1 Compact Excavator', brand='JCB', model_number='50Z-1', description='JCB mini excavators are designed to excel in the five attributes that are most important to excavator customers and operators: comfort, controllability, reliability, serviceability and performance.', specifications={'type': 'Compact Excavator', 'design_focus': 'Maximum Productivity'}, product_models=(FieldInfo(annotation=NoneType, required=False, default=None, description='Product vaiants detail.'),), images=['https://www.jcb.com/images/50z-1-compact-excavator.jpg'], category='Construction Equipment', subcategory='Mini Excavators', price_range=(45000.0, 65000.0), price_unit='USD', confidence_scores={'product_id': 1.0, 'name': 1.0, 'brand': 1.0, 'category': 0.9, 'description': 1.0, 'price_range': 0.7}),\n",
       " Product(product_id='JCB-PPR-001', name='JCB Pothole Pro', brand='JCB', model_number='PPR-2024', description=None, specifications={'type': 'Road Repair Machine', 'application': 'Pothole Repair'}, product_models=(FieldInfo(annotation=NoneType, required=False, default=None, description='Product vaiants detail.'),), images=['https://www.jcb.com/path/to/pothole-pro-image.jpg'], category='Construction Equipment', subcategory='Road Maintenance Equipment', price_range=(75000.0, 150000.0), price_unit='USD', confidence_scores={'name': 1.0, 'brand': 1.0, 'category': 0.9, 'price_range': 0.7}),\n",
       " Product(product_id='JCB-RTH-2024', name='JCB Rotating Telehandler', brand='JCB', model_number='RTH-2024', description=\"From the world's number one telehandler manufacturer, JCB's Rotating Telehandler offers round-the-clock versatility, productivity, savings/efficiency, safety and simplicity. Built with over 40 years of manufacturing heritage from a company that has produced over 270,000 Loadalls.\", specifications={'type': 'Rotating Telehandler', 'manufacturer_experience': '40+ years', 'units_produced': '270,000+ Loadalls', 'key_features': 'Round-the-clock versatility, Enhanced productivity, Improved efficiency, Advanced safety features, Operational simplicity'}, product_models=(FieldInfo(annotation=NoneType, required=False, default=None, description='Product vaiants detail.'),), images=['https://www.jcb.com/images/rotating-telehandler.jpg'], category='Construction Equipment', subcategory='Telehandlers', price_range=(150000.0, 250000.0), price_unit='USD', confidence_scores={'product_name': 1.0, 'brand': 1.0, 'category': 0.9, 'specifications': 0.8, 'price_range': 0.6}),\n",
       " Product(product_id='JCB-RTFL-930', name='930 Rough Terrain Forklift', brand='JCB', model_number='930', description=\"A reliable, versatile and easy-to-use rough terrain forklift designed for high mobility and superb productivity in rough terrain areas. Perfect for various environments including docks, yards, special events, timber forestry, construction sites, farms and builders' merchants.\", specifications={'engine': 'JCB EcoMax', 'transmission': 'Innovative transmission system for fast directional changes', 'key_features': 'High mobility, Superior traction, Efficient operation'}, product_models=(FieldInfo(annotation=NoneType, required=False, default=None, description='Product vaiants detail.'),), images=['https://www.jcb.com/images/jcb-rtfl-930.jpg'], category='Construction Equipment', subcategory='Rough Terrain Forklifts', price_range=(75000.0, 95000.0), price_unit='USD', confidence_scores={'name': 0.9, 'brand': 1.0, 'model_number': 0.9, 'specifications': 0.8, 'price_range': 0.7}),\n",
       " Product(product_id='JCB-SITE-DUMPER', name='JCB Site Dumpers', brand='JCB', model_number='1TE-6T', description=\"JCB's range of site dumpers featuring machines between one and nine tonnes, designed with innovative safety features and industry-first ideas. These dumpers come with a 2-year/2,000-hour warranty and are backed by JCB's global dealer and parts network.\", specifications={'capacity_range': '1-9 tonnes', 'warranty': '2-year/2,000-hour', 'available_models': '1TE Site Dumper, 6T Site Dumper'}, product_models=(FieldInfo(annotation=NoneType, required=False, default=None, description='Product vaiants detail.'),), images=['https://example.com/jcb-1te-site-dumper.jpg', 'https://example.com/jcb-6t-site-dumper.jpg'], category='Construction Equipment', subcategory='Site Dumpers', price_range=(50000.0, 150000.0), price_unit='USD', confidence_scores={'product_info': 0.9, 'specifications': 0.8, 'price_range': 0.6}),\n",
       " Product(product_id='JCB-SSL-215', name='JCB 215 Skid Steer Loader', brand='JCB', model_number='215', description='Safest Skid Steer Loader with wide side door entry, featuring the iconic single-arm JCB Powerboom™', specifications={'engine': '74 hp (55 kW) JCB EcoMAX', 'engine_features': 'No DEF, no DPF, no engine aftertreatment required', 'rated_operating_capacity': '2,112 lb (958 kg)', 'visibility': '60% better than competitor machines', 'special_features': 'JCB Powerboom™ with 20% more steel than twin-arm designs', 'entry': 'Side-door entry'}, product_models=(FieldInfo(annotation=NoneType, required=False, default=None, description='Product vaiants detail.'),), images=['https://www.jcb.com/images/jcb-215-skid-steer.jpg'], category='Construction Equipment', subcategory='Skid Steer Loaders', price_range=(45000.0, 65000.0), price_unit='USD', confidence_scores={'specifications': 0.9, 'price_range': 0.7, 'model_info': 0.95}),\n",
       " Product(product_id='TM320-TL', name='TM320 Telescopic Wheel Loader', brand='JCB', model_number='TM320', description='A versatile and productive machine that combines the benefits of a wheel loader and telescopic handler. Features articulated steering, telescopic reach, and compatibility with various attachments. Powered by JCB EcoMAX engine with no diesel particulate filter requirement.', specifications={'engine': 'JCB EcoMAX', 'engine_features': 'No diesel particulate filter, No regeneration required', 'warranty': '2-year/2,000-hour', 'steering': 'Articulated', 'key_features': 'Telescopic reach, Multiple attachment compatibility'}, product_models=(FieldInfo(annotation=NoneType, required=False, default=None, description='Product vaiants detail.'),), images=['https://example.com/jcb-tm320-1.jpg'], category='Construction Equipment', subcategory='Telescopic Wheel Loaders', price_range=(75000.0, 120000.0), price_unit='USD', confidence_scores={'name': 0.9, 'brand': 1.0, 'model': 0.9, 'specifications': 0.8, 'price_range': 0.6}),\n",
       " Product(product_id='JCB-TELESKID-001', name='JCB Teleskid Skid Steer & Compact Track Loader', brand='JCB', model_number='TELESKID', description=\"The world's first and only skid steer loader and compact track loader with a telescoping boom, allowing it to lift higher, reach further and dig deeper than any skid steer on the market.\", specifications={'type': 'Skid Steer & Compact Track Loader', 'key_feature': 'Telescoping boom', 'capabilities': 'Higher lifting, further reaching, deeper digging compared to conventional skid steers'}, product_models=(FieldInfo(annotation=NoneType, required=False, default=None, description='Product vaiants detail.'),), images=['https://www.jcb.com/asset/5/42900.ashx'], category='Construction Equipment', subcategory='Skid Steer Loaders', price_range=(75000.0, 95000.0), price_unit='USD', confidence_scores={'product_info': 0.9, 'specifications': 0.8, 'price_range': 0.6}),\n",
       " Product(product_id='JCB-TELETRUK', name='JCB Teletruk Forklift', brand='JCB', model_number='66-40E/77-52D', description='The JCB Teletruk is a unique forklift design featuring a telescopic boom instead of a conventional vertical mast, first developed in 1997. It offers improved productivity, safety, and space efficiency with unrivaled visibility, forward reach and lift capacity in a compact machine. The Teletruk combines the capabilities of multiple machines including a conventional forklift, skid steer loader, compact telescopic handler, rough terrain forklift and compact wheel loader.', specifications={'boom_type': 'Telescopic', 'carriage_rotation': '111 degrees', 'variants': 'Electric (66-40E) and Diesel (77-52D)', 'features': 'Forward reach capability, Quick attachment change system, Compact design', 'emissions_66-40E': 'Zero emissions'}, product_models=(FieldInfo(annotation=NoneType, required=False, default=None, description='Product vaiants detail.'),), images=['https://example.com/jcb-teletruk-66-40e.jpg', 'https://example.com/jcb-teletruk-77-52d.jpg'], category='Construction Equipment', subcategory='Forklifts', price_range=(75000.0, 150000.0), price_unit='USD', confidence_scores={'product_info': 0.9, 'specifications': 0.8, 'price_range': 0.6}),\n",
       " Product(product_id='457-wheel-loader', name='457 Wheel Loader', brand='JCB', model_number='457', description='A wheel loader designed with customer input focusing on safety, efficiency, ease-of-use, ease-of-maintenance, productivity, performance, reliability and comfort. Suitable for various applications with multiple model configurations available.', specifications={'financing': '0% for 60 months available', 'type': 'Heavy wheel loader', 'features': 'Operator comfort focused design'}, product_models=(FieldInfo(annotation=NoneType, required=False, default=None, description='Product vaiants detail.'),), images=['https://www.jcb.com/images/jcb-457-wheel-loader.jpg'], category='Construction Equipment', subcategory='Wheel Loaders', price_range=(75000.0, 150000.0), price_unit='USD', confidence_scores={'name': 1.0, 'brand': 1.0, 'model': 1.0, 'category': 0.9, 'price_range': 0.7}),\n",
       " Product(product_id='JCB-HYDRADIG-001', name='JCB Hydradig', brand='JCB', model_number='HYDRADIG', description=None, specifications={'type': 'Wheeled Excavator', 'manufacturer': 'JCB'}, product_models=(FieldInfo(annotation=NoneType, required=False, default=None, description='Product vaiants detail.'),), images=['https://www.jcb.com/path/to/hydradig/image.jpg'], category='Construction Equipment', subcategory='Wheeled Excavators', price_range=(85000.0, 150000.0), price_unit='USD', confidence_scores={'name': 1.0, 'brand': 1.0, 'category': 0.9, 'subcategory': 0.9, 'price_range': 0.7}),\n",
       " Product(product_id='JCB-SITE-DUMPER', name='JCB Site Dumper Range', brand='JCB', model_number='1T-2/1TE/3T-1/6T-1/9T-1', description='The JCB Site Dumper range is versatile and robust, designed to meet the diverse needs of job sites across various industries. Features include ROPS (Roll Over Protection Structure), FOPS (Falling Object Protection Structure), and LiveLink software system for remote management.', specifications={'1T-2_Payload': '1000Kg', '1T-2_Max_Engine_Power': '16.1Kw', '1T-2_Operating_Weight': '1515Kg', '1TE_Payload': '1000Kg', '1TE_Max_Engine_Power': '20Kw', '1TE_Operating_Weight': '1625Kg', '3T-1_Payload': '3000Kg', '3T-1_Max_Engine_Power': '27.4KW', '3T-1_Operating_Weight': '2325Kg', '6T-1_Payload': '6000Kg', '6T-1_Engine_Power': '55KW', '6T-1_Operating_Weight': '4900-5470Kg', '9T-1_Payload': '9000Kg', '9T-1_Engine_Power': '55Kw', '9T-1_Operating_Weight': '5460-5800Kg'}, product_models=(FieldInfo(annotation=NoneType, required=False, default=None, description='Product vaiants detail.'),), images=['https://www.jcbcea.com.au/wp-content/uploads/2023/04/JCB-CEA-2022.png'], category='Construction Equipment', subcategory='Site Dumpers', price_range=(50000.0, 150000.0), price_unit='AUD', confidence_scores={'product_id': 1.0, 'name': 1.0, 'brand': 1.0, 'model_number': 1.0, 'category': 1.0, 'subcategory': 1.0, 'specifications': 0.9, 'price_range': 0.6}),\n",
       " Product(product_id='JCB-3CX-BHL', name='3CX Backhoe Loader', brand='JCB', model_number='3CX', description=\"JCB's iconic backhoe loader with over 60 years of heritage. The 3CX model offers powerful performance with 81kW engine power and impressive 5.46m dig depth capability.\", specifications={'Max Engine Power': '81kw (109hp)', 'Max Dig Depth': '5.46m', 'Bucket Capacity': '1.0m3 / 1.2m3'}, product_models=(FieldInfo(annotation=NoneType, required=False, default=None, description='Product vaiants detail.'),), images=['https://www.jcbcea.com.au/wp-content/uploads/2023/04/JCB-CEA-2022.png'], category='Construction Equipment', subcategory='Backhoe Loaders', price_range=(150000.0, 200000.0), price_unit='AUD', confidence_scores={'specifications': 0.9, 'model': 0.9, 'price_range': 0.6}),\n",
       " Product(product_id='JCB-18Z-1', name='JCB 18Z-1 Mini Excavator', brand='JCB', model_number='18Z-1', description=None, specifications={'Transport Weight': '1680kg', 'Max Dig Depth': '2.4m', 'Max Dump Height': '2.6m'}, product_models=(FieldInfo(annotation=NoneType, required=False, default=None, description='Product vaiants detail.'),), images=['https://www.jcbcea.com.au/wp-content/uploads/2023/04/JCB-CEA-2022.png'], category='Construction Equipment', subcategory='Mini Excavators', price_range=(45000.0, 55000.0), price_unit='AUD', confidence_scores={'name': 1.0, 'specifications': 1.0, 'category': 1.0, 'price_range': 0.7}),\n",
       " Product(product_id='JCB-300T-CTL', name='JCB 300T Compact Track Loader', brand='JCB', model_number='300T', description='The JCB 300T Compact Track Loader is designed with a unique single boom and side entry layout. It offers superior safety features, excellent visibility, and improved fuel efficiency. The machine is built for safe, economical and highly productive operation.', specifications={'Engine Power': '68.6kW', 'Operating Capacity': '1452kg', 'Lift Path': 'Vertical', 'Operating Weight': '5248kg', 'Visibility': '270° visibility', 'Cab Size': '46% larger than other brands on small platform, 33% larger on large platform', 'Serviceability': '24% better serviceability on large platforms'}, product_models=(FieldInfo(annotation=NoneType, required=False, default=None, description='Product vaiants detail.'),), images=['https://www.jcbcea.com.au/wp-content/uploads/2023/04/JCB-CEA-2022.png'], category='Construction Equipment', subcategory='Compact Track Loaders', price_range=(75000.0, 95000.0), price_unit='USD', confidence_scores={'specifications': 0.9, 'model_number': 1.0, 'brand': 1.0, 'name': 1.0, 'category': 0.9, 'price_range': 0.6}),\n",
       " Product(product_id='JCB-ENGINE-STAGE2-4CYL', name='JCB Stage II/Tier 2 Base Engine 4 Cylinder', brand='JCB', model_number='4.4L-STAGE2', description=None, specifications={'displacement': '4.4L', 'peak_torque': 'Up to 695Nm', 'power_rating': '55kW (74hp) - 19kW (173hp)'}, product_models=(FieldInfo(annotation=NoneType, required=False, default=None, description='Product vaiants detail.'),), images=['https://www.jcbcea.com.au/wp-content/uploads/2023/04/JCB-CEA-2022.png'], category='Engines', subcategory='Industrial Engines', price_range=(15000.0, 25000.0), price_unit='USD', confidence_scores={'name': 0.9, 'specifications': 0.9, 'price_range': 0.6}),\n",
       " Product(product_id='JCB-TELESKID-3TS-8', name='Teleskid 3TS-8 Skid Steer Loader', brand='JCB', model_number='3TS-8', description='The JCB Teleskid 3TS-8 is a safe, economical and productive skid steer loader featuring 270° visibility, 46% larger cab, and superior fuel efficiency. It offers excellent serviceability and is designed with a single boom and side entry like a JCB telehandler.', specifications={'lifting_capacity': '1676kg', 'engine_power': '74Hp', 'max_load_height': '3.8m', 'operating_weight': '5722kg'}, product_models=(FieldInfo(annotation=NoneType, required=False, default=None, description='Product vaiants detail.'),), images=['https://www.jcbcea.com.au/wp-content/uploads/2023/04/JCB-CEA-2022.png'], category='Construction Equipment', subcategory='Skid Steer Loaders', price_range=(80000.0, 120000.0), price_unit='AUD', confidence_scores={'specifications': 0.9, 'model': 0.9, 'brand': 1.0, 'price_range': 0.6}),\n",
       " Product(product_id='JCB-TH-514-40', name='JCB 514-40 Telehandler', brand='JCB', model_number='514-40', description=None, specifications={'Max Engine Power': '19kW', 'Max Lift Capacity': '1400kg', 'Max Lift Height': '4.035m', 'Max Reach': '2.51m'}, product_models=(FieldInfo(annotation=NoneType, required=False, default=None, description='Product vaiants detail.'),), images=['https://www.jcbcea.com.au/wp-content/uploads/2023/04/JCB-CEA-2022.png'], category='Construction Equipment', subcategory='Telehandlers', price_range=(50000.0, 75000.0), price_unit='AUD', confidence_scores={'specifications': 0.9, 'price_range': 0.6}),\n",
       " Product(product_id='JCB-FASTRAC-4220', name='JCB iCON 4220 Fastrac Tractor', brand='JCB', model_number='4220', description=None, specifications={'Max Rated Power': '235HP (175kW)', 'Torque': '1,000Nm', 'Rear Lift Capacity': '8,000kg'}, product_models=(FieldInfo(annotation=NoneType, required=False, default=None, description='Product vaiants detail.'),), images=['https://www.jcbcea.com.au/wp-content/uploads/2023/04/JCB-CEA-2022.png'], category='Agricultural Equipment', subcategory='Tractors', price_range=(150000.0, 200000.0), price_unit='AUD', confidence_scores={'specifications': 0.9, 'price_range': 0.6}),\n",
       " Product(product_id='JCB-GEN-RANGE', name='JCB Diesel Generator Range', brand='JCB', model_number='8-600kVA', description='JCB offers an extensive range of high specification diesel generators designed for outstanding reliability, high performance and increased efficiency. Available in power ranges from 8kVA to 600kVA, suitable for prime and standby power applications in construction, rental, agricultural and commercial sectors.', specifications={'Power Range': '8-600 kVA', 'Frequency': '50/60 Hz', 'Engine Options': 'Yanmar, JCB Diesel by Kohler, JCB Dieselmax, Scania', 'Emissions': 'Fuel Optimised/Stage IIIA', 'Available Models': '8-20kVA, 20-45kVA, 65-140kVA, 165-220kVA, 275-600kVA'}, product_models=(FieldInfo(annotation=NoneType, required=False, default=None, description='Product vaiants detail.'),), images=['https://www.jcbcea.com.au/wp-content/uploads/2023/04/JCB-CEA-2022.png'], category='Power Generation Equipment', subcategory='Diesel Generators', price_range=(8000.0, 100000.0), price_unit='AUD', confidence_scores={'product_info': 0.9, 'specifications': 0.85, 'price_range': 0.6}),\n",
       " Product(product_id='TLT35D', name='TLT 35 D Teletruk Industrial Forklift', brand='JCB', model_number='TLT 35 D', description='The Teletruk industrial forklift provides unrivalled forward visibility, forward reach and large lift capacity on a compact machine. It features a telescopic boom instead of a vertical mast, with 111 degrees of carriage rotation for safe load handling. This versatile machine combines the functionality of multiple equipment types including Skid Steer Loader, Compact Telescopic Handler, Rough Terrain Forklift, Compact Wheeled Loader and Conventional Masted Forklift Truck.', specifications={'max_lift_capacity': '3500kg', 'capacity_at_2m_reach': '2400kg', 'max_lift_height': '4.4m (4.35m for 4wd option)'}, product_models=(FieldInfo(annotation=NoneType, required=False, default=None, description='Product vaiants detail.'),), images=['https://www.jcbcea.com.au/wp-content/uploads/2023/04/JCB-CEA-2022.png'], category='Industrial Forklifts', subcategory='Teletruks', price_range=(75000.0, 95000.0), price_unit='AUD', confidence_scores={'specifications': 0.9, 'description': 0.9, 'price_range': 0.6}),\n",
       " Product(product_id='HTD-5E', name='HTD-5E Electric Site Dumpster', brand='JCB', model_number='HTD-5E', description='The JCB HTD-5E is an electric site dumpster designed for efficient material handling with industry-leading safety features. It offers exceptional tip height, huge load capacity, and excellent precision and control. Its compact size makes it accessible in various working environments.', specifications={'Load Capacity': '500kg', 'Battery Rating': '4.9kWh', 'Max. Tracking Speed': '3km/h', 'Type': 'Electric'}, product_models=(FieldInfo(annotation=NoneType, required=False, default=None, description='Product vaiants detail.'),), images=['https://www.jcbcea.com.au/wp-content/uploads/2023/04/JCB-CEA-2022.png'], category='Construction Equipment', subcategory='Site Dumpsters', price_range=(15000.0, 25000.0), price_unit='AUD', confidence_scores={'name': 0.9, 'specifications': 0.9, 'price_range': 0.6, 'category': 0.9}),\n",
       " Product(product_id='1930E-TECH', name='JCB Electric Scissor Lift 1930E-Tech', brand='JCB', model_number='1930E-Tech', description=None, specifications={'platform_height': '5.7M', 'length': '1.64M', 'width': '0.75M'}, product_models=(FieldInfo(annotation=NoneType, required=False, default=None, description='Product vaiants detail.'),), images=['https://www.jcbcea.com.au/wp-content/uploads/2023/04/JCB-CEA-2022.png'], category='Construction Equipment', subcategory='Electric Scissors', price_range=(50000.0, 75000.0), price_unit='AUD', confidence_scores={'specifications': 0.9, 'price_range': 0.6}),\n",
       " Product(product_id='JCB-1CXT', name='JCB 1CXT Backhoe Loader', brand='JCB', model_number='1CXT', description=\"The JCB 1CXT is a versatile backhoe loader with excellent material handling and excavating capabilities, in a compact machine with the footprint, versatility and maneuverability similar to a compact track loader. Features a 49 hp engine requiring no aftertreatment, superior maneuverability, optional handheld tool auxiliary, and universal quick hitch compatible with most skid steer attachments. Its compact size and low weight make it easy to trailer and tow, often without requiring a Commercial Driver's License.\", specifications={'Gross Engine Power': '49 hp (36.3 kW)', 'Loader Bucket Breakout': '1,466 lb (665 kg)', 'Maximum Dig Depth': '10 ft 1 in (3.08 m)', 'Width': 'Less than 6 ft', 'Height': '7 ft 6 in', 'Transport Weight': 'Under 10,000 lb'}, product_models=(FieldInfo(annotation=NoneType, required=False, default=None, description='Product vaiants detail.'),), images=['https://i0.wp.com/www.fairchildequipment.com/wp-content/uploads/2021/05/backhoe-loader-1cxt-jcb.jpg', 'https://i0.wp.com/www.fairchildequipment.com/wp-content/uploads/2021/05/1cxt-jcb-backhoe-loader.jpg', 'https://i0.wp.com/www.fairchildequipment.com/wp-content/uploads/2021/05/jcb-1cxt-backhoe-loader-construction-site.jpg'], category='Construction Equipment', subcategory='Backhoe Loaders', price_range=(75000.0, 95000.0), price_unit='USD', confidence_scores={'name': 1.0, 'brand': 1.0, 'specifications': 0.9, 'price_range': 0.7}),\n",
       " Product(product_id='JCB-215-SSL', name='JCB 215 Skid Steer Loader', brand='JCB', model_number='215', description='The JCB 215 is a small-platform, vertical lift skid steer loader with the power and hydraulic flow of a large-platform machine. It is ideally suited to lifting and loading at height and operating variety of attachments. Features a rated operating capacity of 2,112 lb.', specifications={'Rated Operating Capacity': '2,112 lbs (958 kg)', 'Operating Weight': '7,253 lbs (3,290 kg)', 'Net Engine Power': '74 hp (55 kW)', 'Overall Length': '11 ft 5 in (3.49m)', 'Overall Height': '6 ft 6 in (1.98 m)', 'Dump Height': '7 ft 5 in (2.26 m)', 'Ground Clearance': '8.3 in (210 mm)', 'Standard Hydraulic Flow': '18.5 gpm', 'Optional High-Flow': '30.4 gpm'}, product_models=(FieldInfo(annotation=NoneType, required=False, default=None, description='Product vaiants detail.'),), images=['https://i0.wp.com/www.fairchildequipment.com/wp-content/uploads/2022/03/jcb-270w-ag-skid-steer-loader.jpg', 'https://i0.wp.com/www.fairchildequipment.com/wp-content/uploads/2022/03/jcb-215-skid-steer-loader.jpg', 'https://i0.wp.com/www.fairchildequipment.com/wp-content/uploads/2022/03/215-jcb-skid-steer.jpg', 'https://i0.wp.com/www.fairchildequipment.com/wp-content/uploads/2022/03/jcb-construction-215-skid-steer.jpg'], category='Construction Equipment', subcategory='Skid Steer Loaders', price_range=(75000.0, 95000.0), price_unit='USD', confidence_scores={'name': 1.0, 'brand': 1.0, 'specifications': 1.0, 'category': 0.9, 'price_range': 0.7}),\n",
       " Product(product_id='JCB-270T', name='JCB 270T Compact Track Loader', brand='JCB', model_number='270T', description='The large-platform, Hi-Viz, JCB 270T skid steer loader provides the operator with excellent visibility to the attachment. The JCB 270T is a vertical lift machine with a rated operating capacity of 2,723 lb, making it well suited to demolition applications and the use of breakers and rock saws.', specifications={'Rated Operating Capacity': '2,723 lbs (1,235 kg)', 'Operating Weight': '11,003 lbs (4,991 kg)', 'Net Engine Power': '74 hp (55 kW)', 'Overall Length': '12 ft 6 in (3.8m)', 'Overall Height': '6 ft 10 in (2.08 m)', 'Dump Height': '7 ft 5 in (2.28 m)', 'Ground Clearance': '9 in (230 mm)', 'Hydraulic Flow': '24 gpm standard, optional 31.7 gpm high-flow', 'Engine': 'JCB EcoMAX T4F engine with no exhaust after-treatment'}, product_models=(FieldInfo(annotation=NoneType, required=False, default=None, description='Product vaiants detail.'),), images=['https://i0.wp.com/www.fairchildequipment.com/wp-content/uploads/2022/03/jcb-270t-compact-track-skid-steer.jpg', 'https://i0.wp.com/www.fairchildequipment.com/wp-content/uploads/2022/03/jcb-270t-compact-track-loader.jpg', 'https://i0.wp.com/www.fairchildequipment.com/wp-content/uploads/2022/03/jcb-270t-skid-steer-loader.jpg'], category='Construction Equipment', subcategory='Compact Track Loaders', price_range=(75000.0, 95000.0), price_unit='USD', confidence_scores={'product_id': 1.0, 'name': 1.0, 'brand': 1.0, 'model_number': 1.0, 'category': 0.9, 'specifications': 0.9, 'price_range': 0.7}),\n",
       " Product(product_id='JCB-270W-SSL', name='JCB 270W Skid Steer Loader', brand='JCB', model_number='270W', description='The large-platform, Hi-Viz, JCB 270W skid steer loader provides the operator with excellent visibility to the attachment. The JCB 270W is a vertical lift machine with a rated operating capacity of 2,723 lb, making it well suited to demolition applications and the use of breakers and rock saws.', specifications={'Rated Operating Capacity': '2,723 lbs (1,235 kg)', 'Operating Weight': '8,680 lbs (3,937 kg)', 'Net Engine Power': '74 hp (55 kW)', 'Overall Length': '12 ft 6 in (3.8m)', 'Overall Height': '6 ft 11 in (2.1 m)', 'Dump Height': '7 ft 6 in (2.3 m)', 'Ground Clearance': '10 in (250 mm)', 'Hydraulic Flow': '24 gpm standard, optional 31.7 gpm high-flow'}, product_models=(FieldInfo(annotation=NoneType, required=False, default=None, description='Product vaiants detail.'),), images=['https://i0.wp.com/www.fairchildequipment.com/wp-content/uploads/2022/03/jcb-270w-ag-skid-steer-loader.jpg', 'https://i0.wp.com/www.fairchildequipment.com/wp-content/uploads/2022/03/jcb-skid-steer-270w.jpg', 'https://i0.wp.com/www.fairchildequipment.com/wp-content/uploads/2022/03/270w-jcb-skid-steer-loader.jpg', 'https://i0.wp.com/www.fairchildequipment.com/wp-content/uploads/2022/03/270w-jcb-skid-steer.jpg'], category='Construction Equipment', subcategory='Skid Steer Loaders', price_range=(75000.0, 95000.0), price_unit='USD', confidence_scores={'name': 1.0, 'brand': 1.0, 'specifications': 0.9, 'description': 1.0, 'category': 0.9, 'price_range': 0.7}),\n",
       " Product(product_id='JCB-2TS-7T', name='JCB 2TS-7T Teleskid', brand='JCB', model_number='2TS-7T', description=\"The JCB 2TS-7T is the world's first and only small platform compact track loader with a telescoping boom, allowing you to lift higher, reach further and dig deeper than any competing machine. Features include lift height of 11 feet 10 inches, 7 feet forward reach, and 2 feet dig depth capability. The rated operating capacity is 2,096 lb with boom retracted and 1,140 lb fully extended.\", specifications={'Overall Length': '11 ft 0 in (3.6 m)', 'Wheelbase': '6 ft 3 in (1.9 m)', 'Overall Height': '6 ft 7 in (2.0 m)', 'Dump height': '7 ft 6 in (2.3 m)', 'Ground Clearance': '9.0 in (230 mm)', 'Operating Weight': '9,914 lb (4,497 kg)', 'Gross Engine Power': '74 hp (55 kW)', 'Rated Operating Capacity': '2,096 lb (951 kg)', 'Hydraulic Flow Rate': '18.6 gpm standard, 29.4 gpm high-flow optional'}, product_models=(FieldInfo(annotation=NoneType, required=False, default=None, description='Product vaiants detail.'),), images=['https://i0.wp.com/www.fairchildequipment.com/wp-content/uploads/2022/03/jcb-2ts-7t-compact-track-loader.jpg', 'https://i0.wp.com/www.fairchildequipment.com/wp-content/uploads/2022/03/jcb-2ts-7t-compact-track-skid-steer.jpg', 'https://i0.wp.com/www.fairchildequipment.com/wp-content/uploads/2022/03/jcb-2ts-7t-skid-steer.jpg', 'https://i0.wp.com/www.fairchildequipment.com/wp-content/uploads/2022/03/jcb-2ts-7t-track-skid-steer.jpg'], category='Construction Equipment', subcategory='Skid Steers', price_range=(75000.0, 95000.0), price_unit='USD', confidence_scores={'name': 1.0, 'brand': 1.0, 'specifications': 0.9, 'description': 0.9, 'price_range': 0.7}),\n",
       " Product(product_id='JCB300SSL', name='JCB 300 Skid Steer Loader', brand='JCB', model_number='300', description='The large-platform, Hi-Viz, JCB 300 skid steer loader provides the operator with excellent visibility to the attachment. With a rated operating capacity of 3,186 lb, this vertical lift machine is ideal for applications that require heavy, high-flow attachments for clearing material, mulching and agricultural tasks.', specifications={'Rated Operating Capacity': '3,186 lb (1,455 kg)', 'Operating Weight': '9,288 lbs (4,213 kg)', 'Net Engine Power': '74 hp (55 kW)', 'Overall Length': '12 ft 6 in (3.8m)', 'Overall Height': '6 ft 11 in (2.1 m)', 'Dump Height': '7 ft 6 in (2.3 m)', 'Ground Clearance': '10 in (250 mm)', 'Standard Hydraulic Flow': '24 gpm', 'Optional High Flow': '31.7 gpm'}, product_models=(FieldInfo(annotation=NoneType, required=False, default=None, description='Product vaiants detail.'),), images=['https://i0.wp.com/www.fairchildequipment.com/wp-content/uploads/2022/03/jcb-eco-300-skid-steer.jpg', 'https://i0.wp.com/www.fairchildequipment.com/wp-content/uploads/2022/03/jcb-300-skid-steer.jpg', 'https://i0.wp.com/www.fairchildequipment.com/wp-content/uploads/2022/03/jcb-300w-skid-steer.jpg'], category='Construction Equipment', subcategory='Skid Steer Loaders', price_range=(75000.0, 95000.0), price_unit='USD', confidence_scores={'name': 1.0, 'brand': 1.0, 'specifications': 0.9, 'category': 0.9, 'price_range': 0.7}),\n",
       " Product(product_id='JCB-300T', name='JCB 300T Compact Track Loader', brand='JCB', model_number='300T', description='The large-platform, Hi-Viz, JCB 300T compact track loader provides the operator with excellent visibility to the attachment. With a rated operating capacity of 3,000 lb, this vertical lift machine is ideal for lifting and loading with the added versatility that comes from the ability to use a wide variety of attachments, including blades, tilers and trenchers.', specifications={'Operating Weight': '11,219 lbs (5,089 kg)', 'Net Engine Power': '74 hp (55 kW)', 'Overall Length': '12 ft 6 in (3.8m)', 'Overall Height': '6 ft 10 in (2.08 m)', 'Dump Height': '7 ft 5 in (2.28 m)', 'Ground Clearance': '9 in (230 mm)', 'Hydraulic Flow': '24 gpm standard, optional 31.7 gpm high-flow', 'Rated Operating Capacity': '3,000 lb'}, product_models=(FieldInfo(annotation=NoneType, required=False, default=None, description='Product vaiants detail.'),), images=['https://i0.wp.com/www.fairchildequipment.com/wp-content/uploads/2022/03/jcb-300t-skid-steer-loader.jpg', 'https://i0.wp.com/www.fairchildequipment.com/wp-content/uploads/2022/03/jcb-300t-compact-track-loader.jpg', 'https://i0.wp.com/www.fairchildequipment.com/wp-content/uploads/2022/03/300t-jcb-compact-track-loader.jpg', 'https://i0.wp.com/www.fairchildequipment.com/wp-content/uploads/2022/03/jcb-300t-skid-steer.jpg', 'https://i0.wp.com/www.fairchildequipment.com/wp-content/uploads/2022/03/jcb-compact-track-300t.jpg'], category='Construction Equipment', subcategory='Compact Track Loaders', price_range=(75000.0, 95000.0), price_unit='USD', confidence_scores={'name': 1.0, 'brand': 1.0, 'model_number': 1.0, 'specifications': 0.9, 'price_range': 0.7}),\n",
       " Product(product_id='JCB-35Z-1', name='JCB 35Z-1 Compact Excavator', brand='JCB', model_number='35Z-1', description=\"With a spacious cab, clear flat floor and hands-free bluetooth radio with media socket, the 35Z-1 excavator cab is a great place to work. Its new dig end geometry and superior visibility makes dumper loading easy. There is a tilt-rotate option available to give you ultimate flexibility, and hoses are routed through the dig end for maximum protection against damage and wear, while O-ring face sealed hydraulic connections protect against leaks. This compact loader also includes a seatbelt-activated green beacon, follow-me-home lights, lift overload system and JCB's unique 2GO system, all contribute to safer working.\", specifications={'dig_depth': '10\\' 6\"', 'service_intervals': '500 hours', 'transport_length': '15\\' 11\"', 'transport_height': '8\\' 2\"', 'transport_width': '5\\' 9\"', 'shipping_weight': '7,432 lbs', 'operating_weight': '7,840 lbs', 'engine_power': '24.7 hp', 'bucket_tearout': '7,284 lbf'}, product_models=(FieldInfo(annotation=NoneType, required=False, default=None, description='Product vaiants detail.'),), images=['https://i0.wp.com/www.fairchildequipment.com/wp-content/uploads/2022/01/jcb-35z-1-compact-excavator.jpg', 'https://i0.wp.com/www.fairchildequipment.com/wp-content/uploads/2022/01/jcb-35z-1-compact-excavator-construction-equipment.jpg', 'https://i0.wp.com/www.fairchildequipment.com/wp-content/uploads/2022/01/jcb-construction-equipment-35z-1-compact-excavator.jpg', 'https://i0.wp.com/www.fairchildequipment.com/wp-content/uploads/2022/01/jcb-35z-1-compact-excavator-construction.jpg', 'https://i0.wp.com/www.fairchildequipment.com/wp-content/uploads/2022/01/jcb-construction-35z-1-compact-excavator.jpg', 'https://i0.wp.com/www.fairchildequipment.com/wp-content/uploads/2022/01/jcb-35z-1-compact-excavator-lights.jpg'], category='Construction Equipment', subcategory='Compact Excavators', price_range=(75000.0, 95000.0), price_unit='USD', confidence_scores={'name': 1.0, 'brand': 1.0, 'model': 1.0, 'specifications': 0.9, 'category': 0.9, 'price_range': 0.7}),\n",
       " Product(product_id='JCB-3CX-BHL', name='JCB 3CX Backhoe Loader', brand='JCB', model_number='3CX', description='The JCB 3CX backhoe loader combines superior strength with low ownership costs, exceptional serviceability, and enhanced comfort to create the ultimate general purpose construction machine. With best-in-class productivity, performance and efficiency, and versatility-enhancing options and comprehensive warranty package, the JCB 3CX backhoe loader is an essential asset for large fleets, rental yards and smaller operations.', specifications={'Gross Engine Power': '74 hp (55 kW)', 'Loader Bucket Breakout': '13,603 lbf (6,170 kgf)', 'Max. Dig Depth': '18 ft 6 in (5.63 m)', 'Warranty': '2-year/2,000-hour bucket-to-bucket, transferable', 'Engine': 'JCB EcoMAX 74 hp (55 kW) engine requires no DPF, no DEF and other aftertreatment'}, product_models=(FieldInfo(annotation=NoneType, required=False, default=None, description='Product vaiants detail.'),), images=['https://i0.wp.com/www.fairchildequipment.com/wp-content/uploads/2021/05/jcb-3cx-backhoe-loader.jpg', 'https://i0.wp.com/www.fairchildequipment.com/wp-content/uploads/2021/05/3cx-backhoe-loader-jcb.jpg', 'https://i0.wp.com/www.fairchildequipment.com/wp-content/uploads/2021/05/backhoe-loader-1cxt-jcb-1.jpg', 'https://i0.wp.com/www.fairchildequipment.com/wp-content/uploads/2021/05/jcb-3cx-backhoe-loader-cab.jpg', 'https://i0.wp.com/www.fairchildequipment.com/wp-content/uploads/2021/05/jcb-3cx-backhoe-loader-construction.jpg'], category='Construction Equipment', subcategory='Backhoe Loaders', price_range=(75000.0, 125000.0), price_unit='USD', confidence_scores={'name': 1.0, 'brand': 1.0, 'specifications': 0.9, 'description': 1.0, 'price_range': 0.7}),\n",
       " Product(product_id='JCB-3CX-COMPACT', name='JCB 3CX Compact Backhoe Loader', brand='JCB', model_number='3CX Compact', description='The JCB 3CX Compact backhoe loader represents the latest in backhoe innovation. Designed for big performance within confined job sites, the 3CX Compact backhoe is perfect for urban construction projects, as well as niche applications such as utility and road works operations, cemetery operations, commercial landscaping and more. A tight turning radius and switchable steering modes allow the 3CX Compact to work within the single lane of a roadway, for minimal disruption and maximum productivity.', specifications={'Gross Engine Power': '74 hp (55 kW)', 'Loader Bucket Breakout': '8,285 lbf (3,758 kgf)', 'Max. Dig Depth': '14 ft 2 in (4.33 m)', 'Road Speed': '25 mph (40 km/h)', 'Warranty': '2-year/2,000-hour bucket-to-bucket transferable'}, product_models=(FieldInfo(annotation=NoneType, required=False, default=None, description='Product vaiants detail.'),), images=['https://i0.wp.com/www.fairchildequipment.com/wp-content/uploads/2021/05/3cx-compact-backhoe-loader-jcb.jpg', 'https://i0.wp.com/www.fairchildequipment.com/wp-content/uploads/2021/05/3cx-compact-jcb-backhoe-loader.jpg', 'https://i0.wp.com/www.fairchildequipment.com/wp-content/uploads/2021/05/backhoe-loader-jcb-3cx-compact.jpg'], category='Construction Equipment', subcategory='Backhoe Loaders', price_range=(85000.0, 120000.0), price_unit='USD', confidence_scores={'name': 1.0, 'brand': 1.0, 'specifications': 0.9, 'price_range': 0.7}),\n",
       " Product(product_id='JCB-3CX-14', name='JCB 3CX-14 Backhoe Loader', brand='JCB', model_number='3CX-14', description=\"The 3CX-14 backhoe loader is the result of innovative JCB technologies brought together to extract maximum productivity out of every drop of fuel. It is the culmination of JCB's design philosophy to deliver class-leading efficiency and low running costs, to respond to today's fuel prices and environmental concerns. The backhoe loader is equipped with a powerful engine and state-of-the-art hydraulics that delivers significant fuel savings, lower emissions and quieter noise levels while loading, excavating, idling and traveling on the road.\", specifications={'Gross Engine Power': '74 hp (55 kW)', 'Loader Bucket Breakout': '13,603 lbf (6,170 kgf)', 'Max. Dig Depth': '18 ft 6 in (5.63 m)', 'Engine': 'JCB EcoMAX 74 hp (55 kW) engine requires no DPF, no DEF and other aftertreatment'}, product_models=(FieldInfo(annotation=NoneType, required=False, default=None, description='Product vaiants detail.'),), images=['https://i0.wp.com/www.fairchildequipment.com/wp-content/uploads/2021/05/jcb-3CX-14-backhoe-loader.jpg', 'https://i0.wp.com/www.fairchildequipment.com/wp-content/uploads/2021/05/jcb-backhoe-loader-3CX-14.jpg', 'https://i0.wp.com/www.fairchildequipment.com/wp-content/uploads/2021/05/3CX-14-backhoe-loader-jcb.jpg', 'https://i0.wp.com/www.fairchildequipment.com/wp-content/uploads/2021/05/jcb-3CX-14-backhoe-loader-truck.jpg', 'https://i0.wp.com/www.fairchildequipment.com/wp-content/uploads/2021/05/jcb-backhoe-loader-3CX-14-stock-piling.jpg', 'https://i0.wp.com/www.fairchildequipment.com/wp-content/uploads/2021/05/jcb-backhoe-loader-3CX-14-truck.jpg'], category='Construction Equipment', subcategory='Backhoe Loaders', price_range=(75000.0, 95000.0), price_unit='USD', confidence_scores={'product_id': 1.0, 'name': 1.0, 'brand': 1.0, 'model_number': 1.0, 'category': 0.9, 'specifications': 0.9, 'images': 1.0, 'price_range': 0.7}),\n",
       " Product(product_id='JCB-3CX-14-SUPER', name='JCB 3CX-14 Super Backhoe Loader', brand='JCB', model_number='3CX-14 Super', description=\"The 3CX-14 Super backhoe loader is the world's leading backhoe loader, designed to extract maximum productivity out of every drop of fuel. It sets the standard for power and performance, excelling in digging, lifting, loading and grading tasks. Features include highly efficient hydraulics partnered with JCB-designed-and-built drivetrain for class-leading efficiency and low running costs.\", specifications={'Gross Engine Power': '91/109 hp (68/81 kW)', 'Loader Bucket Breakout': '13,603 lbf (6,170 kgf)', 'Max Dig Depth': '18 ft 6 in (5.63 m)', 'Engine': 'JCB EcoMAX (No DPF required)', 'Warranty': '2-year/2,000-hour bucket-to-bucket, transferable', 'Standard Features': 'AutoCHECK, AutoIDLE, AutoTHROTTLE, AutoDRIVE, AutoSTABILIZERSUP, AutoSRS, AutoBOOMLOCK', 'Optional Features': 'AutoPREHEAT'}, product_models=(FieldInfo(annotation=NoneType, required=False, default=None, description='Product vaiants detail.'),), images=['https://i0.wp.com/www.fairchildequipment.com/wp-content/uploads/2021/05/jcb-3CX-14-backhoe-loader-truck-1.jpg', 'https://i0.wp.com/www.fairchildequipment.com/wp-content/uploads/2021/05/jcb-3CX-14-backhoe-loader-truck.jpg', 'https://i0.wp.com/www.fairchildequipment.com/wp-content/uploads/2021/05/jcb-backhoe-loader-3CX-14-stock-piling.jpg', 'https://i0.wp.com/www.fairchildequipment.com/wp-content/uploads/2021/05/jcb-backhoe-loader-3CX-14-truck.jpg', 'https://i0.wp.com/www.fairchildequipment.com/wp-content/uploads/2021/05/jcb-backhoe-loader-3CX-14.jpg', 'https://i0.wp.com/www.fairchildequipment.com/wp-content/uploads/2021/05/jcb-3cx-14-super-backhoe-loader.jpg'], category='Construction Equipment', subcategory='Backhoe Loaders', price_range=(85000.0, 125000.0), price_unit='USD', confidence_scores={'name': 1.0, 'brand': 1.0, 'specifications': 0.9, 'description': 0.9, 'price_range': 0.7}),\n",
       " Product(product_id='JCB-270T', name='JCB 270T Compact Track Loader', brand='JCB', model_number='270T', description='The JCB 270T is a large platform machine equipped with the Hi-Viz Powerboom TM which provides greater visibility to the attachments. With a rated operating capacity of 2,723 lbs., this powerful vertical lift, compact track loader is ideal for demolition, breaker work, and using rock saws. It has a low center of gravity to provide better stability when loading on an incline.', specifications={'Engine Power': '74 hp', 'Lift Path': 'Vertical', 'Operating Capacity': '2,723 lbs'}, product_models=(FieldInfo(annotation=NoneType, required=False, default=None, description='Product vaiants detail.'),), images=['https://www.aisequip.com/wp-content/uploads/270T2022Photoshoot.jpg', 'https://www.aisequip.com/wp-content/uploads/A_SSL_270_3_3-2.jpg'], category='Construction Equipment', subcategory='Compact Track Loader', price_range=(75000.0, 95000.0), price_unit='USD', confidence_scores={'name': 1.0, 'brand': 1.0, 'specifications': 1.0, 'description': 1.0}),\n",
       " Product(product_id='JCB-AJ48D', name='JCB AJ48D Diesel Articulated Boom', brand='JCB', model_number='AJ48D', description='The articulated boom model with 48ft platform height and increased working envelope. Features JCB Livelink telematics, treated platform with EPD protection for rust resistance, rough terrain solid tyres, reinforced canopies, and IP67 rated electrical components.', specifications={'Platform Height': '48 ft', 'Features': 'JCB Livelink telematics', 'Tyres': 'Rough terrain solid tyres', 'Electrical Rating': 'IP67', 'Construction': 'Reinforced canopies', 'Platform Protection': 'EPD treated for rust resistance'}, product_models=(FieldInfo(annotation=NoneType, required=False, default=None, description='Product vaiants detail.'),), images=['https://www.aisequip.com/wp-content/uploads/boom-768x577.jpg'], category='Construction Equipment', subcategory='Access Platforms', price_range=(75000.0, 95000.0), price_unit='USD', confidence_scores={'name': 0.9, 'brand': 1.0, 'specifications': 0.8, 'price_range': 0.6}),\n",
       " Product(product_id='JCB-3TS-8T', name='JCB Teleskid 3TS-8T Compact Track Loader', brand='JCB', model_number='3TS-8T', description=\"The world's first skid steer with telescopic boom that can reach higher, further and deeper than any other skid steer on the market. Features telescopic boom technology for enhanced versatility and access to previously impossible areas.\", specifications={'Operating Weight': '12,615 lb', 'Gross Engine Power': '74 hp', 'Operating Capacity': '3,695 lb', 'Cab Size': '33% larger than standard skidsteers', 'Visibility': '270-degree visibility, 60% better than competition', 'Entry': 'Large side door for easy access', 'Lift Height': '13 ft vertical height capability'}, product_models=(FieldInfo(annotation=NoneType, required=False, default=None, description='Product vaiants detail.'),), images=['https://www.aisequip.com/wp-content/uploads/TSK3TS-8T.jpg', 'https://www.aisequip.com/wp-content/uploads/content_teleskid_jpeg.jpg'], category='Construction Equipment', subcategory='Compact Track Loader', price_range=(75000.0, 95000.0), price_unit='USD', confidence_scores={'name': 0.9, 'specifications': 0.9, 'price_range': 0.7, 'description': 0.9}),\n",
       " Product(product_id='JCB-TH-2023', name='JCB Telescopic Handler', brand='JCB', model_number='TH-2023', description='JCB has been pioneering the telehandler concept since 1977. The JCB telehandler range epitomizes the highest levels of performance and productivity with competitive run costs, world-class build quality, enviable versatility and top residual values.', specifications={'manufacturer': 'JCB', 'type': 'Telescopic Handler', 'year': '2023'}, product_models=(FieldInfo(annotation=NoneType, required=False, default=None, description='Product vaiants detail.'),), images=['https://www.aisequip.com/wp-content/uploads/table-700-400.png'], category='Construction Equipment', subcategory='Telescopic Handler', price_range=(75000.0, 150000.0), price_unit='USD', confidence_scores={'name': 0.9, 'brand': 0.9, 'category': 0.8, 'price_range': 0.6})]"
      ]
     },
     "execution_count": 78,
     "metadata": {},
     "output_type": "execute_result"
    }
   ],
   "source": [
    "state['products']"
   ]
  },
  {
   "cell_type": "code",
   "execution_count": 79,
   "metadata": {},
   "outputs": [
    {
     "data": {
      "text/plain": [
       "48"
      ]
     },
     "execution_count": 79,
     "metadata": {},
     "output_type": "execute_result"
    }
   ],
   "source": [
    "len(state['products'])"
   ]
  },
  {
   "cell_type": "code",
   "execution_count": 81,
   "metadata": {},
   "outputs": [
    {
     "name": "stderr",
     "output_type": "stream",
     "text": [
      "/var/folders/6j/90fxt7w17_v5v0v_cdqhj18w0000gn/T/ipykernel_82714/4002298138.py:1: PydanticDeprecatedSince20: The `dict` method is deprecated; use `model_dump` instead. Deprecated in Pydantic V2.0 to be removed in V3.0. See Pydantic V2 Migration Guide at https://errors.pydantic.dev/2.10/migration/\n",
      "  state['products'][1].dict()\n"
     ]
    },
    {
     "data": {
      "text/plain": [
       "{'product_id': 'JCB-BHL-2024',\n",
       " 'name': 'JCB Backhoe Loader',\n",
       " 'brand': 'JCB',\n",
       " 'model_number': 'BHL-2024',\n",
       " 'description': 'JCB Backhoe Loaders are versatile machines that combine excellent trenching, excavating, loading, lifting and material handling capabilities with the benefits of a single machine that is easy to maintain and simple to operate. Pioneered by JCB in 1953, they remain the world leader in Backhoe technology, innovation and capability.',\n",
       " 'specifications': {'type': 'Backhoe Loader',\n",
       "  'capabilities': 'Trenching, excavating, loading, lifting, material handling',\n",
       "  'features': 'Easy maintenance, simple operation',\n",
       "  'market_position': \"World's most popular backhoe loader\"},\n",
       " 'product_models': (FieldInfo(annotation=NoneType, required=False, default=None, description='Product vaiants detail.'),),\n",
       " 'images': ['https://www.jcb.com/images/jcb-backhoe-loader.jpg'],\n",
       " 'category': 'Construction Equipment',\n",
       " 'subcategory': 'Backhoe Loaders',\n",
       " 'price_range': (75000.0, 150000.0),\n",
       " 'price_unit': 'USD',\n",
       " 'confidence_scores': {'product_info': 0.9,\n",
       "  'specifications': 0.8,\n",
       "  'price_range': 0.7}}"
      ]
     },
     "execution_count": 81,
     "metadata": {},
     "output_type": "execute_result"
    }
   ],
   "source": [
    "state['products'][1].dict()"
   ]
  },
  {
   "cell_type": "code",
   "execution_count": 41,
   "metadata": {},
   "outputs": [
    {
     "name": "stdout",
     "output_type": "stream",
     "text": [
      "started.....\n",
      "category_type='brand'\n",
      "search_query='Usha sewing machines' justification='This is a straightforward search query targeting the Usha brand of sewing machines. It\\'s simple, direct, and uses the exact brand name \"Usha\" along with the product category \"sewing machines\" which will help users find relevant results in search engines.'\n",
      "Product Listing Links\n",
      "['https://www.flipkart.com/sewing-machines/usha~brand/pr?sid=j9e,abm,0zg']\n",
      "Product Detail Page Links\n",
      "['https://www.flipkart.com/usha-craft-master-industria-manual-sewing-machine/p/itm03224df3ca385', 'https://www.flipkart.com/usha-anand-composite-h-manual-sewing-machine/p/itm3c3e1ade332e0', 'https://www.flipkart.com/usha-craft-master-delux-industrial-manual-sewing-machine/p/itmf22ad54c21b19', 'https://www.flipkart.com/usha-bandhan-composite-c-manual-sewing-machine/p/itmf7u4qfh7ftzew', 'https://www.flipkart.com/usha-aayush-manual-sewing-machine/p/itm8504b941c61ea', 'https://www.flipkart.com/usha-bandhan-dlx-composite-cover-manual-sewing-machine/p/itmf9fqvzvrvrn68', 'https://www.flipkart.com/usha-power-sv-1-20-sewing-machine-motor-electric/p/itm27148f7a4a603', 'https://www.flipkart.com/usha-power-motor-electric-sewing-machine/p/itm5f5d7e9d93c71', 'https://www.flipkart.com/usha-bandhan-without-cover-manual-sewing-machine/p/itmf9m3gz2vtzjtd', 'https://www.flipkart.com/usha-sewing-machine-industrial-motor-pro-model-umbrella-model-motor-black-electric/p/itm7820de184502a', 'https://www.flipkart.com/usha-power-sewing-machine-motor-electric/p/itm1a2ec3749ec65', 'https://www.flipkart.com/usha-bandhan-dlx-composite-out-cover-manual-sewing-machine/p/itmef6c240f00c75', 'https://www.flipkart.com/usha-umang-manual-sewing-machine/p/itm5f4897cd6fce8', 'https://www.flipkart.com/usha-s2-electric-sewing-machine/p/itm2a5f66c11dfec']\n",
      "1 validation error for Product\n",
      "specifications.Dimensions\n",
      "  Input should be a valid string [type=string_type, input_value={'Width': '71 cm', 'Heigh...cm', 'Depth': '55.8 cm'}, input_type=dict]\n",
      "    For further information visit https://errors.pydantic.dev/2.10/v/string_type\n"
     ]
    }
   ],
   "source": [
    "state = b2b_products_repo.invoke({\n",
    "    \"category_name\": \"Usha Sewing Machines\",\n",
    "    \"product_listing_links\": [\n",
    "        \"https://www.flipkart.com/sewing-machines/usha~brand/pr?sid=j9e,abm,0zg\",\n",
    "    ]\n",
    "})"
   ]
  },
  {
   "cell_type": "code",
   "execution_count": 42,
   "metadata": {},
   "outputs": [
    {
     "data": {
      "text/plain": [
       "[Product(product_id='USHA-CRAFT-MASTER-IND', name='USHA CRAFT MASTER Industria Manual Sewing Machine', brand='USHA', model_number='CRAFT MASTER Industria', description='Manual sewing machine with 1 built-in stitch pattern and sewing speed of 1800 SPM. Suitable for domestic use.', specifications={'Type': 'Manual', 'Number of Stitches': '1', 'Sewing Speed': '1800 SPM', 'Color': 'Black', 'Width': '23 cm', 'Height': '33 cm', 'Depth': '33 cm', 'Weight': '15.2 kg', 'Number of Buttonhole Styles': '0'}, images=['https://rukminim2.flixcart.com/image/416/416/xif0q/sewing-machine/f/t/h/craft-master-industria-0-1-usha-original-imah7df3xtp7thtq.jpeg', 'https://rukminim2.flixcart.com/image/128/128/xif0q/sewing-machine/7/j/e/craft-master-industria-0-1-usha-original-imah7df3hxsxn5kz.jpeg', 'https://rukminim2.flixcart.com/image/128/128/xif0q/sewing-machine/f/n/2/craft-master-industria-0-1-usha-original-imah7df3nkwy89vt.jpeg', 'https://rukminim2.flixcart.com/image/128/128/xif0q/sewing-machine/i/3/p/craft-master-industria-0-1-usha-original-imah7df3ungqrez9.jpeg'], category='Home Appliances', subcategory='Sewing Machines', price_range=(5925.0, 8225.0), confidence_scores={'name': 1.0, 'brand': 1.0, 'specifications': 0.9, 'price': 1.0, 'category': 0.9}),\n",
       " Product(product_id='SMCF9HHMTSHTMAJX', name='USHA Anand Composite H Manual Sewing Machine', brand='USHA', model_number='Anand Composite H', description='Manual sewing machine with lever type stitch regulator, auto tripping bobbin winder, and screw type pressure adjustment. Features include closed-type shuttle race, medium shank presser foot, and cam motion thread take up lever. Can be operated both manually and with motor.', specifications={'type': 'Manual', 'color': 'Black', 'sewing_speed': '850 spm', 'number_of_stitches': '1', 'material': 'Iron', 'shape': 'Round', 'dimensions': '58 x 41 x 29 cm', 'weight': '13 Kg', 'warranty': '1 Year'}, images=['https://rukminim2.flixcart.com/image/416/416/xif0q/sewing-machine/f/4/d/-original-imagpgtkhyvyzhes.jpeg', 'https://rukminim2.flixcart.com/image/128/128/xif0q/sewing-machine/d/q/8/-original-imagpgtk4jwzysuj.jpeg', 'https://rukminim2.flixcart.com/image/128/128/xif0q/sewing-machine/k/w/q/-original-imah4b6v6fphyspx.jpeg', 'https://rukminim2.flixcart.com/image/128/128/xif0q/sewing-machine/y/f/n/-original-imah4n6yccq74ya5.jpeg'], category='Home Appliances', subcategory='Sewing Machines', price_range=(4099.0, 6875.0), confidence_scores={'name': 1.0, 'brand': 1.0, 'specifications': 0.9, 'price': 1.0, 'images': 1.0}),\n",
       " Product(product_id='USHA_CRAFT_MASTER_DELUX', name='USHA CRAFT MASTER DELUX Industrial Manual Sewing Machine', brand='USHA', model_number='CRAFT MASTER DELUX Industrial', description=None, specifications={'Type': 'Manual', 'Number of Stitches': '1', 'Number of Buttonhole Styles': '0', 'Sewing Speed': '1800 SPM', 'Width': '23 cm', 'Height': '33 cm', 'Depth': '33 cm', 'Weight': '16.43 kg', 'Color': 'Silver', 'Warranty': '18 months'}, images=['https://rukminim2.flixcart.com/image/416/416/xif0q/sewing-machine/o/k/w/craft-master-delux-industrial-0-1-usha-original-imah6r9xy9bhfuhk.jpeg', 'https://rukminim2.flixcart.com/image/128/128/xif0q/sewing-machine/7/w/c/craft-master-delux-industrial-0-1-usha-original-imah6r9xsja7dwqz.jpeg'], category='Home Appliances', subcategory='Sewing Machines', price_range=(6449.0, 7740.0), confidence_scores={'name': 1.0, 'brand': 1.0, 'specifications': 0.9, 'price': 1.0}),\n",
       " Product(product_id='USHA_BANDHAN_COMP_C', name='USHA bandhan composite C Manual Sewing Machine', brand='USHA', model_number='bandhan composite C', description='ISI marked Lever type stitch regulator with forward and reverse stitching mechanism. Auto tripping bobbin winder for uniform winding of bobbin for perfect stitch formation. Screw type Pressure adjustment for controlling needle bar pressure. Closed type shuttle race. Available with other Foot variants like X stand and sheet metal stand. Available with other Hand variants like Economy plastic base cover & Standard plastic base cover Option to operate with Motor.', specifications={'Number of Stitches': '1', 'Sewing Speed': '850 SPM', 'Material': 'METAL', 'Color': 'Black', 'Weight': '14 kg', 'Dimensions': '60 x 38.1 x 32 cm', 'Bobbin Type': 'Auto tripping bobbin winder', 'Warranty': '1 Year Company Domestic Warranty'}, images=['https://rukminim2.flixcart.com/image/416/416/xif0q/sewing-machine/c/4/f/bandhan-composite-c-0-1-usha-original-imah8yzwpgb8vyve.jpeg', 'https://rukminim2.flixcart.com/image/128/128/xif0q/sewing-machine/b/q/v/bandhan-composite-c-0-1-usha-original-imah8yzwugvngaae.jpeg', 'https://rukminim2.flixcart.com/image/128/128/xif0q/sewing-machine/l/4/q/bandhan-composite-c-0-1-usha-original-imah8yzwq3j7zhfp.jpeg', 'https://rukminim2.flixcart.com/image/128/128/xif0q/sewing-machine/c/t/d/bandhan-composite-c-0-1-usha-original-imah8yzw7hjrys2w.jpeg'], category='Home Appliances', subcategory='Sewing Machines', price_range=(4999.0, 5700.0), confidence_scores={'name': 1.0, 'brand': 1.0, 'specifications': 0.9, 'price': 1.0, 'images': 1.0}),\n",
       " Product(product_id='USHA-AAYUSH-001', name='USHA Aayush Manual Sewing Machine', brand='USHA', model_number='Aayush', description=None, specifications={'Type': 'Manual', 'Color': 'Black', 'Number of Stitches': '1', 'Sewing Speed': '850 SPM', 'Material': 'Iron', 'Width': '58 cm', 'Height': '41 cm', 'Depth': '29 cm', 'Weight': '11 kg', 'Bobbin Winder': 'Yes', 'Foot Pedal': 'Yes', 'LCD Screen': 'No', 'Touchscreen': 'No'}, images=['https://rukminim2.flixcart.com/image/128/128/xif0q/sewing-machine/c/m/y/aayush-0-1-usha-original-imah2jvq7g3ezaka.jpeg', 'https://rukminim2.flixcart.com/image/128/128/xif0q/sewing-machine/c/o/4/aayush-0-1-usha-original-imah2jvqtt5agmwt.jpeg', 'https://rukminim2.flixcart.com/image/128/128/xif0q/sewing-machine/b/1/7/aayush-0-1-usha-original-imah2jvqanbuptmt.jpeg'], category='Home Appliances', subcategory='Sewing Machines', price_range=(3999.0, 4800.0), confidence_scores={'name': 1.0, 'brand': 1.0, 'specifications': 0.9, 'price': 1.0, 'images': 1.0}),\n",
       " Product(product_id='USHA_BANDHAN_DLX', name='USHA Bandhan Dlx Composite with cover Manual Sewing Machine', brand='USHA', model_number='Bandhan Dlx Composite with cover', description=\"You can now sew a rip or an open hem of your garment without visiting a tailor by using the USHA Bandhan DLX Sewing Machine. Its lever-type stitch regulator lets you control the stitching speed along with easy forward and reverse stitching movement. In addition, this sewing machine's auto-tripping bobbin winder can coil the thread uniformly for accuracy and convenience. Moreover, this sewing machine's screw-type pressure controller lets you adjust the needle bar pressure for a smooth flow while sewing.\", specifications={'Type': 'Manual', 'Number of Stitches': '1', 'Sewing Speed': '850 spm', 'Color': 'Brown', 'Weight': '13 Kg', 'Dimensions': '58 x 41 x 29 cm', 'Features': 'Auto-tripping bobbin winder, Screw-type pressure adjustment, Closed type shuttle race, Motor operation option', 'Warranty': '1 Year Manufacturer Warranty'}, images=['https://rukminim2.flixcart.com/image/128/128/kskotjk0/sewing-machine/l/e/d/bandhan-dlx-composite-with-cover-0-1-usha-original-imag6449fggrgbmy.jpeg', 'https://rukminim2.flixcart.com/image/128/128/kskotjk0/sewing-machine/y/j/n/bandhan-dlx-composite-with-cover-0-1-usha-original-imag64dnfetfgbjz.jpeg', 'https://rukminim2.flixcart.com/image/128/128/xif0q/sewing-machine/a/p/c/-original-imah4n6fwmgm3rhs.jpeg', 'https://rukminim2.flixcart.com/image/128/128/xif0q/sewing-machine/s/o/q/-original-imah4n7feg4fa6eg.jpeg', 'https://rukminim2.flixcart.com/image/128/128/kskotjk0/sewing-machine/k/z/y/bandhan-dlx-composite-with-cover-0-1-usha-original-imag6449qdjve3gg.jpeg'], category='Home Appliances', subcategory='Sewing Machines', price_range=(4429.0, 5830.0), confidence_scores={'name': 1.0, 'brand': 1.0, 'specifications': 0.9, 'price': 1.0, 'images': 1.0}),\n",
       " Product(product_id='USHA_POWER_SV120', name='USHA POWER SV 1/20 SEWING MACHINE MOTOR', brand='USHA', model_number='POWER SV 1/20', description='The USHA POWER SV 1/20 Sewing Machine Motor is equipped with a powerful electric motor that provides reliable and efficient performance. It delivers the power needed to drive the sewing machine, allowing for smooth and precise stitching. This motor is designed to work with sewing machines that have a single built-in stitch. While it may not offer multiple stitch options, it is suitable for basic sewing projects that require straight stitching.', specifications={'Sewing Speed': '600 SPM', 'Power Consumption': '110W', 'Material': 'Metal copper', 'Shape': 'Rectangular', 'Weight': '1.7 kg', 'Voltage': '220-240V', 'Number of Stitches': '1', 'Color': 'Black'}, images=['https://rukminim2.flixcart.com/image/128/128/xif0q/sewing-machine/t/s/s/power-sv-1-20-sewing-machine-motor-0-1-usha-original-imaghpfsqumafhz5.jpeg', 'https://rukminim2.flixcart.com/image/128/128/xif0q/sewing-machine/t/s/i/power-sv-1-20-sewing-machine-motor-0-1-usha-original-imaghpfszh2cmy9v.jpeg', 'https://rukminim2.flixcart.com/image/128/128/xif0q/sewing-machine/b/y/h/-original-imah4n6y5zfs8vn9.jpeg', 'https://rukminim2.flixcart.com/image/128/128/xif0q/sewing-machine/0/4/d/-original-imah4n6yf3khfacv.jpeg'], category='Home Appliances', subcategory='Sewing Machines', price_range=(1513.0, 1875.0), confidence_scores={'brand': 1.0, 'model': 1.0, 'specifications': 0.9, 'price': 1.0}),\n",
       " Product(product_id='USHA_PWR_MTR_001', name='USHA Power Motor Electric Sewing Machine', brand='USHA', model_number='power motor', description=None, specifications={'Type': 'Electric', 'Color': 'Black', 'Material': 'metal', 'Sewing Speed': '6000 SPM', 'Foot Pedal Type': 'metal', 'Number of Stitches': '0', 'Number of Buttonhole Styles': '0'}, images=['https://rukminim2.flixcart.com/image/416/416/xif0q/sewing-machine/u/c/m/power-motor-0-0-usha-original-imahyacr75m6b7kr.jpeg', 'https://rukminim2.flixcart.com/image/128/128/xif0q/sewing-machine/l/t/o/power-motor-0-0-usha-original-imahyacrcgnddavt.jpeg', 'https://rukminim2.flixcart.com/image/128/128/xif0q/sewing-machine/o/h/1/power-motor-0-0-usha-original-imahyacrtkswhu9u.jpeg'], category='Home Appliances', subcategory='Sewing Machines', price_range=(1649.0, 1875.0), confidence_scores={'name': 1.0, 'brand': 1.0, 'specifications': 0.9, 'price': 1.0}),\n",
       " Product(product_id='USHA_BANDHAN_MANUAL_001', name='USHA Bandhan Without Cover Manual Sewing Machine', brand='USHA', model_number='Bandhan', description='Manual sewing machine with lever type stitch regulator, auto tripping bobbin winder, and round body design. Features include slide type needle plate, screw type pressure adjustment, and closed type shuttle race. Suitable for basic sewing needs with 850 spm sewing speed.', specifications={'Type': 'Manual', 'Color': 'Black', 'Built-in Stitches': '1', 'Sewing Speed': '850 spm', 'Material': 'Iron', 'Shape': 'Round', 'Bobbin Type': 'Auto tripping bobbin winder', 'Weight': '14.6 kg', 'Warranty': '1 Year Company Domestic Warranty'}, images=['https://rukminim2.flixcart.com/image/128/128/xif0q/sewing-machine/d/r/1/-original-imah4n62bzj5z9jp.jpeg', 'https://rukminim2.flixcart.com/image/128/128/xif0q/sewing-machine/a/i/4/-original-imah4n62c3gtqz9v.jpeg', 'https://rukminim2.flixcart.com/image/128/128/xif0q/sewing-machine/o/0/q/-original-imah4n6xwzxnbxpv.jpeg'], category='Home Appliances', subcategory='Sewing Machines', price_range=(4999.0, 5325.0), confidence_scores={'name': 1.0, 'brand': 1.0, 'specifications': 0.9, 'price': 1.0, 'images': 1.0}),\n",
       " Product(product_id='USHA_MOTOR_PRO_8500', name='USHA Sewing Machine Industrial Motor PRO Model (Umbrella Model)', brand='USHA', model_number='PRO Model Umbrella', description=None, specifications={'Type': 'Electric', 'Color': 'Black', 'Sewing Speed': '8500 SPM', 'Width': '24 cm', 'Height': '22 cm', 'Depth': '13 cm', 'Weight': '2.84 kg', 'Number of Stitches': '0', 'LCD Screen': 'No', 'Maximum Stitch Width': '0 mm', 'Maximum Stitch Length': '0 mm'}, images=['https://rukminim2.flixcart.com/image/128/128/kvo55zk0/sewing-machine/a/l/c/sewing-machine-industrial-motor-pro-model-umbrella-model-sewing-original-imag8gmgrccxk2gy.jpeg', 'https://rukminim2.flixcart.com/image/128/128/kvo55zk0/sewing-machine/b/5/d/sewing-machine-industrial-motor-pro-model-umbrella-model-sewing-original-imag8gmghqgjacnc.jpeg', 'https://rukminim2.flixcart.com/image/128/128/kvo55zk0/sewing-machine/x/g/q/sewing-machine-industrial-motor-pro-model-umbrella-model-sewing-original-imag8gmgyhjz2ymm.jpeg'], category='Home Appliances', subcategory='Sewing Machines', price_range=(2314.0, 2500.0), confidence_scores={'name': 0.9, 'brand': 0.9, 'specifications': 0.8, 'category': 0.9, 'price': 0.9}),\n",
       " Product(product_id='USHA_POWER_MOTOR_001', name='USHA POWER SEWING MACHINE MOTOR Electric Sewing Machine', brand='USHA', model_number='POWER SEWING MACHINE MOTOR', description=None, specifications={'type': 'Electric', 'color': 'Black', 'sewing_speed': '6000 SPM', 'material': 'COPPER, ALUMINIUM', 'dimensions': '24 cm x 22 cm x 13 cm', 'weight': '1.7 kg', 'built_in_stitches': '0', 'lcd_display': 'No'}, images=['https://rukminim2.flixcart.com/image/416/416/kqidx8w0/sewing-machine/i/c/y/power-sewing-machine-motor-usha-original-imag4g4wrcnghhjh.jpeg', 'https://rukminim2.flixcart.com/image/128/128/kqidx8w0/sewing-machine/o/t/m/power-sewing-machine-motor-usha-original-imag4g4wgjh6q8hv.jpeg', 'https://rukminim2.flixcart.com/image/128/128/kqidx8w0/sewing-machine/y/c/3/power-sewing-machine-motor-usha-original-imag4g4wmacwfffg.jpeg', 'https://rukminim2.flixcart.com/image/128/128/kqidx8w0/sewing-machine/g/8/2/power-sewing-machine-motor-usha-original-imag4g4wz3tvjaug.jpeg', 'https://rukminim2.flixcart.com/image/128/128/kqidx8w0/sewing-machine/v/k/4/power-sewing-machine-motor-usha-original-imag4g4whnysbznv.jpeg'], category='Home Appliances', subcategory='Sewing Machines', price_range=(1523.0, 1875.0), confidence_scores={'brand': 1.0, 'model': 1.0, 'specifications': 0.9, 'price': 1.0}),\n",
       " Product(product_id='USHA-BANDHAN-DLX', name='USHA Bandhan Dlx Composite Manual Sewing Machine', brand='USHA', model_number='Bandhan Dlx Composite', description='The Bandhan Deluxe sewing machine comes with an attractive square arm body giving it a sturdy look. Its unique brown tone lends a rich and sleek accent to the machine. Features include auto tripping, spring loaded bobbin winder for uniform bobbin winding and perfect stitch formation, a lever type stitch regulator for easy forward and reverse stitch control, and a slide plate for easy insertion of the bobbin.', specifications={'Type': 'Manual', 'Color': 'Brown', 'Number of Stitches': '1', 'Sewing Speed': '850 SPM', 'Material': 'Iron', 'Shape': 'SQUARE', 'Dimensions': '55 x 35 x 28 cm', 'Weight': '12 kg', 'Warranty': '1 Year Manufacturer Warranty'}, images=['https://rukminim2.flixcart.com/image/416/416/jz5vjbk0/sewing-machine/4/k/c/bandhan-dlx-composite-with-out-cover-usha-original-imafj7jgwwc6anr2.jpeg', 'https://rukminim2.flixcart.com/image/128/128/xif0q/sewing-machine/6/m/j/-original-imah4n6f4cu5fqcr.jpeg', 'https://rukminim2.flixcart.com/image/128/128/xif0q/sewing-machine/q/z/k/-original-imah4n7ydgrtxagq.jpeg'], category='Home Appliances', subcategory='Sewing Machines', price_range=(4429.0, 5557.0), confidence_scores={'name': 1.0, 'brand': 1.0, 'specifications': 0.9, 'description': 0.9, 'price': 1.0}),\n",
       " Product(product_id='USHA_UMANG_MANUAL', name='USHA Umang Manual Sewing Machine', brand='USHA', model_number='Umang', description=\"Whether you want to patch little damages in your clothes or stitch a complete dress, the Usha Umang Sewing Machine is sure to help you. Its lever-type stitch regulator, which also has a forward and reverse stitching mechanism, adjusts the speeds to match the fabric's speed, resulting in uniform and well-balanced stitches. The auto-tripping bobbin winder holds the bobbin in place while winding the thread around it, resulting in ideal stitching results.\", specifications={'Type': 'Manual', 'Color': 'Black', 'Number of Stitches': '1', 'Sewing Speed': '850 spm', 'Width': '73.66 cm', 'Height': '104.14 cm', 'Depth': '147.32 cm', 'Weight': '13 kg', 'Warranty': '1 Year Manufacturer Warranty'}, images=['https://rukminim2.flixcart.com/image/128/128/xif0q/sewing-machine/p/e/6/-original-imah4n6fr6wfqnar.jpeg', 'https://rukminim2.flixcart.com/image/128/128/xif0q/sewing-machine/g/0/y/-original-imah4n6fy4gvr9ga.jpeg', 'https://rukminim2.flixcart.com/image/128/128/xif0q/sewing-machine/x/z/y/-original-imah4n5zkhzzabag.jpeg', 'https://rukminim2.flixcart.com/image/128/128/xif0q/sewing-machine/z/w/s/-original-imah4n6zfzph8pqg.jpeg', 'https://rukminim2.flixcart.com/image/128/128/xif0q/sewing-machine/n/s/e/-original-imah4n6fk6cedxx9.jpeg'], category='Home Appliances', subcategory='Sewing Machines', price_range=(4799.0, 5950.0), confidence_scores={'product_details': 0.9, 'specifications': 0.95, 'images': 0.9, 'price': 0.95})]"
      ]
     },
     "execution_count": 42,
     "metadata": {},
     "output_type": "execute_result"
    }
   ],
   "source": [
    "state['products']"
   ]
  }
 ],
 "metadata": {
  "kernelspec": {
   "display_name": "aws_env",
   "language": "python",
   "name": "python3"
  },
  "language_info": {
   "codemirror_mode": {
    "name": "ipython",
    "version": 3
   },
   "file_extension": ".py",
   "mimetype": "text/x-python",
   "name": "python",
   "nbconvert_exporter": "python",
   "pygments_lexer": "ipython3",
   "version": "3.12.9"
  }
 },
 "nbformat": 4,
 "nbformat_minor": 2
}
