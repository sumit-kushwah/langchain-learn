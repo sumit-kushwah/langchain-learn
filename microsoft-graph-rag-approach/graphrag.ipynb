{
 "cells": [
  {
   "cell_type": "code",
   "execution_count": 1,
   "metadata": {},
   "outputs": [],
   "source": [
    "import pandas as pd"
   ]
  },
  {
   "cell_type": "code",
   "execution_count": 2,
   "metadata": {},
   "outputs": [],
   "source": [
    "df = pd.read_parquet(\"ragtest/output/entities.parquet\")"
   ]
  },
  {
   "cell_type": "code",
   "execution_count": 4,
   "metadata": {},
   "outputs": [
    {
     "data": {
      "text/plain": [
       "(131, 10)"
      ]
     },
     "execution_count": 4,
     "metadata": {},
     "output_type": "execute_result"
    }
   ],
   "source": [
    "df.shape"
   ]
  },
  {
   "cell_type": "code",
   "execution_count": 5,
   "metadata": {},
   "outputs": [
    {
     "data": {
      "text/html": [
       "<div>\n",
       "<style scoped>\n",
       "    .dataframe tbody tr th:only-of-type {\n",
       "        vertical-align: middle;\n",
       "    }\n",
       "\n",
       "    .dataframe tbody tr th {\n",
       "        vertical-align: top;\n",
       "    }\n",
       "\n",
       "    .dataframe thead th {\n",
       "        text-align: right;\n",
       "    }\n",
       "</style>\n",
       "<table border=\"1\" class=\"dataframe\">\n",
       "  <thead>\n",
       "    <tr style=\"text-align: right;\">\n",
       "      <th></th>\n",
       "      <th>id</th>\n",
       "      <th>human_readable_id</th>\n",
       "      <th>title</th>\n",
       "      <th>type</th>\n",
       "      <th>description</th>\n",
       "      <th>text_unit_ids</th>\n",
       "      <th>frequency</th>\n",
       "      <th>degree</th>\n",
       "      <th>x</th>\n",
       "      <th>y</th>\n",
       "    </tr>\n",
       "  </thead>\n",
       "  <tbody>\n",
       "    <tr>\n",
       "      <th>0</th>\n",
       "      <td>eff1c850-8871-4d8a-98b3-a7059ca18c5c</td>\n",
       "      <td>0</td>\n",
       "      <td>MINISTRY OF HEALTH AND FAMILY WELFARE</td>\n",
       "      <td>ORGANIZATION</td>\n",
       "      <td>The Ministry of Health and Family Welfare is a...</td>\n",
       "      <td>[4851f892ccf3c7b98523321436028fdcbdfaa71cb136b...</td>\n",
       "      <td>1</td>\n",
       "      <td>6</td>\n",
       "      <td>0.0</td>\n",
       "      <td>0.0</td>\n",
       "    </tr>\n",
       "    <tr>\n",
       "      <th>1</th>\n",
       "      <td>f6c67476-2dfe-4e19-b974-113e1c039274</td>\n",
       "      <td>1</td>\n",
       "      <td>DRUGS TECHNICAL ADVISORY BOARD</td>\n",
       "      <td>ORGANIZATION</td>\n",
       "      <td>The Drugs Technical Advisory Board (DTAB) is a...</td>\n",
       "      <td>[4851f892ccf3c7b98523321436028fdcbdfaa71cb136b...</td>\n",
       "      <td>46</td>\n",
       "      <td>78</td>\n",
       "      <td>0.0</td>\n",
       "      <td>0.0</td>\n",
       "    </tr>\n",
       "    <tr>\n",
       "      <th>2</th>\n",
       "      <td>12ffc893-bf7a-4c1c-bad5-7bb7c5d9e7de</td>\n",
       "      <td>2</td>\n",
       "      <td>HIGH COURT OF JUDICATURE AT MADRAS</td>\n",
       "      <td>ORGANIZATION</td>\n",
       "      <td>The High Court of Judicature at Madras is a pr...</td>\n",
       "      <td>[4851f892ccf3c7b98523321436028fdcbdfaa71cb136b...</td>\n",
       "      <td>31</td>\n",
       "      <td>13</td>\n",
       "      <td>0.0</td>\n",
       "      <td>0.0</td>\n",
       "    </tr>\n",
       "    <tr>\n",
       "      <th>3</th>\n",
       "      <td>f72799ba-7161-4381-bef6-df4deae36934</td>\n",
       "      <td>3</td>\n",
       "      <td>SUPREME COURT OF INDIA</td>\n",
       "      <td>ORGANIZATION</td>\n",
       "      <td>The Supreme Court of India is the highest judi...</td>\n",
       "      <td>[4851f892ccf3c7b98523321436028fdcbdfaa71cb136b...</td>\n",
       "      <td>43</td>\n",
       "      <td>16</td>\n",
       "      <td>0.0</td>\n",
       "      <td>0.0</td>\n",
       "    </tr>\n",
       "    <tr>\n",
       "      <th>4</th>\n",
       "      <td>286f6c5e-a128-45f8-8357-78316aa9c676</td>\n",
       "      <td>4</td>\n",
       "      <td>UNION OF INDIA</td>\n",
       "      <td>ORGANIZATION</td>\n",
       "      <td>The Union of India is the central and federal ...</td>\n",
       "      <td>[4851f892ccf3c7b98523321436028fdcbdfaa71cb136b...</td>\n",
       "      <td>22</td>\n",
       "      <td>17</td>\n",
       "      <td>0.0</td>\n",
       "      <td>0.0</td>\n",
       "    </tr>\n",
       "  </tbody>\n",
       "</table>\n",
       "</div>"
      ],
      "text/plain": [
       "                                     id  human_readable_id  \\\n",
       "0  eff1c850-8871-4d8a-98b3-a7059ca18c5c                  0   \n",
       "1  f6c67476-2dfe-4e19-b974-113e1c039274                  1   \n",
       "2  12ffc893-bf7a-4c1c-bad5-7bb7c5d9e7de                  2   \n",
       "3  f72799ba-7161-4381-bef6-df4deae36934                  3   \n",
       "4  286f6c5e-a128-45f8-8357-78316aa9c676                  4   \n",
       "\n",
       "                                   title          type  \\\n",
       "0  MINISTRY OF HEALTH AND FAMILY WELFARE  ORGANIZATION   \n",
       "1         DRUGS TECHNICAL ADVISORY BOARD  ORGANIZATION   \n",
       "2     HIGH COURT OF JUDICATURE AT MADRAS  ORGANIZATION   \n",
       "3                 SUPREME COURT OF INDIA  ORGANIZATION   \n",
       "4                         UNION OF INDIA  ORGANIZATION   \n",
       "\n",
       "                                         description  \\\n",
       "0  The Ministry of Health and Family Welfare is a...   \n",
       "1  The Drugs Technical Advisory Board (DTAB) is a...   \n",
       "2  The High Court of Judicature at Madras is a pr...   \n",
       "3  The Supreme Court of India is the highest judi...   \n",
       "4  The Union of India is the central and federal ...   \n",
       "\n",
       "                                       text_unit_ids  frequency  degree    x  \\\n",
       "0  [4851f892ccf3c7b98523321436028fdcbdfaa71cb136b...          1       6  0.0   \n",
       "1  [4851f892ccf3c7b98523321436028fdcbdfaa71cb136b...         46      78  0.0   \n",
       "2  [4851f892ccf3c7b98523321436028fdcbdfaa71cb136b...         31      13  0.0   \n",
       "3  [4851f892ccf3c7b98523321436028fdcbdfaa71cb136b...         43      16  0.0   \n",
       "4  [4851f892ccf3c7b98523321436028fdcbdfaa71cb136b...         22      17  0.0   \n",
       "\n",
       "     y  \n",
       "0  0.0  \n",
       "1  0.0  \n",
       "2  0.0  \n",
       "3  0.0  \n",
       "4  0.0  "
      ]
     },
     "execution_count": 5,
     "metadata": {},
     "output_type": "execute_result"
    }
   ],
   "source": [
    "df.head()"
   ]
  },
  {
   "cell_type": "code",
   "execution_count": 6,
   "metadata": {},
   "outputs": [
    {
     "data": {
      "text/plain": [
       "type\n",
       "EVENT           102\n",
       "ORGANIZATION     17\n",
       "                  6\n",
       "PERSON            5\n",
       "GEO               1\n",
       "Name: count, dtype: int64"
      ]
     },
     "execution_count": 6,
     "metadata": {},
     "output_type": "execute_result"
    }
   ],
   "source": [
    "df['type'].value_counts()"
   ]
  },
  {
   "cell_type": "code",
   "execution_count": 8,
   "metadata": {},
   "outputs": [
    {
     "data": {
      "text/plain": [
       "(0, 78)"
      ]
     },
     "execution_count": 8,
     "metadata": {},
     "output_type": "execute_result"
    }
   ],
   "source": [
    "df['degree'].min(), df['degree'].max()"
   ]
  },
  {
   "cell_type": "code",
   "execution_count": 9,
   "metadata": {},
   "outputs": [
    {
     "data": {
      "text/html": [
       "<div>\n",
       "<style scoped>\n",
       "    .dataframe tbody tr th:only-of-type {\n",
       "        vertical-align: middle;\n",
       "    }\n",
       "\n",
       "    .dataframe tbody tr th {\n",
       "        vertical-align: top;\n",
       "    }\n",
       "\n",
       "    .dataframe thead th {\n",
       "        text-align: right;\n",
       "    }\n",
       "</style>\n",
       "<table border=\"1\" class=\"dataframe\">\n",
       "  <thead>\n",
       "    <tr style=\"text-align: right;\">\n",
       "      <th></th>\n",
       "      <th>id</th>\n",
       "      <th>human_readable_id</th>\n",
       "      <th>title</th>\n",
       "      <th>type</th>\n",
       "      <th>description</th>\n",
       "      <th>text_unit_ids</th>\n",
       "      <th>frequency</th>\n",
       "      <th>degree</th>\n",
       "      <th>x</th>\n",
       "      <th>y</th>\n",
       "    </tr>\n",
       "  </thead>\n",
       "  <tbody>\n",
       "    <tr>\n",
       "      <th>1</th>\n",
       "      <td>f6c67476-2dfe-4e19-b974-113e1c039274</td>\n",
       "      <td>1</td>\n",
       "      <td>DRUGS TECHNICAL ADVISORY BOARD</td>\n",
       "      <td>ORGANIZATION</td>\n",
       "      <td>The Drugs Technical Advisory Board (DTAB) is a...</td>\n",
       "      <td>[4851f892ccf3c7b98523321436028fdcbdfaa71cb136b...</td>\n",
       "      <td>46</td>\n",
       "      <td>78</td>\n",
       "      <td>0.0</td>\n",
       "      <td>0.0</td>\n",
       "    </tr>\n",
       "  </tbody>\n",
       "</table>\n",
       "</div>"
      ],
      "text/plain": [
       "                                     id  human_readable_id  \\\n",
       "1  f6c67476-2dfe-4e19-b974-113e1c039274                  1   \n",
       "\n",
       "                            title          type  \\\n",
       "1  DRUGS TECHNICAL ADVISORY BOARD  ORGANIZATION   \n",
       "\n",
       "                                         description  \\\n",
       "1  The Drugs Technical Advisory Board (DTAB) is a...   \n",
       "\n",
       "                                       text_unit_ids  frequency  degree    x  \\\n",
       "1  [4851f892ccf3c7b98523321436028fdcbdfaa71cb136b...         46      78  0.0   \n",
       "\n",
       "     y  \n",
       "1  0.0  "
      ]
     },
     "execution_count": 9,
     "metadata": {},
     "output_type": "execute_result"
    }
   ],
   "source": [
    "df[df['degree'] == 78]"
   ]
  },
  {
   "cell_type": "code",
   "execution_count": 11,
   "metadata": {},
   "outputs": [
    {
     "data": {
      "text/html": [
       "<div>\n",
       "<style scoped>\n",
       "    .dataframe tbody tr th:only-of-type {\n",
       "        vertical-align: middle;\n",
       "    }\n",
       "\n",
       "    .dataframe tbody tr th {\n",
       "        vertical-align: top;\n",
       "    }\n",
       "\n",
       "    .dataframe thead th {\n",
       "        text-align: right;\n",
       "    }\n",
       "</style>\n",
       "<table border=\"1\" class=\"dataframe\">\n",
       "  <thead>\n",
       "    <tr style=\"text-align: right;\">\n",
       "      <th></th>\n",
       "      <th>id</th>\n",
       "      <th>human_readable_id</th>\n",
       "      <th>title</th>\n",
       "      <th>type</th>\n",
       "      <th>description</th>\n",
       "      <th>text_unit_ids</th>\n",
       "      <th>frequency</th>\n",
       "      <th>degree</th>\n",
       "      <th>x</th>\n",
       "      <th>y</th>\n",
       "    </tr>\n",
       "  </thead>\n",
       "  <tbody>\n",
       "    <tr>\n",
       "      <th>121</th>\n",
       "      <td>6f079d1d-b8dd-4b40-886b-5cba0d5bad85</td>\n",
       "      <td>121</td>\n",
       "      <td>NIMESULIDE + PHENYLEPHRINE + CHLORPHENIRAMINE ...</td>\n",
       "      <td>EVENT</td>\n",
       "      <td>A fixed dose combination of drugs that was rec...</td>\n",
       "      <td>[f362442b51cd7c4f5a9afefe3e27ef34132984e5e2fff...</td>\n",
       "      <td>1</td>\n",
       "      <td>1</td>\n",
       "      <td>0.0</td>\n",
       "      <td>0.0</td>\n",
       "    </tr>\n",
       "    <tr>\n",
       "      <th>122</th>\n",
       "      <td>bbdfe1e3-08b9-4aee-b1ff-47dddcf60b5c</td>\n",
       "      <td>122</td>\n",
       "      <td>NIMESULIDE + PITOFENONE + FENPIVERINIUM BROMIDE</td>\n",
       "      <td>EVENT</td>\n",
       "      <td>NIMESULIDE, PITOFENONE, and FENPIVERINIUM BROM...</td>\n",
       "      <td>[f362442b51cd7c4f5a9afefe3e27ef34132984e5e2fff...</td>\n",
       "      <td>2</td>\n",
       "      <td>2</td>\n",
       "      <td>0.0</td>\n",
       "      <td>0.0</td>\n",
       "    </tr>\n",
       "    <tr>\n",
       "      <th>125</th>\n",
       "      <td>3c679517-c88e-4e4e-96ac-76e7ad9bce8f</td>\n",
       "      <td>125</td>\n",
       "      <td>NIMESULIDE + PSEUDOEPHEDRINE + CETIRIZINE</td>\n",
       "      <td>EVENT</td>\n",
       "      <td>The combination of Nimesulide, Pseudoephedrine...</td>\n",
       "      <td>[429c00ea03cca391c467720567688dbfc13c09499ed6e...</td>\n",
       "      <td>1</td>\n",
       "      <td>1</td>\n",
       "      <td>0.0</td>\n",
       "      <td>0.0</td>\n",
       "    </tr>\n",
       "  </tbody>\n",
       "</table>\n",
       "</div>"
      ],
      "text/plain": [
       "                                       id  human_readable_id  \\\n",
       "121  6f079d1d-b8dd-4b40-886b-5cba0d5bad85                121   \n",
       "122  bbdfe1e3-08b9-4aee-b1ff-47dddcf60b5c                122   \n",
       "125  3c679517-c88e-4e4e-96ac-76e7ad9bce8f                125   \n",
       "\n",
       "                                                 title   type  \\\n",
       "121  NIMESULIDE + PHENYLEPHRINE + CHLORPHENIRAMINE ...  EVENT   \n",
       "122    NIMESULIDE + PITOFENONE + FENPIVERINIUM BROMIDE  EVENT   \n",
       "125          NIMESULIDE + PSEUDOEPHEDRINE + CETIRIZINE  EVENT   \n",
       "\n",
       "                                           description  \\\n",
       "121  A fixed dose combination of drugs that was rec...   \n",
       "122  NIMESULIDE, PITOFENONE, and FENPIVERINIUM BROM...   \n",
       "125  The combination of Nimesulide, Pseudoephedrine...   \n",
       "\n",
       "                                         text_unit_ids  frequency  degree  \\\n",
       "121  [f362442b51cd7c4f5a9afefe3e27ef34132984e5e2fff...          1       1   \n",
       "122  [f362442b51cd7c4f5a9afefe3e27ef34132984e5e2fff...          2       2   \n",
       "125  [429c00ea03cca391c467720567688dbfc13c09499ed6e...          1       1   \n",
       "\n",
       "       x    y  \n",
       "121  0.0  0.0  \n",
       "122  0.0  0.0  \n",
       "125  0.0  0.0  "
      ]
     },
     "execution_count": 11,
     "metadata": {},
     "output_type": "execute_result"
    }
   ],
   "source": [
    "df[df['title'].str.contains(\"NIMESULIDE\")]"
   ]
  },
  {
   "cell_type": "code",
   "execution_count": 12,
   "metadata": {},
   "outputs": [],
   "source": [
    "rel_df = pd.read_parquet(\"ragtest/output/relationships.parquet\")"
   ]
  },
  {
   "cell_type": "code",
   "execution_count": 13,
   "metadata": {},
   "outputs": [
    {
     "data": {
      "text/plain": [
       "(220, 8)"
      ]
     },
     "execution_count": 13,
     "metadata": {},
     "output_type": "execute_result"
    }
   ],
   "source": [
    "rel_df.shape"
   ]
  },
  {
   "cell_type": "code",
   "execution_count": 28,
   "metadata": {},
   "outputs": [
    {
     "data": {
      "text/html": [
       "<div>\n",
       "<style scoped>\n",
       "    .dataframe tbody tr th:only-of-type {\n",
       "        vertical-align: middle;\n",
       "    }\n",
       "\n",
       "    .dataframe tbody tr th {\n",
       "        vertical-align: top;\n",
       "    }\n",
       "\n",
       "    .dataframe thead th {\n",
       "        text-align: right;\n",
       "    }\n",
       "</style>\n",
       "<table border=\"1\" class=\"dataframe\">\n",
       "  <thead>\n",
       "    <tr style=\"text-align: right;\">\n",
       "      <th></th>\n",
       "      <th>id</th>\n",
       "      <th>human_readable_id</th>\n",
       "      <th>source</th>\n",
       "      <th>target</th>\n",
       "      <th>description</th>\n",
       "      <th>weight</th>\n",
       "      <th>combined_degree</th>\n",
       "      <th>text_unit_ids</th>\n",
       "    </tr>\n",
       "  </thead>\n",
       "  <tbody>\n",
       "    <tr>\n",
       "      <th>179</th>\n",
       "      <td>d6265eff-3482-4521-9547-cc4a1c64b1a7</td>\n",
       "      <td>179</td>\n",
       "      <td>GLUCOSAMINE + VITAMIN C + VITAMIN E + CHONDROITIN SULPHATE + METHYL SULFONYL METHANE + MANGANESE SULPHATE</td>\n",
       "      <td>CENTRAL GOVERNMENT</td>\n",
       "      <td>The Central Government prohibited the manufacture and sale of this FDC based on the Board's recommendations</td>\n",
       "      <td>1.0</td>\n",
       "      <td>47</td>\n",
       "      <td>[cc1420b73f3a52b2014548e53beb797e5f9336c809eac46536391e41cb05593c9100e510662c6319c7df5d5acbe757d13e9f427b0ca92420c529d6b6e5a6b025]</td>\n",
       "    </tr>\n",
       "  </tbody>\n",
       "</table>\n",
       "</div>"
      ],
      "text/plain": [
       "                                       id  human_readable_id                                                                                                     source              target                                                                                                  description  weight  combined_degree                                                                                                                       text_unit_ids\n",
       "179  d6265eff-3482-4521-9547-cc4a1c64b1a7                179  GLUCOSAMINE + VITAMIN C + VITAMIN E + CHONDROITIN SULPHATE + METHYL SULFONYL METHANE + MANGANESE SULPHATE  CENTRAL GOVERNMENT  The Central Government prohibited the manufacture and sale of this FDC based on the Board's recommendations     1.0               47  [cc1420b73f3a52b2014548e53beb797e5f9336c809eac46536391e41cb05593c9100e510662c6319c7df5d5acbe757d13e9f427b0ca92420c529d6b6e5a6b025]"
      ]
     },
     "execution_count": 28,
     "metadata": {},
     "output_type": "execute_result"
    }
   ],
   "source": [
    "# set width upto 1000\n",
    "pd.set_option('display.width', 1000)\n",
    "rel_df.sample()"
   ]
  },
  {
   "cell_type": "code",
   "execution_count": 20,
   "metadata": {},
   "outputs": [],
   "source": [
    "com_df = pd.read_parquet(\"ragtest/output/community_reports.parquet\")"
   ]
  },
  {
   "cell_type": "code",
   "execution_count": 22,
   "metadata": {},
   "outputs": [
    {
     "data": {
      "text/plain": [
       "(17, 15)"
      ]
     },
     "execution_count": 22,
     "metadata": {},
     "output_type": "execute_result"
    }
   ],
   "source": [
    "com_df.shape"
   ]
  },
  {
   "cell_type": "code",
   "execution_count": 24,
   "metadata": {},
   "outputs": [],
   "source": [
    "text_unit_df = pd.read_parquet(\"ragtest/output/text_units.parquet\")"
   ]
  },
  {
   "cell_type": "code",
   "execution_count": 25,
   "metadata": {},
   "outputs": [
    {
     "data": {
      "text/plain": [
       "(52, 8)"
      ]
     },
     "execution_count": 25,
     "metadata": {},
     "output_type": "execute_result"
    }
   ],
   "source": [
    "text_unit_df.shape"
   ]
  }
 ],
 "metadata": {
  "kernelspec": {
   "display_name": "base",
   "language": "python",
   "name": "python3"
  },
  "language_info": {
   "codemirror_mode": {
    "name": "ipython",
    "version": 3
   },
   "file_extension": ".py",
   "mimetype": "text/x-python",
   "name": "python",
   "nbconvert_exporter": "python",
   "pygments_lexer": "ipython3",
   "version": "3.12.2"
  }
 },
 "nbformat": 4,
 "nbformat_minor": 2
}
