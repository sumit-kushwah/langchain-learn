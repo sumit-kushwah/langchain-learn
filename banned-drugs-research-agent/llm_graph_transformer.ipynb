{
 "cells": [
  {
   "cell_type": "code",
   "execution_count": 5,
   "metadata": {},
   "outputs": [],
   "source": [
    "import os\n",
    "\n",
    "os.environ[\"GOOGLE_APPLICATION_CREDENTIALS\"] = \"/Users/ksumit/Documents/secrets/vertex-ai-im-6882a1563a11.json\""
   ]
  },
  {
   "cell_type": "code",
   "execution_count": 25,
   "metadata": {},
   "outputs": [],
   "source": [
    "from langchain_google_vertexai import ChatVertexAI\n",
    "\n",
    "llm = ChatVertexAI(\n",
    "    model=\"gemini-1.5-pro\",\n",
    "    temperature=1,\n",
    "    max_tokens=None,\n",
    "    max_retries=6,\n",
    "    stop=None,\n",
    "    project=\"vertex-ai-im\",\n",
    "    location=\"asia-south1\",\n",
    ")"
   ]
  },
  {
   "cell_type": "code",
   "execution_count": 10,
   "metadata": {},
   "outputs": [],
   "source": [
    "from langchain_core.documents import Document\n",
    "\n",
    "text = \"\"\"\n",
    "MINISTRY OF HEALTH AND FAMILY WELFARE (Department of Health and Family Welfare) NOTIFICATION \n",
    "New Delhi, the 27th January, 2020 \n",
    "            G.S.R. 52(E).—Whereas  the  Central Government, on being satisfied that the  use of the  drug \n",
    "Oxytocin and its formulation in any name or manner is likely to involve certain risk to human beings \n",
    "and  animals,  prohibited  the  import  of  the  said  drugs  in  public  interest  by  amending  the  notification \n",
    "number G.S.R. 577(E), dated  the  23rd July, 1983  vide  notification of the Government of India  in the \n",
    "Ministry of Health and Family Welfare number G.S.R. 390(E), dated the 24th April, 2018;  And whereas, subsequent to issuance of the said notification number G.S.R. 390(E), dated the \n",
    "24th  April,  2018  for  prohibition  of  import  of  drug  Oxytocin  and  its  formulation  in  any  name  or \n",
    "manner, the  Central Government received  representations  from various  stakeholders  to allow import \n",
    "of Oxytocin reference standards for the purpose of examination, test or analysis;  And whereas, the Central Government is satisfied that import of Oxytocin reference standards \n",
    "is necessary exclusively for the purpose of examination, test or analysis before carrying out \n",
    "commercial manufacturing of the said drug;  Now,  therefore,  in  exercise  of  the  powers  conferred  by  section  10A  of  the  Drugs  and \n",
    "Cosmetics Act,  1940 (23 of 1940), the  Central Government hereby makes the following amendment \n",
    "in the notification of the Government of India in the Ministry of Health and Family Welfare number \n",
    "G.S.R. 577(E), dated the 23rd July, 1983, namely:―  In the  said notification,  in the Table,  for serial number 12 and  the  entry relating thereto, the \n",
    "following serial number and entry shall be inserted, namely:― \"12.  Oxytocin  and  its  formulation  in  any  name  or  manner  except  Oxytocin  reference  standards \n",
    "imported exclusively for the purpose of test and analysis.”\n",
    "\"\"\"\n",
    "documents = [Document(page_content=text)]"
   ]
  },
  {
   "cell_type": "code",
   "execution_count": 18,
   "metadata": {},
   "outputs": [
    {
     "name": "stderr",
     "output_type": "stream",
     "text": [
      "Key '$defs' is not supported in schema, ignoring\n"
     ]
    },
    {
     "name": "stdout",
     "output_type": "stream",
     "text": [
      "Nodes:[Node(id='S.O. 180(E)', type='Notification no', properties={}), Node(id='28Th November, 2007', type='Date', properties={}), Node(id='16Th February, 2015', type='Date', properties={}), Node(id='15Th December, 2017', type='Date', properties={}), Node(id='5-Bromosalicyl-4-Chloranilide + Salicylic Acid', type='Fdc', properties={}), Node(id='5-Bromosalicyl-4-Chloranilide + Salicylic Acid', type='Drug', properties={}), Node(id='Banned', type='Banned', properties={})]\n",
      "Relationships:[Relationship(source=Node(id='5-Bromosalicyl-4-Chloranilide + Salicylic Acid', type='Fdc', properties={}), target=Node(id='5-Bromosalicyl-4-Chloranilide + Salicylic Acid', type='Drug', properties={}), type='CONTAINS', properties={}), Relationship(source=Node(id='5-Bromosalicyl-4-Chloranilide + Salicylic Acid', type='Fdc', properties={}), target=Node(id='Banned', type='Banned', properties={}), type='STATUS', properties={}), Relationship(source=Node(id='5-Bromosalicyl-4-Chloranilide + Salicylic Acid', type='Fdc', properties={}), target=Node(id='S.O. 180(E)', type='Notification no', properties={}), type='MENTIONED_IN', properties={}), Relationship(source=Node(id='5-Bromosalicyl-4-Chloranilide + Salicylic Acid', type='Drug', properties={}), target=Node(id='S.O. 180(E)', type='Notification no', properties={}), type='MENTIONED_IN', properties={})]\n"
     ]
    }
   ],
   "source": [
    "from langchain_experimental.graph_transformers import LLMGraphTransformer\n",
    "\n",
    "allowed_relationships = [\n",
    "    (\"FDC\", \"CONTAINS\", \"Drug\"),\n",
    "    (\"Drug\", \"MENTIONED_IN\", \"Notification No\"),\n",
    "    (\"FDC\", \"MENTIONED_IN\", \"Notification No\"),\n",
    "    (\"FDC\", \"STATUS\", \"Banned\"),\n",
    "    (\"FDC\", \"STATUS\", \"Approved\"),\n",
    "    (\"FDC\", \"EFFECTIVE_FROM\", \"Date\"),\n",
    "]\n",
    "\n",
    "llm_transformer_tuple = LLMGraphTransformer(\n",
    "    llm=llm,\n",
    "    allowed_nodes=[\"FDC\", \"Drug\", \"Notification No\", \"Date\", \"Banned\", \"Approved\"],\n",
    "    allowed_relationships=allowed_relationships,\n",
    "    node_properties=[]\n",
    ")\n",
    "graph_documents_filtered = llm_transformer_tuple.convert_to_graph_documents(documents)\n",
    "print(f\"Nodes:{graph_documents_filtered[0].nodes}\")\n",
    "print(f\"Relationships:{graph_documents_filtered[0].relationships}\")"
   ]
  },
  {
   "cell_type": "code",
   "execution_count": 19,
   "metadata": {},
   "outputs": [
    {
     "name": "stdout",
     "output_type": "stream",
     "text": [
      "English text extracted and saved to english_text.txt\n"
     ]
    }
   ],
   "source": [
    "import re\n",
    "from PyPDF2 import PdfReader\n",
    "\n",
    "def extract_english_text(pdf_path):\n",
    "    reader = PdfReader(pdf_path)\n",
    "    english_text = \"\"\n",
    "\n",
    "    for page in reader.pages:\n",
    "        text = page.extract_text()\n",
    "        # Use regex to keep only English characters, numbers, and basic punctuation\n",
    "        english_only = re.sub(r'[^a-zA-Z0-9\\s.,!?\\'\"-]', '', text)\n",
    "        english_text += english_only + \"\\n\"\n",
    "\n",
    "    return english_text\n",
    "\n",
    "# Specify the path to your PDF\n",
    "pdf_path = \"pdfs/218928.pdf\"\n",
    "english_text = extract_english_text(pdf_path)\n",
    "\n",
    "# Save the extracted English text to a file\n",
    "with open(\"english_text.txt\", \"w\", encoding=\"utf-8\") as file:\n",
    "    file.write(english_text)\n",
    "\n",
    "print(\"English text extracted and saved to english_text.txt\")"
   ]
  },
  {
   "cell_type": "code",
   "execution_count": 77,
   "metadata": {},
   "outputs": [],
   "source": [
    "from pydantic import BaseModel, Field\n",
    "\n",
    "class NotificationOutput(BaseModel):\n",
    "    notification_no: str = Field(..., title=\"Notification No\")\n",
    "    notification_date: str = Field(..., title=\"Notification Date\")\n",
    "    fdc_name: str = Field(None, title=\"Drug Combination Mentioned in the Notification\")\n",
    "    drugs_list: list[str] = Field(None, title=\"List of Drugs in the FDC\")\n",
    "    description: str = Field(..., title=\"Summary of the Notification in simple english\")\n",
    "\n",
    "notification_llm = llm.with_structured_output(NotificationOutput)"
   ]
  },
  {
   "cell_type": "code",
   "execution_count": 78,
   "metadata": {},
   "outputs": [
    {
     "data": {
      "text/plain": [
       "NotificationOutput(notification_no='S.O. 180(E)', notification_date='11th January, 2019', fdc_name='5-bromosalicyl-4-chloranilide + Salicylic acid', drugs_list=['5-bromosalicyl-4-chloranilide + Salicylic acid'], description='The Central Government hereby prohibits in the public interest the manufacture for sale, sale and distribution of the following drug with immediate effect:- “Fixed dose combination of 5-bromosalicyl-4-chloranilide + Salicylic acid for human use”.')"
      ]
     },
     "execution_count": 78,
     "metadata": {},
     "output_type": "execute_result"
    }
   ],
   "source": [
    "notification_llm.invoke(data[0])"
   ]
  },
  {
   "cell_type": "code",
   "execution_count": 1,
   "metadata": {},
   "outputs": [],
   "source": [
    "# read data.text file and break the text by empty line\n",
    "with open(\"/Users/ksumit/Development/Personal/langchain-development/microsoft-graph-rag-approach/ragtest/input/data.txt\", \"r\") as file:\n",
    "    data = file.read().split(\"\\n\\n\")"
   ]
  },
  {
   "cell_type": "code",
   "execution_count": 3,
   "metadata": {},
   "outputs": [
    {
     "data": {
      "text/plain": [
       "80"
      ]
     },
     "execution_count": 3,
     "metadata": {},
     "output_type": "execute_result"
    }
   ],
   "source": [
    "len(data)"
   ]
  },
  {
   "cell_type": "code",
   "execution_count": 12,
   "metadata": {},
   "outputs": [
    {
     "name": "stderr",
     "output_type": "stream",
     "text": [
      "100%|██████████| 80/80 [04:01<00:00,  3.02s/it]\n"
     ]
    }
   ],
   "source": [
    "notifications = []\n",
    "from tqdm import tqdm\n",
    "\n",
    "for desc in tqdm(data):\n",
    "    notification = notification_llm.invoke(desc)\n",
    "    notifications.append(notification)"
   ]
  },
  {
   "cell_type": "code",
   "execution_count": 35,
   "metadata": {},
   "outputs": [
    {
     "name": "stdout",
     "output_type": "stream",
     "text": [
      "['5-bromosalicyl-4-chloranilide', 'Salicylic acid']\n",
      "['Activated charcoal', 'Fungal diastase', 'Lactic acid']\n",
      "['Allobarbitone', 'Phospho-dimethyl-isopropyl-pyrazolone']\n",
      "['Artesunate', 'Arteether', 'Artemether']\n",
      "['Atorvastatin', 'Acetyl Salicylic acid', 'Caffeine']\n",
      "['Chlormezanone', 'Paracetamol', 'Diclofenac sodium']\n",
      "['Chlormezanone', 'Paracetamol', 'Ibuprofen']\n",
      "['Chlorzoxazone', 'Ibuprofen', 'Paracetamol', 'Diclofenac', 'Oxyphenbutazone', 'Magnesium Hydroxide']\n",
      "['Chlorzoxazone', 'Paracetamol', 'Ibuprofen', 'Diclofenac sodium']\n",
      "['Ciprofloxacin', 'Tinidazole', 'Dicyclomine']\n",
      "['Dicyclomine', 'Dextromethorphan', 'Paracetamol']\n",
      "['Dicyclomine', 'Paracetamol', 'Chlordiazepoxide']\n",
      "['Dicyclomine', 'Paracetamol', 'Phenylisopropyl Pyrazolone']\n",
      "['Dicyclomine', 'Serratiopeptidase']\n",
      "['Ibuprofen', 'Colchicine']\n",
      "['Ibuprofen', 'Dextropropoxyphene', 'Paracetamol']\n",
      "['Ibuprofen', 'Paracetamol', 'Colchicine']\n",
      "['Ibuprofen', 'Paracetamol', 'Magnesium Trisilicate']\n",
      "['Mebeverine', 'Alprazolam']\n",
      "['Mecobalamin', 'Methenamine mandelate']\n",
      "['Norfloxacin', 'Tinidazole', 'Dicyclomine']\n",
      "['Norfloxacin', 'Tinidazole', 'Loperamide']\n",
      "['Ondansetron', 'Paracetamol']\n",
      "['Paracetamol', 'Alprazolam']\n",
      "['Paracetamol', 'Diclofenac Sodium', 'Amoxicillin', 'Cloxacillin', 'Pantoprazole', 'Lactic Acid Bacillus', 'Serratiopeptidase']\n",
      "['Paracetamol', 'Diclofenac sodium', 'Magnesium Trisilicate', 'Chlorpheniramine Maleate']\n",
      "['Paracetamol', 'Ketoprofen', 'Dextropropoxyphene']\n",
      "['Ranitidine', 'Dicyclomine', 'Clidinium Bromide']\n",
      "['Ranitidine', 'Omeprazole']\n",
      "['Acriflavine', 'Gentian violet', 'Brilliant green']\n",
      "['Allantoin', 'Triclosan', 'Vitamin E', 'Zinc Oxide']\n",
      "['Allantoin', 'Vitamin E', 'Camellia Sinensis']\n",
      "['Atorvastatin', 'Omega 3 Fatty Acid 250mg']\n",
      "['Atorvastatin', 'Ubidecarenone']\n",
      "['Cefixime', 'Lactobacillus', 'Clavulanic Acid']\n",
      "['Cefixime', 'Ornidazole']\n",
      "['Ceftriaxone', 'Vancomycin']\n",
      "['Cefuroxime', 'Ornidazole']\n",
      "['Diclofenac', 'Pitofenone Hydrochloride', 'Fenpiverinium Bromide', 'Paracetamol']\n",
      "['Dicyclomine', 'Paracetamol', 'Dextropropoxyphene', 'Chlordiazepoxide']\n",
      "['Dicyclomine', 'Paracetamol', 'Dimethylpolysiloxane']\n",
      "['Dicyclomine', 'Paracetamol', 'Simethicone']\n",
      "['Doxycycline', 'Tinidazole']\n",
      "['Drotaverine', 'Omeprazole']\n",
      "['Fenpiverinium Bromide', 'Diclofenac Sodium', 'Pitofenone Hydrochloride']\n",
      "['Glucosamine', 'Ascorbic Acid']\n",
      "['Glucosamine', 'Boswellia Serrata']\n",
      "['Glucosamine', 'Calcium Carbonate']\n",
      "['Glucosamine', 'Cetyl Myristate Oleate']\n",
      "['Glucosamine', 'Chondroitin sulphate', 'Methyl sulfonyl methane']\n",
      "['Glucosamine', 'Chondroitin sulphate', 'Vitamin C', 'Manganese sulphate']\n",
      "['Glucosamine', 'Chondroitin', 'Vitamin C', 'Vitamin E', 'Manganese']\n",
      "['Glucosamine', 'Chondroitin', 'Vitamin C']\n",
      "['Glucosamine', 'Chondroitin', 'Vitamin C', 'Vitamin E', 'Manganese sulphate', 'Sodium borate', 'Selenium dioxide']\n",
      "['Glucosamine', 'Cholecalciferol', 'Manganese', 'Ascorbic acid']\n",
      "['Glucosamine', 'Manganese']\n",
      "['Glucosamine', 'Mecobalamin', 'Dimethyl Sulfone']\n",
      "['Glucosamine', 'Mecobalamin']\n",
      "['Glucosamine', 'Mecobalamin', 'Milk calcium']\n",
      "['Glucosamine', 'Methyl sulfonyl methane']\n",
      "['Glucosamine', 'Methyl sulfonyl methane', 'Cetyl Myristate']\n",
      "['Glucosamine', 'Vitamin C', 'Calcium', 'Methyl Sulfonyl Methane', 'Chondroitin', 'Manganese']\n",
      "['Glucosamine', 'Vitamin C', 'Vitamin E', 'Chondroitin sulphate', 'Methyl sulfonyl methane', 'Manganese sulphate']\n",
      "['Glucosamine sulphate', 'Chondroitin sulphate', 'Vitamin E', 'Manganese']\n",
      "['Glucosamine', 'Calcium', 'Vitamin D3']\n",
      "['Ornidazole', 'Doxycycline']\n",
      "['Ornidazole', 'Fluconazole', 'Azithromycin']\n",
      "['Propranolol', 'Hydralazine']\n",
      "['Propranolol', 'Hydrochlorothiazide', 'Dihydralazine']\n",
      "['Ranitidine', 'Dicyclomine', 'Nimesulide']\n",
      "['Ranitidine', 'Dicycloverine', 'Simethicone']\n",
      "['Ranitidine', 'Drotaverine']\n",
      "['Telmisartan', 'Ramipril', 'Hydrochlorothiazide']\n",
      "['Ibuprofen', 'Paracetamol', 'Phenylephrine', 'Chlorpheniramine maleate']\n",
      "['Nimesulide', 'Phenylephrine', 'Chlorpheniramine maleate', 'Caffeine']\n",
      "['Nimesulide', 'Pitofenone', 'Fenpiverinium Bromide']\n",
      "['Nimesulide', 'Pseudoephedrine', 'Cetirizine']\n",
      "['Ofloxacin', 'Diclofenac', 'Lignocaine']\n",
      "['Ondansetron', 'Omeprazole']\n",
      "['Hydrochlorothiazide', 'Ramipril', 'Losartan Potassium']\n"
     ]
    }
   ],
   "source": [
    "for notification in notifications:\n",
    "    print(notification.drugs_list)"
   ]
  },
  {
   "cell_type": "code",
   "execution_count": 33,
   "metadata": {},
   "outputs": [],
   "source": [
    "def modify_drugs_list(drugs_list):\n",
    "    new_drug_list = []\n",
    "    for drug in drugs_list:\n",
    "        new_drugs = drug.split(\"+\")\n",
    "        new_drugs = [new_drug.strip() for new_drug in new_drugs]\n",
    "        new_drug_list.extend(new_drugs)\n",
    "    return new_drug_list"
   ]
  },
  {
   "cell_type": "code",
   "execution_count": 34,
   "metadata": {},
   "outputs": [],
   "source": [
    "for notification in notifications:\n",
    "    notification.drugs_list = modify_drugs_list(notification.drugs_list)"
   ]
  },
  {
   "cell_type": "code",
   "execution_count": 37,
   "metadata": {},
   "outputs": [],
   "source": [
    "drugs = []\n",
    "for notification in notifications:\n",
    "    drugs.extend([drug.lower() for drug in notification.drugs_list])\n",
    "    \n",
    "drugs = list(set(drugs))"
   ]
  },
  {
   "cell_type": "code",
   "execution_count": 39,
   "metadata": {},
   "outputs": [
    {
     "data": {
      "text/plain": [
       "107"
      ]
     },
     "execution_count": 39,
     "metadata": {},
     "output_type": "execute_result"
    }
   ],
   "source": [
    "len(drugs)"
   ]
  },
  {
   "cell_type": "code",
   "execution_count": 28,
   "metadata": {},
   "outputs": [],
   "source": [
    "prompt = f\"\"\"\n",
    "Extract the following information from the given notification text:\n",
    "\n",
    "Notification Number – The alphanumeric code following the term \"NOTIFICATION\" or \"S.O.\"\n",
    "\n",
    "Drugs List – The names of chemical compounds mentioned in the context of approval, prohibition, or any regulatory action.\n",
    "\n",
    "Action Type – Determine whether the notification approves, prohibits, or modifies the usage of the mentioned drugs.\n",
    "\n",
    "Return the extracted data in the following structured format:\n",
    "{{\n",
    "  \"Notification_No\": \"S.O. XXX(E)\",\n",
    "  \"Action_Type\": \"Approved/Prohibited/Modified\",\n",
    "  \"Drugs_List\": [\"Drug_Name_1\", \"Drug_Name_2\", ...]\n",
    "}}\n",
    "\n",
    "Ensure accuracy by capturing only the drugs explicitly mentioned in the regulatory decision.\n",
    "\n",
    "Notification Text:\n",
    "{data[0]}\n",
    "\"\"\""
   ]
  },
  {
   "cell_type": "code",
   "execution_count": 31,
   "metadata": {},
   "outputs": [
    {
     "name": "stdout",
     "output_type": "stream",
     "text": [
      "{\n",
      "  \"Notification_No\": \"S.O. 180(E)\",\n",
      "  \"Action_Type\": \"Prohibited\",\n",
      "  \"Drugs_List\": [\"5-bromosalicyl-4-chloranilide + Salicylic acid\"]\n",
      "} \n",
      "\n"
     ]
    }
   ],
   "source": [
    "messages = [\n",
    "    (\n",
    "        \"system\",\n",
    "        \"You are a legal and regulatory document classifier. Your task is to analyze a given text and determine whether it is a government notification related to the prohibition, restriction, or regulation of a pharmaceutical drug or its formulation in India.\",\n",
    "    ),\n",
    "    (\"human\", prompt),\n",
    "]\n",
    "ai_msg = llm.invoke(messages)\n",
    "print(ai_msg.content)"
   ]
  },
  {
   "cell_type": "code",
   "execution_count": 53,
   "metadata": {},
   "outputs": [],
   "source": [
    "import json\n",
    "\n",
    "def extract_json_data(json_str):\n",
    "    try:\n",
    "        json_start = json_str.find(\"{\")\n",
    "        json_end = json_str.rfind(\"}\")\n",
    "        if json_start != -1 and json_end != -1:\n",
    "            extracted_sentiment = json_str[\n",
    "                json_start : json_end + 1\n",
    "            ]  # Extract the JSON object\n",
    "            data_dict = json.loads(extracted_sentiment)\n",
    "            return data_dict\n",
    "        else:\n",
    "            print(f\"Warning: JSON object not found in response: {json_str}\")\n",
    "            return {}\n",
    "    except json.JSONDecodeError as e:\n",
    "        print(f\"Error parsing JSON: {e}\")\n",
    "        return {}"
   ]
  },
  {
   "cell_type": "code",
   "execution_count": 80,
   "metadata": {},
   "outputs": [],
   "source": [
    "product_description = \"Nimesulide 100mg + Paracetamol 500mg Tablet\"\n",
    "\n",
    "def extract_drugs(product_description, drugs):\n",
    "  drug_extractor_prompt = f\"\"\"\n",
    "  Extract drugs present in following product description:\n",
    "\n",
    "  Product Description:\n",
    "  {product_description}\n",
    "\n",
    "  Return the extracted drugs in a following json format:\n",
    "  {{\n",
    "    \"drugs\": [\"drug_Name_1\", \"drug_Name_2\", ...]\n",
    "  }}\n",
    "\n",
    "  Possible drugs in the product description:\n",
    "  \"\"\"\n",
    "\n",
    "  drugs_list_str = \"\";\n",
    "  for drug in drugs:\n",
    "      drugs_list_str += f\"- {drug}\\n\"\n",
    "      \n",
    "  drug_extractor_prompt += drugs_list_str\n",
    "  \n",
    "  content = llm.invoke(drug_extractor_prompt).content\n",
    "  \n",
    "  return extract_json_data(content)\n",
    "\n",
    "def filter_notification_having_drugs(notifications, drugs):\n",
    "  filtered_notifications = []\n",
    "  for notification in notifications:\n",
    "    if any(drug.lower() in [d.lower() for d in notification.drugs_list] for drug in drugs):\n",
    "      filtered_notifications.append(notification)\n",
    "  return filtered_notifications"
   ]
  },
  {
   "cell_type": "code",
   "execution_count": 81,
   "metadata": {},
   "outputs": [],
   "source": [
    "extracted_drugs = extract_drugs(product_description, drugs)['drugs']\n",
    "filtered_notifications = filter_notification_having_drugs(notifications, extracted_drugs)"
   ]
  },
  {
   "cell_type": "code",
   "execution_count": 82,
   "metadata": {},
   "outputs": [],
   "source": [
    "check_status_prompt = f\"\"\"\n",
    "Check the status of the following drugs in the given notification text:\n",
    "Also consider some of the drugs may be part of a fixed-dose combination (FDC) and may not be mentioned individually.\n",
    "Given product is only banned when present all drugs in fdcs are banned otherwise it is approved.\n",
    "\n",
    "{product_description}\n",
    "\n",
    "Return the status of the drugs in the following structured format:\n",
    "{{\n",
    "  \"status\": \"Banned/Approved\",\n",
    "  \"reason\": \"Reason for the status\"\n",
    "}}\n",
    "\n",
    "Notification Text:\n",
    "\"\"\"\n",
    "\n",
    "for notification in filtered_notifications:\n",
    "    check_status_prompt += f\"\\n{notification.description}\\n\""
   ]
  },
  {
   "cell_type": "code",
   "execution_count": 83,
   "metadata": {},
   "outputs": [
    {
     "name": "stdout",
     "output_type": "stream",
     "text": [
      "{'status': 'Approved', 'reason': 'While the notification bans various FDCs containing Nimesulide and Paracetamol, it does not specifically ban the FDC of Nimesulide 100mg + Paracetamol 500mg.'}\n"
     ]
    }
   ],
   "source": [
    "print(extract_json_data(llm.invoke(check_status_prompt).content))"
   ]
  }
 ],
 "metadata": {
  "kernelspec": {
   "display_name": "base",
   "language": "python",
   "name": "python3"
  },
  "language_info": {
   "codemirror_mode": {
    "name": "ipython",
    "version": 3
   },
   "file_extension": ".py",
   "mimetype": "text/x-python",
   "name": "python",
   "nbconvert_exporter": "python",
   "pygments_lexer": "ipython3",
   "version": "3.12.2"
  }
 },
 "nbformat": 4,
 "nbformat_minor": 2
}
